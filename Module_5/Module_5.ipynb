{
 "cells": [
  {
   "cell_type": "markdown",
   "metadata": {},
   "source": [
    "## Task 5.1"
   ]
  },
  {
   "cell_type": "code",
   "execution_count": 1,
   "metadata": {
    "ExecuteTime": {
     "end_time": "2020-06-25T11:37:19.414361Z",
     "start_time": "2020-06-25T11:37:16.577890Z"
    }
   },
   "outputs": [],
   "source": [
    "import warnings\n",
    "warnings.filterwarnings('ignore')\n",
    "import numpy as np \n",
    "import pandas as pd \n",
    "import seaborn as sns \n",
    "import matplotlib.pyplot as plt\n",
    "%matplotlib inline\n",
    "from math import sqrt"
   ]
  },
  {
   "cell_type": "code",
   "execution_count": 2,
   "metadata": {
    "ExecuteTime": {
     "end_time": "2020-06-25T11:37:19.484942Z",
     "start_time": "2020-06-25T11:37:19.418228Z"
    }
   },
   "outputs": [
    {
     "data": {
      "text/html": [
       "<div>\n",
       "<style scoped>\n",
       "    .dataframe tbody tr th:only-of-type {\n",
       "        vertical-align: middle;\n",
       "    }\n",
       "\n",
       "    .dataframe tbody tr th {\n",
       "        vertical-align: top;\n",
       "    }\n",
       "\n",
       "    .dataframe thead th {\n",
       "        text-align: right;\n",
       "    }\n",
       "</style>\n",
       "<table border=\"1\" class=\"dataframe\">\n",
       "  <thead>\n",
       "    <tr style=\"text-align: right;\">\n",
       "      <th></th>\n",
       "      <th>Symbol</th>\n",
       "      <th>Series</th>\n",
       "      <th>Date</th>\n",
       "      <th>Prev Close</th>\n",
       "      <th>Open Price</th>\n",
       "      <th>High Price</th>\n",
       "      <th>Low Price</th>\n",
       "      <th>Last Price</th>\n",
       "      <th>Close Price</th>\n",
       "      <th>Average Price</th>\n",
       "      <th>Total Traded Quantity</th>\n",
       "      <th>Turnover</th>\n",
       "      <th>No. of Trades</th>\n",
       "      <th>Deliverable Qty</th>\n",
       "      <th>% Dly Qt to Traded Qty</th>\n",
       "    </tr>\n",
       "  </thead>\n",
       "  <tbody>\n",
       "    <tr>\n",
       "      <th>0</th>\n",
       "      <td>TCS</td>\n",
       "      <td>EQ</td>\n",
       "      <td>15-May-2017</td>\n",
       "      <td>2360.65</td>\n",
       "      <td>2375.1</td>\n",
       "      <td>2377.95</td>\n",
       "      <td>2341.60</td>\n",
       "      <td>2368.00</td>\n",
       "      <td>2365.10</td>\n",
       "      <td>2352.60</td>\n",
       "      <td>908802</td>\n",
       "      <td>2.138043e+09</td>\n",
       "      <td>30047</td>\n",
       "      <td>712450</td>\n",
       "      <td>78.39</td>\n",
       "    </tr>\n",
       "    <tr>\n",
       "      <th>1</th>\n",
       "      <td>TCS</td>\n",
       "      <td>EQ</td>\n",
       "      <td>16-May-2017</td>\n",
       "      <td>2365.10</td>\n",
       "      <td>2380.0</td>\n",
       "      <td>2435.00</td>\n",
       "      <td>2373.45</td>\n",
       "      <td>2425.10</td>\n",
       "      <td>2429.15</td>\n",
       "      <td>2410.26</td>\n",
       "      <td>1800513</td>\n",
       "      <td>4.339703e+09</td>\n",
       "      <td>58476</td>\n",
       "      <td>1167534</td>\n",
       "      <td>64.84</td>\n",
       "    </tr>\n",
       "    <tr>\n",
       "      <th>2</th>\n",
       "      <td>TCS</td>\n",
       "      <td>EQ</td>\n",
       "      <td>17-May-2017</td>\n",
       "      <td>2429.15</td>\n",
       "      <td>2433.5</td>\n",
       "      <td>2460.75</td>\n",
       "      <td>2423.00</td>\n",
       "      <td>2450.00</td>\n",
       "      <td>2455.35</td>\n",
       "      <td>2443.31</td>\n",
       "      <td>1438099</td>\n",
       "      <td>3.513729e+09</td>\n",
       "      <td>86412</td>\n",
       "      <td>1031752</td>\n",
       "      <td>71.74</td>\n",
       "    </tr>\n",
       "    <tr>\n",
       "      <th>3</th>\n",
       "      <td>TCS</td>\n",
       "      <td>EQ</td>\n",
       "      <td>18-May-2017</td>\n",
       "      <td>2455.35</td>\n",
       "      <td>2450.0</td>\n",
       "      <td>2572.00</td>\n",
       "      <td>2442.25</td>\n",
       "      <td>2525.00</td>\n",
       "      <td>2536.20</td>\n",
       "      <td>2525.78</td>\n",
       "      <td>2569297</td>\n",
       "      <td>6.489478e+09</td>\n",
       "      <td>111566</td>\n",
       "      <td>1135613</td>\n",
       "      <td>44.20</td>\n",
       "    </tr>\n",
       "    <tr>\n",
       "      <th>4</th>\n",
       "      <td>TCS</td>\n",
       "      <td>EQ</td>\n",
       "      <td>19-May-2017</td>\n",
       "      <td>2536.20</td>\n",
       "      <td>2536.2</td>\n",
       "      <td>2540.55</td>\n",
       "      <td>2486.00</td>\n",
       "      <td>2503.85</td>\n",
       "      <td>2507.15</td>\n",
       "      <td>2506.58</td>\n",
       "      <td>893022</td>\n",
       "      <td>2.238430e+09</td>\n",
       "      <td>63112</td>\n",
       "      <td>517461</td>\n",
       "      <td>57.94</td>\n",
       "    </tr>\n",
       "  </tbody>\n",
       "</table>\n",
       "</div>"
      ],
      "text/plain": [
       "  Symbol Series         Date  Prev Close  Open Price  High Price  Low Price  \\\n",
       "0    TCS     EQ  15-May-2017     2360.65      2375.1     2377.95    2341.60   \n",
       "1    TCS     EQ  16-May-2017     2365.10      2380.0     2435.00    2373.45   \n",
       "2    TCS     EQ  17-May-2017     2429.15      2433.5     2460.75    2423.00   \n",
       "3    TCS     EQ  18-May-2017     2455.35      2450.0     2572.00    2442.25   \n",
       "4    TCS     EQ  19-May-2017     2536.20      2536.2     2540.55    2486.00   \n",
       "\n",
       "   Last Price  Close Price  Average Price  Total Traded Quantity  \\\n",
       "0     2368.00      2365.10        2352.60                 908802   \n",
       "1     2425.10      2429.15        2410.26                1800513   \n",
       "2     2450.00      2455.35        2443.31                1438099   \n",
       "3     2525.00      2536.20        2525.78                2569297   \n",
       "4     2503.85      2507.15        2506.58                 893022   \n",
       "\n",
       "       Turnover  No. of Trades  Deliverable Qty  % Dly Qt to Traded Qty  \n",
       "0  2.138043e+09          30047           712450                   78.39  \n",
       "1  4.339703e+09          58476          1167534                   64.84  \n",
       "2  3.513729e+09          86412          1031752                   71.74  \n",
       "3  6.489478e+09         111566          1135613                   44.20  \n",
       "4  2.238430e+09          63112           517461                   57.94  "
      ]
     },
     "execution_count": 2,
     "metadata": {},
     "output_type": "execute_result"
    }
   ],
   "source": [
    "df = pd.read_csv('../Module 1/TCS.csv')\n",
    "df.head()"
   ]
  },
  {
   "cell_type": "code",
   "execution_count": 3,
   "metadata": {
    "ExecuteTime": {
     "end_time": "2020-06-25T11:37:19.503680Z",
     "start_time": "2020-06-25T11:37:19.486975Z"
    }
   },
   "outputs": [
    {
     "data": {
      "text/plain": [
       "(494, 15)"
      ]
     },
     "execution_count": 3,
     "metadata": {},
     "output_type": "execute_result"
    }
   ],
   "source": [
    "df = df[df.Series == 'EQ']\n",
    "df.shape"
   ]
  },
  {
   "cell_type": "code",
   "execution_count": 4,
   "metadata": {
    "ExecuteTime": {
     "end_time": "2020-06-25T11:37:19.674484Z",
     "start_time": "2020-06-25T11:37:19.512832Z"
    }
   },
   "outputs": [
    {
     "data": {
      "text/html": [
       "<div>\n",
       "<style scoped>\n",
       "    .dataframe tbody tr th:only-of-type {\n",
       "        vertical-align: middle;\n",
       "    }\n",
       "\n",
       "    .dataframe tbody tr th {\n",
       "        vertical-align: top;\n",
       "    }\n",
       "\n",
       "    .dataframe thead th {\n",
       "        text-align: right;\n",
       "    }\n",
       "</style>\n",
       "<table border=\"1\" class=\"dataframe\">\n",
       "  <thead>\n",
       "    <tr style=\"text-align: right;\">\n",
       "      <th></th>\n",
       "      <th>Symbol</th>\n",
       "      <th>Series</th>\n",
       "      <th>Prev Close</th>\n",
       "      <th>Open Price</th>\n",
       "      <th>High Price</th>\n",
       "      <th>Low Price</th>\n",
       "      <th>Last Price</th>\n",
       "      <th>Close Price</th>\n",
       "      <th>Average Price</th>\n",
       "      <th>Total Traded Quantity</th>\n",
       "      <th>Turnover</th>\n",
       "      <th>No. of Trades</th>\n",
       "      <th>Deliverable Qty</th>\n",
       "      <th>% Dly Qt to Traded Qty</th>\n",
       "    </tr>\n",
       "  </thead>\n",
       "  <tbody>\n",
       "    <tr>\n",
       "      <th>2017-05-15</th>\n",
       "      <td>TCS</td>\n",
       "      <td>EQ</td>\n",
       "      <td>2360.65</td>\n",
       "      <td>2375.1</td>\n",
       "      <td>2377.95</td>\n",
       "      <td>2341.60</td>\n",
       "      <td>2368.00</td>\n",
       "      <td>2365.10</td>\n",
       "      <td>2352.60</td>\n",
       "      <td>908802</td>\n",
       "      <td>2.138043e+09</td>\n",
       "      <td>30047</td>\n",
       "      <td>712450</td>\n",
       "      <td>78.39</td>\n",
       "    </tr>\n",
       "    <tr>\n",
       "      <th>2017-05-16</th>\n",
       "      <td>TCS</td>\n",
       "      <td>EQ</td>\n",
       "      <td>2365.10</td>\n",
       "      <td>2380.0</td>\n",
       "      <td>2435.00</td>\n",
       "      <td>2373.45</td>\n",
       "      <td>2425.10</td>\n",
       "      <td>2429.15</td>\n",
       "      <td>2410.26</td>\n",
       "      <td>1800513</td>\n",
       "      <td>4.339703e+09</td>\n",
       "      <td>58476</td>\n",
       "      <td>1167534</td>\n",
       "      <td>64.84</td>\n",
       "    </tr>\n",
       "    <tr>\n",
       "      <th>2017-05-17</th>\n",
       "      <td>TCS</td>\n",
       "      <td>EQ</td>\n",
       "      <td>2429.15</td>\n",
       "      <td>2433.5</td>\n",
       "      <td>2460.75</td>\n",
       "      <td>2423.00</td>\n",
       "      <td>2450.00</td>\n",
       "      <td>2455.35</td>\n",
       "      <td>2443.31</td>\n",
       "      <td>1438099</td>\n",
       "      <td>3.513729e+09</td>\n",
       "      <td>86412</td>\n",
       "      <td>1031752</td>\n",
       "      <td>71.74</td>\n",
       "    </tr>\n",
       "    <tr>\n",
       "      <th>2017-05-18</th>\n",
       "      <td>TCS</td>\n",
       "      <td>EQ</td>\n",
       "      <td>2455.35</td>\n",
       "      <td>2450.0</td>\n",
       "      <td>2572.00</td>\n",
       "      <td>2442.25</td>\n",
       "      <td>2525.00</td>\n",
       "      <td>2536.20</td>\n",
       "      <td>2525.78</td>\n",
       "      <td>2569297</td>\n",
       "      <td>6.489478e+09</td>\n",
       "      <td>111566</td>\n",
       "      <td>1135613</td>\n",
       "      <td>44.20</td>\n",
       "    </tr>\n",
       "    <tr>\n",
       "      <th>2017-05-19</th>\n",
       "      <td>TCS</td>\n",
       "      <td>EQ</td>\n",
       "      <td>2536.20</td>\n",
       "      <td>2536.2</td>\n",
       "      <td>2540.55</td>\n",
       "      <td>2486.00</td>\n",
       "      <td>2503.85</td>\n",
       "      <td>2507.15</td>\n",
       "      <td>2506.58</td>\n",
       "      <td>893022</td>\n",
       "      <td>2.238430e+09</td>\n",
       "      <td>63112</td>\n",
       "      <td>517461</td>\n",
       "      <td>57.94</td>\n",
       "    </tr>\n",
       "  </tbody>\n",
       "</table>\n",
       "</div>"
      ],
      "text/plain": [
       "           Symbol Series  Prev Close  Open Price  High Price  Low Price  \\\n",
       "2017-05-15    TCS     EQ     2360.65      2375.1     2377.95    2341.60   \n",
       "2017-05-16    TCS     EQ     2365.10      2380.0     2435.00    2373.45   \n",
       "2017-05-17    TCS     EQ     2429.15      2433.5     2460.75    2423.00   \n",
       "2017-05-18    TCS     EQ     2455.35      2450.0     2572.00    2442.25   \n",
       "2017-05-19    TCS     EQ     2536.20      2536.2     2540.55    2486.00   \n",
       "\n",
       "            Last Price  Close Price  Average Price  Total Traded Quantity  \\\n",
       "2017-05-15     2368.00      2365.10        2352.60                 908802   \n",
       "2017-05-16     2425.10      2429.15        2410.26                1800513   \n",
       "2017-05-17     2450.00      2455.35        2443.31                1438099   \n",
       "2017-05-18     2525.00      2536.20        2525.78                2569297   \n",
       "2017-05-19     2503.85      2507.15        2506.58                 893022   \n",
       "\n",
       "                Turnover  No. of Trades  Deliverable Qty  \\\n",
       "2017-05-15  2.138043e+09          30047           712450   \n",
       "2017-05-16  4.339703e+09          58476          1167534   \n",
       "2017-05-17  3.513729e+09          86412          1031752   \n",
       "2017-05-18  6.489478e+09         111566          1135613   \n",
       "2017-05-19  2.238430e+09          63112           517461   \n",
       "\n",
       "            % Dly Qt to Traded Qty  \n",
       "2017-05-15                   78.39  \n",
       "2017-05-16                   64.84  \n",
       "2017-05-17                   71.74  \n",
       "2017-05-18                   44.20  \n",
       "2017-05-19                   57.94  "
      ]
     },
     "execution_count": 4,
     "metadata": {},
     "output_type": "execute_result"
    }
   ],
   "source": [
    "df['Date'] = pd.to_datetime(df['Date'])\n",
    "df = df.set_index('Date')\n",
    "df.rename_axis(None, inplace=True)\n",
    "df.head()"
   ]
  },
  {
   "cell_type": "code",
   "execution_count": 5,
   "metadata": {
    "ExecuteTime": {
     "end_time": "2020-06-25T11:37:19.757518Z",
     "start_time": "2020-06-25T11:37:19.680551Z"
    }
   },
   "outputs": [
    {
     "data": {
      "text/html": [
       "<div>\n",
       "<style scoped>\n",
       "    .dataframe tbody tr th:only-of-type {\n",
       "        vertical-align: middle;\n",
       "    }\n",
       "\n",
       "    .dataframe tbody tr th {\n",
       "        vertical-align: top;\n",
       "    }\n",
       "\n",
       "    .dataframe thead th {\n",
       "        text-align: right;\n",
       "    }\n",
       "</style>\n",
       "<table border=\"1\" class=\"dataframe\">\n",
       "  <thead>\n",
       "    <tr style=\"text-align: right;\">\n",
       "      <th></th>\n",
       "      <th>Symbol</th>\n",
       "      <th>Series</th>\n",
       "      <th>Prev Close</th>\n",
       "      <th>Open Price</th>\n",
       "      <th>High Price</th>\n",
       "      <th>Low Price</th>\n",
       "      <th>Last Price</th>\n",
       "      <th>Close Price</th>\n",
       "      <th>Average Price</th>\n",
       "      <th>Total Traded Quantity</th>\n",
       "      <th>Turnover</th>\n",
       "      <th>No. of Trades</th>\n",
       "      <th>Deliverable Qty</th>\n",
       "      <th>% Dly Qt to Traded Qty</th>\n",
       "      <th>Daily Return</th>\n",
       "    </tr>\n",
       "  </thead>\n",
       "  <tbody>\n",
       "    <tr>\n",
       "      <th>2017-05-16</th>\n",
       "      <td>TCS</td>\n",
       "      <td>EQ</td>\n",
       "      <td>2365.10</td>\n",
       "      <td>2380.0</td>\n",
       "      <td>2435.00</td>\n",
       "      <td>2373.45</td>\n",
       "      <td>2425.10</td>\n",
       "      <td>2429.15</td>\n",
       "      <td>2410.26</td>\n",
       "      <td>1800513</td>\n",
       "      <td>4.339703e+09</td>\n",
       "      <td>58476</td>\n",
       "      <td>1167534</td>\n",
       "      <td>64.84</td>\n",
       "      <td>2.708131</td>\n",
       "    </tr>\n",
       "    <tr>\n",
       "      <th>2017-05-17</th>\n",
       "      <td>TCS</td>\n",
       "      <td>EQ</td>\n",
       "      <td>2429.15</td>\n",
       "      <td>2433.5</td>\n",
       "      <td>2460.75</td>\n",
       "      <td>2423.00</td>\n",
       "      <td>2450.00</td>\n",
       "      <td>2455.35</td>\n",
       "      <td>2443.31</td>\n",
       "      <td>1438099</td>\n",
       "      <td>3.513729e+09</td>\n",
       "      <td>86412</td>\n",
       "      <td>1031752</td>\n",
       "      <td>71.74</td>\n",
       "      <td>1.078567</td>\n",
       "    </tr>\n",
       "    <tr>\n",
       "      <th>2017-05-18</th>\n",
       "      <td>TCS</td>\n",
       "      <td>EQ</td>\n",
       "      <td>2455.35</td>\n",
       "      <td>2450.0</td>\n",
       "      <td>2572.00</td>\n",
       "      <td>2442.25</td>\n",
       "      <td>2525.00</td>\n",
       "      <td>2536.20</td>\n",
       "      <td>2525.78</td>\n",
       "      <td>2569297</td>\n",
       "      <td>6.489478e+09</td>\n",
       "      <td>111566</td>\n",
       "      <td>1135613</td>\n",
       "      <td>44.20</td>\n",
       "      <td>3.292810</td>\n",
       "    </tr>\n",
       "    <tr>\n",
       "      <th>2017-05-19</th>\n",
       "      <td>TCS</td>\n",
       "      <td>EQ</td>\n",
       "      <td>2536.20</td>\n",
       "      <td>2536.2</td>\n",
       "      <td>2540.55</td>\n",
       "      <td>2486.00</td>\n",
       "      <td>2503.85</td>\n",
       "      <td>2507.15</td>\n",
       "      <td>2506.58</td>\n",
       "      <td>893022</td>\n",
       "      <td>2.238430e+09</td>\n",
       "      <td>63112</td>\n",
       "      <td>517461</td>\n",
       "      <td>57.94</td>\n",
       "      <td>-1.145414</td>\n",
       "    </tr>\n",
       "    <tr>\n",
       "      <th>2017-05-22</th>\n",
       "      <td>TCS</td>\n",
       "      <td>EQ</td>\n",
       "      <td>2507.15</td>\n",
       "      <td>2510.0</td>\n",
       "      <td>2553.75</td>\n",
       "      <td>2510.00</td>\n",
       "      <td>2535.00</td>\n",
       "      <td>2531.35</td>\n",
       "      <td>2530.69</td>\n",
       "      <td>831970</td>\n",
       "      <td>2.105461e+09</td>\n",
       "      <td>53261</td>\n",
       "      <td>509741</td>\n",
       "      <td>61.27</td>\n",
       "      <td>0.965239</td>\n",
       "    </tr>\n",
       "  </tbody>\n",
       "</table>\n",
       "</div>"
      ],
      "text/plain": [
       "           Symbol Series  Prev Close  Open Price  High Price  Low Price  \\\n",
       "2017-05-16    TCS     EQ     2365.10      2380.0     2435.00    2373.45   \n",
       "2017-05-17    TCS     EQ     2429.15      2433.5     2460.75    2423.00   \n",
       "2017-05-18    TCS     EQ     2455.35      2450.0     2572.00    2442.25   \n",
       "2017-05-19    TCS     EQ     2536.20      2536.2     2540.55    2486.00   \n",
       "2017-05-22    TCS     EQ     2507.15      2510.0     2553.75    2510.00   \n",
       "\n",
       "            Last Price  Close Price  Average Price  Total Traded Quantity  \\\n",
       "2017-05-16     2425.10      2429.15        2410.26                1800513   \n",
       "2017-05-17     2450.00      2455.35        2443.31                1438099   \n",
       "2017-05-18     2525.00      2536.20        2525.78                2569297   \n",
       "2017-05-19     2503.85      2507.15        2506.58                 893022   \n",
       "2017-05-22     2535.00      2531.35        2530.69                 831970   \n",
       "\n",
       "                Turnover  No. of Trades  Deliverable Qty  \\\n",
       "2017-05-16  4.339703e+09          58476          1167534   \n",
       "2017-05-17  3.513729e+09          86412          1031752   \n",
       "2017-05-18  6.489478e+09         111566          1135613   \n",
       "2017-05-19  2.238430e+09          63112           517461   \n",
       "2017-05-22  2.105461e+09          53261           509741   \n",
       "\n",
       "            % Dly Qt to Traded Qty  Daily Return  \n",
       "2017-05-16                   64.84      2.708131  \n",
       "2017-05-17                   71.74      1.078567  \n",
       "2017-05-18                   44.20      3.292810  \n",
       "2017-05-19                   57.94     -1.145414  \n",
       "2017-05-22                   61.27      0.965239  "
      ]
     },
     "execution_count": 5,
     "metadata": {},
     "output_type": "execute_result"
    }
   ],
   "source": [
    "df['Daily Return'] = df['Close Price'].pct_change()*100\n",
    "df.dropna(inplace = True)\n",
    "df.head()"
   ]
  },
  {
   "cell_type": "code",
   "execution_count": 6,
   "metadata": {
    "ExecuteTime": {
     "end_time": "2020-06-25T11:37:19.778004Z",
     "start_time": "2020-06-25T11:37:19.762620Z"
    }
   },
   "outputs": [
    {
     "name": "stdout",
     "output_type": "stream",
     "text": [
      "0.02977261015036365 2.7189323116884423\n"
     ]
    }
   ],
   "source": [
    "mean_daily_return = df['Daily Return'].mean()\n",
    "std_daily_return = df['Daily Return'].std()\n",
    "print(mean_daily_return,std_daily_return)"
   ]
  },
  {
   "cell_type": "code",
   "execution_count": 7,
   "metadata": {
    "ExecuteTime": {
     "end_time": "2020-06-25T11:37:19.789832Z",
     "start_time": "2020-06-25T11:37:19.782896Z"
    }
   },
   "outputs": [],
   "source": [
    "annual_mean = mean_daily_return *252\n",
    "annual_std = std_daily_return* sqrt(252)"
   ]
  },
  {
   "cell_type": "code",
   "execution_count": 8,
   "metadata": {
    "ExecuteTime": {
     "end_time": "2020-06-25T11:37:19.809061Z",
     "start_time": "2020-06-25T11:37:19.794639Z"
    }
   },
   "outputs": [
    {
     "name": "stdout",
     "output_type": "stream",
     "text": [
      "The mean expected annual return of the stock TCS is: 7.5 \n",
      "And the volatility is: 43.16\n"
     ]
    }
   ],
   "source": [
    "print('The mean expected annual return of the stock TCS is:', round(annual_mean,2),\n",
    "     '\\nAnd the volatility is:', round(annual_std,2))"
   ]
  },
  {
   "cell_type": "markdown",
   "metadata": {},
   "source": [
    "## Task 5.2"
   ]
  },
  {
   "cell_type": "code",
   "execution_count": 9,
   "metadata": {
    "ExecuteTime": {
     "end_time": "2020-06-25T11:37:19.939422Z",
     "start_time": "2020-06-25T11:37:19.815947Z"
    }
   },
   "outputs": [],
   "source": [
    "df_1 = pd.read_csv('../Stocks/Large_Cap/RELIANCE.csv')\n",
    "df_2 = pd.read_csv('../Stocks/Large_Cap/MARUTI.csv')\n",
    "df_3 = pd.read_csv('../Stocks/Mid_Cap/RBLBANK.csv')\n",
    "df_4 = pd.read_csv('../Stocks/Mid_Cap/MINDTREE.csv')\n",
    "df_5 = pd.read_csv('../Stocks/Small_Cap/FORTIS.csv')"
   ]
  },
  {
   "cell_type": "code",
   "execution_count": 10,
   "metadata": {
    "ExecuteTime": {
     "end_time": "2020-06-25T11:37:19.960067Z",
     "start_time": "2020-06-25T11:37:19.943903Z"
    }
   },
   "outputs": [],
   "source": [
    "def pre_process(df):\n",
    "    df = df[df.Series == 'EQ']\n",
    "    df['Date'] = pd.to_datetime(df['Date'])\n",
    "    df = df.set_index('Date')\n",
    "    df.rename_axis(None, inplace=True)\n",
    "    df['Daily_Return'] = df['Close Price'].pct_change()*100\n",
    "    df.dropna(inplace = True)\n",
    "    return df"
   ]
  },
  {
   "cell_type": "code",
   "execution_count": 11,
   "metadata": {
    "ExecuteTime": {
     "end_time": "2020-06-25T11:37:20.157360Z",
     "start_time": "2020-06-25T11:37:19.965824Z"
    }
   },
   "outputs": [
    {
     "data": {
      "text/html": [
       "<div>\n",
       "<style scoped>\n",
       "    .dataframe tbody tr th:only-of-type {\n",
       "        vertical-align: middle;\n",
       "    }\n",
       "\n",
       "    .dataframe tbody tr th {\n",
       "        vertical-align: top;\n",
       "    }\n",
       "\n",
       "    .dataframe thead th {\n",
       "        text-align: right;\n",
       "    }\n",
       "</style>\n",
       "<table border=\"1\" class=\"dataframe\">\n",
       "  <thead>\n",
       "    <tr style=\"text-align: right;\">\n",
       "      <th></th>\n",
       "      <th>Symbol</th>\n",
       "      <th>Series</th>\n",
       "      <th>Prev Close</th>\n",
       "      <th>Open Price</th>\n",
       "      <th>High Price</th>\n",
       "      <th>Low Price</th>\n",
       "      <th>Last Price</th>\n",
       "      <th>Close Price</th>\n",
       "      <th>Average Price</th>\n",
       "      <th>Total Traded Quantity</th>\n",
       "      <th>Turnover</th>\n",
       "      <th>No. of Trades</th>\n",
       "      <th>Deliverable Qty</th>\n",
       "      <th>% Dly Qt to Traded Qty</th>\n",
       "      <th>Daily_Return</th>\n",
       "    </tr>\n",
       "  </thead>\n",
       "  <tbody>\n",
       "    <tr>\n",
       "      <th>2017-05-16</th>\n",
       "      <td>RELIANCE</td>\n",
       "      <td>EQ</td>\n",
       "      <td>1344.10</td>\n",
       "      <td>1346.05</td>\n",
       "      <td>1376.90</td>\n",
       "      <td>1341.00</td>\n",
       "      <td>1356.20</td>\n",
       "      <td>1356.30</td>\n",
       "      <td>1360.59</td>\n",
       "      <td>2892947</td>\n",
       "      <td>3.936121e+09</td>\n",
       "      <td>79767</td>\n",
       "      <td>1238129</td>\n",
       "      <td>42.80</td>\n",
       "      <td>0.907671</td>\n",
       "    </tr>\n",
       "    <tr>\n",
       "      <th>2017-05-17</th>\n",
       "      <td>RELIANCE</td>\n",
       "      <td>EQ</td>\n",
       "      <td>1356.30</td>\n",
       "      <td>1353.00</td>\n",
       "      <td>1365.95</td>\n",
       "      <td>1347.75</td>\n",
       "      <td>1350.00</td>\n",
       "      <td>1353.10</td>\n",
       "      <td>1354.16</td>\n",
       "      <td>2250304</td>\n",
       "      <td>3.047263e+09</td>\n",
       "      <td>56277</td>\n",
       "      <td>1225837</td>\n",
       "      <td>54.47</td>\n",
       "      <td>-0.235936</td>\n",
       "    </tr>\n",
       "    <tr>\n",
       "      <th>2017-05-18</th>\n",
       "      <td>RELIANCE</td>\n",
       "      <td>EQ</td>\n",
       "      <td>1353.10</td>\n",
       "      <td>1340.25</td>\n",
       "      <td>1350.00</td>\n",
       "      <td>1324.10</td>\n",
       "      <td>1327.45</td>\n",
       "      <td>1327.35</td>\n",
       "      <td>1336.14</td>\n",
       "      <td>2237916</td>\n",
       "      <td>2.990178e+09</td>\n",
       "      <td>84723</td>\n",
       "      <td>1339478</td>\n",
       "      <td>59.85</td>\n",
       "      <td>-1.903037</td>\n",
       "    </tr>\n",
       "    <tr>\n",
       "      <th>2017-05-19</th>\n",
       "      <td>RELIANCE</td>\n",
       "      <td>EQ</td>\n",
       "      <td>1327.35</td>\n",
       "      <td>1333.00</td>\n",
       "      <td>1335.70</td>\n",
       "      <td>1310.00</td>\n",
       "      <td>1318.20</td>\n",
       "      <td>1318.85</td>\n",
       "      <td>1321.99</td>\n",
       "      <td>2928883</td>\n",
       "      <td>3.871940e+09</td>\n",
       "      <td>115988</td>\n",
       "      <td>1444387</td>\n",
       "      <td>49.32</td>\n",
       "      <td>-0.640374</td>\n",
       "    </tr>\n",
       "    <tr>\n",
       "      <th>2017-05-22</th>\n",
       "      <td>RELIANCE</td>\n",
       "      <td>EQ</td>\n",
       "      <td>1318.85</td>\n",
       "      <td>1326.50</td>\n",
       "      <td>1333.60</td>\n",
       "      <td>1315.20</td>\n",
       "      <td>1326.00</td>\n",
       "      <td>1324.15</td>\n",
       "      <td>1322.82</td>\n",
       "      <td>2011859</td>\n",
       "      <td>2.661318e+09</td>\n",
       "      <td>89828</td>\n",
       "      <td>1123947</td>\n",
       "      <td>55.87</td>\n",
       "      <td>0.401865</td>\n",
       "    </tr>\n",
       "  </tbody>\n",
       "</table>\n",
       "</div>"
      ],
      "text/plain": [
       "              Symbol Series  Prev Close  Open Price  High Price  Low Price  \\\n",
       "2017-05-16  RELIANCE     EQ     1344.10     1346.05     1376.90    1341.00   \n",
       "2017-05-17  RELIANCE     EQ     1356.30     1353.00     1365.95    1347.75   \n",
       "2017-05-18  RELIANCE     EQ     1353.10     1340.25     1350.00    1324.10   \n",
       "2017-05-19  RELIANCE     EQ     1327.35     1333.00     1335.70    1310.00   \n",
       "2017-05-22  RELIANCE     EQ     1318.85     1326.50     1333.60    1315.20   \n",
       "\n",
       "            Last Price  Close Price  Average Price  Total Traded Quantity  \\\n",
       "2017-05-16     1356.20      1356.30        1360.59                2892947   \n",
       "2017-05-17     1350.00      1353.10        1354.16                2250304   \n",
       "2017-05-18     1327.45      1327.35        1336.14                2237916   \n",
       "2017-05-19     1318.20      1318.85        1321.99                2928883   \n",
       "2017-05-22     1326.00      1324.15        1322.82                2011859   \n",
       "\n",
       "                Turnover  No. of Trades  Deliverable Qty  \\\n",
       "2017-05-16  3.936121e+09          79767          1238129   \n",
       "2017-05-17  3.047263e+09          56277          1225837   \n",
       "2017-05-18  2.990178e+09          84723          1339478   \n",
       "2017-05-19  3.871940e+09         115988          1444387   \n",
       "2017-05-22  2.661318e+09          89828          1123947   \n",
       "\n",
       "            % Dly Qt to Traded Qty  Daily_Return  \n",
       "2017-05-16                   42.80      0.907671  \n",
       "2017-05-17                   54.47     -0.235936  \n",
       "2017-05-18                   59.85     -1.903037  \n",
       "2017-05-19                   49.32     -0.640374  \n",
       "2017-05-22                   55.87      0.401865  "
      ]
     },
     "execution_count": 11,
     "metadata": {},
     "output_type": "execute_result"
    }
   ],
   "source": [
    "df_1 = pre_process(df_1)\n",
    "df_1.head()"
   ]
  },
  {
   "cell_type": "code",
   "execution_count": 12,
   "metadata": {
    "ExecuteTime": {
     "end_time": "2020-06-25T11:37:20.656560Z",
     "start_time": "2020-06-25T11:37:20.162364Z"
    }
   },
   "outputs": [],
   "source": [
    "df_2 = pre_process(df_2)\n",
    "df_3 = pre_process(df_3)\n",
    "df_4 = pre_process(df_4)\n",
    "df_5 = pre_process(df_5)"
   ]
  },
  {
   "cell_type": "code",
   "execution_count": 13,
   "metadata": {
    "ExecuteTime": {
     "end_time": "2020-06-25T11:37:20.679835Z",
     "start_time": "2020-06-25T11:37:20.657603Z"
    }
   },
   "outputs": [
    {
     "data": {
      "text/plain": [
       "['RELIANCE', 'MARUTI', 'RBLBANK', 'MINDTREE', 'FORTIS']"
      ]
     },
     "execution_count": 13,
     "metadata": {},
     "output_type": "execute_result"
    }
   ],
   "source": [
    "df_list = [df_1, df_2, df_3, df_4, df_5]\n",
    "names = []\n",
    "for df_x in df_list:\n",
    "    names.append(df_x.Symbol.unique().tolist())\n",
    "names = [item for sublist in names for item in sublist]\n",
    "names"
   ]
  },
  {
   "cell_type": "code",
   "execution_count": 14,
   "metadata": {
    "ExecuteTime": {
     "end_time": "2020-06-25T11:37:20.738069Z",
     "start_time": "2020-06-25T11:37:20.687582Z"
    }
   },
   "outputs": [
    {
     "data": {
      "text/html": [
       "<div>\n",
       "<style scoped>\n",
       "    .dataframe tbody tr th:only-of-type {\n",
       "        vertical-align: middle;\n",
       "    }\n",
       "\n",
       "    .dataframe tbody tr th {\n",
       "        vertical-align: top;\n",
       "    }\n",
       "\n",
       "    .dataframe thead th {\n",
       "        text-align: right;\n",
       "    }\n",
       "</style>\n",
       "<table border=\"1\" class=\"dataframe\">\n",
       "  <thead>\n",
       "    <tr style=\"text-align: right;\">\n",
       "      <th></th>\n",
       "      <th>RELIANCE</th>\n",
       "      <th>MARUTI</th>\n",
       "      <th>RBLBANK</th>\n",
       "      <th>MINDTREE</th>\n",
       "      <th>FORTIS</th>\n",
       "    </tr>\n",
       "  </thead>\n",
       "  <tbody>\n",
       "    <tr>\n",
       "      <th>2017-05-16</th>\n",
       "      <td>1356.30</td>\n",
       "      <td>6953.95</td>\n",
       "      <td>562.60</td>\n",
       "      <td>511.30</td>\n",
       "      <td>207.90</td>\n",
       "    </tr>\n",
       "    <tr>\n",
       "      <th>2017-05-17</th>\n",
       "      <td>1353.10</td>\n",
       "      <td>6958.20</td>\n",
       "      <td>564.25</td>\n",
       "      <td>506.35</td>\n",
       "      <td>205.90</td>\n",
       "    </tr>\n",
       "    <tr>\n",
       "      <th>2017-05-18</th>\n",
       "      <td>1327.35</td>\n",
       "      <td>6831.05</td>\n",
       "      <td>552.15</td>\n",
       "      <td>492.90</td>\n",
       "      <td>196.85</td>\n",
       "    </tr>\n",
       "    <tr>\n",
       "      <th>2017-05-19</th>\n",
       "      <td>1318.85</td>\n",
       "      <td>6790.55</td>\n",
       "      <td>555.45</td>\n",
       "      <td>497.50</td>\n",
       "      <td>203.55</td>\n",
       "    </tr>\n",
       "    <tr>\n",
       "      <th>2017-05-22</th>\n",
       "      <td>1324.15</td>\n",
       "      <td>6701.70</td>\n",
       "      <td>544.85</td>\n",
       "      <td>502.35</td>\n",
       "      <td>194.80</td>\n",
       "    </tr>\n",
       "  </tbody>\n",
       "</table>\n",
       "</div>"
      ],
      "text/plain": [
       "            RELIANCE   MARUTI  RBLBANK  MINDTREE  FORTIS\n",
       "2017-05-16   1356.30  6953.95   562.60    511.30  207.90\n",
       "2017-05-17   1353.10  6958.20   564.25    506.35  205.90\n",
       "2017-05-18   1327.35  6831.05   552.15    492.90  196.85\n",
       "2017-05-19   1318.85  6790.55   555.45    497.50  203.55\n",
       "2017-05-22   1324.15  6701.70   544.85    502.35  194.80"
      ]
     },
     "execution_count": 14,
     "metadata": {},
     "output_type": "execute_result"
    }
   ],
   "source": [
    "df_all = pd.concat([df_1['Close Price'],df_2['Close Price'],df_3['Close Price'],df_4['Close Price'],df_5['Close Price']], axis=1)\n",
    "df_all.columns = names\n",
    "df_all.head()"
   ]
  },
  {
   "cell_type": "code",
   "execution_count": 15,
   "metadata": {
    "ExecuteTime": {
     "end_time": "2020-06-25T11:37:20.791592Z",
     "start_time": "2020-06-25T11:37:20.743745Z"
    }
   },
   "outputs": [
    {
     "data": {
      "text/html": [
       "<div>\n",
       "<style scoped>\n",
       "    .dataframe tbody tr th:only-of-type {\n",
       "        vertical-align: middle;\n",
       "    }\n",
       "\n",
       "    .dataframe tbody tr th {\n",
       "        vertical-align: top;\n",
       "    }\n",
       "\n",
       "    .dataframe thead th {\n",
       "        text-align: right;\n",
       "    }\n",
       "</style>\n",
       "<table border=\"1\" class=\"dataframe\">\n",
       "  <thead>\n",
       "    <tr style=\"text-align: right;\">\n",
       "      <th></th>\n",
       "      <th>RELIANCE</th>\n",
       "      <th>MARUTI</th>\n",
       "      <th>RBLBANK</th>\n",
       "      <th>MINDTREE</th>\n",
       "      <th>FORTIS</th>\n",
       "    </tr>\n",
       "  </thead>\n",
       "  <tbody>\n",
       "    <tr>\n",
       "      <th>2017-05-17</th>\n",
       "      <td>-0.235936</td>\n",
       "      <td>0.061116</td>\n",
       "      <td>0.293281</td>\n",
       "      <td>-0.968120</td>\n",
       "      <td>-0.962001</td>\n",
       "    </tr>\n",
       "    <tr>\n",
       "      <th>2017-05-18</th>\n",
       "      <td>-1.903037</td>\n",
       "      <td>-1.827340</td>\n",
       "      <td>-2.144440</td>\n",
       "      <td>-2.656265</td>\n",
       "      <td>-4.395338</td>\n",
       "    </tr>\n",
       "    <tr>\n",
       "      <th>2017-05-19</th>\n",
       "      <td>-0.640374</td>\n",
       "      <td>-0.592881</td>\n",
       "      <td>0.597664</td>\n",
       "      <td>0.933252</td>\n",
       "      <td>3.403607</td>\n",
       "    </tr>\n",
       "    <tr>\n",
       "      <th>2017-05-22</th>\n",
       "      <td>0.401865</td>\n",
       "      <td>-1.308436</td>\n",
       "      <td>-1.908363</td>\n",
       "      <td>0.974874</td>\n",
       "      <td>-4.298698</td>\n",
       "    </tr>\n",
       "    <tr>\n",
       "      <th>2017-05-23</th>\n",
       "      <td>-1.404675</td>\n",
       "      <td>2.643359</td>\n",
       "      <td>-3.734973</td>\n",
       "      <td>-0.238877</td>\n",
       "      <td>0.898357</td>\n",
       "    </tr>\n",
       "  </tbody>\n",
       "</table>\n",
       "</div>"
      ],
      "text/plain": [
       "            RELIANCE    MARUTI   RBLBANK  MINDTREE    FORTIS\n",
       "2017-05-17 -0.235936  0.061116  0.293281 -0.968120 -0.962001\n",
       "2017-05-18 -1.903037 -1.827340 -2.144440 -2.656265 -4.395338\n",
       "2017-05-19 -0.640374 -0.592881  0.597664  0.933252  3.403607\n",
       "2017-05-22  0.401865 -1.308436 -1.908363  0.974874 -4.298698\n",
       "2017-05-23 -1.404675  2.643359 -3.734973 -0.238877  0.898357"
      ]
     },
     "execution_count": 15,
     "metadata": {},
     "output_type": "execute_result"
    }
   ],
   "source": [
    "weights = np.asarray([0.2,0.2,0.2,0.2,0.2])\n",
    "returns = df_all.pct_change()*100\n",
    "returns.dropna(inplace=True)\n",
    "returns.head()"
   ]
  },
  {
   "cell_type": "code",
   "execution_count": 16,
   "metadata": {
    "ExecuteTime": {
     "end_time": "2020-06-25T11:37:20.871384Z",
     "start_time": "2020-06-25T11:37:20.796883Z"
    }
   },
   "outputs": [
    {
     "data": {
      "text/html": [
       "<div>\n",
       "<style scoped>\n",
       "    .dataframe tbody tr th:only-of-type {\n",
       "        vertical-align: middle;\n",
       "    }\n",
       "\n",
       "    .dataframe tbody tr th {\n",
       "        vertical-align: top;\n",
       "    }\n",
       "\n",
       "    .dataframe thead th {\n",
       "        text-align: right;\n",
       "    }\n",
       "</style>\n",
       "<table border=\"1\" class=\"dataframe\">\n",
       "  <thead>\n",
       "    <tr style=\"text-align: right;\">\n",
       "      <th></th>\n",
       "      <th>RELIANCE</th>\n",
       "      <th>MARUTI</th>\n",
       "      <th>RBLBANK</th>\n",
       "      <th>MINDTREE</th>\n",
       "      <th>FORTIS</th>\n",
       "    </tr>\n",
       "  </thead>\n",
       "  <tbody>\n",
       "    <tr>\n",
       "      <th>RELIANCE</th>\n",
       "      <td>7.669823</td>\n",
       "      <td>0.433109</td>\n",
       "      <td>0.906898</td>\n",
       "      <td>0.421278</td>\n",
       "      <td>0.431004</td>\n",
       "    </tr>\n",
       "    <tr>\n",
       "      <th>MARUTI</th>\n",
       "      <td>0.433109</td>\n",
       "      <td>2.013848</td>\n",
       "      <td>0.656051</td>\n",
       "      <td>0.300996</td>\n",
       "      <td>0.151260</td>\n",
       "    </tr>\n",
       "    <tr>\n",
       "      <th>RBLBANK</th>\n",
       "      <td>0.906898</td>\n",
       "      <td>0.656051</td>\n",
       "      <td>2.661698</td>\n",
       "      <td>0.529276</td>\n",
       "      <td>0.583963</td>\n",
       "    </tr>\n",
       "    <tr>\n",
       "      <th>MINDTREE</th>\n",
       "      <td>0.421278</td>\n",
       "      <td>0.300996</td>\n",
       "      <td>0.529276</td>\n",
       "      <td>4.636801</td>\n",
       "      <td>0.460018</td>\n",
       "    </tr>\n",
       "    <tr>\n",
       "      <th>FORTIS</th>\n",
       "      <td>0.431004</td>\n",
       "      <td>0.151260</td>\n",
       "      <td>0.583963</td>\n",
       "      <td>0.460018</td>\n",
       "      <td>7.052370</td>\n",
       "    </tr>\n",
       "  </tbody>\n",
       "</table>\n",
       "</div>"
      ],
      "text/plain": [
       "          RELIANCE    MARUTI   RBLBANK  MINDTREE    FORTIS\n",
       "RELIANCE  7.669823  0.433109  0.906898  0.421278  0.431004\n",
       "MARUTI    0.433109  2.013848  0.656051  0.300996  0.151260\n",
       "RBLBANK   0.906898  0.656051  2.661698  0.529276  0.583963\n",
       "MINDTREE  0.421278  0.300996  0.529276  4.636801  0.460018\n",
       "FORTIS    0.431004  0.151260  0.583963  0.460018  7.052370"
      ]
     },
     "execution_count": 16,
     "metadata": {},
     "output_type": "execute_result"
    }
   ],
   "source": [
    "mean_daily = returns.mean()\n",
    "cov_matrix = returns.cov()\n",
    "cov_matrix"
   ]
  },
  {
   "cell_type": "code",
   "execution_count": 17,
   "metadata": {
    "ExecuteTime": {
     "end_time": "2020-06-25T11:37:20.889309Z",
     "start_time": "2020-06-25T11:37:20.877077Z"
    }
   },
   "outputs": [],
   "source": [
    "annual_portfolio_return = np.sum(mean_daily * weights)*252\n",
    "annual_portfolio_std = sqrt(np.dot(weights.T, np.dot(cov_matrix, weights)))*sqrt(252)"
   ]
  },
  {
   "cell_type": "code",
   "execution_count": 18,
   "metadata": {
    "ExecuteTime": {
     "end_time": "2020-06-25T11:37:20.904523Z",
     "start_time": "2020-06-25T11:37:20.894327Z"
    }
   },
   "outputs": [
    {
     "name": "stdout",
     "output_type": "stream",
     "text": [
      "The Mean Expected Annual Return of the Portfolio is: 8.61 \n",
      "And the Portfolio Volatility is: 18.45\n"
     ]
    }
   ],
   "source": [
    "print('The Mean Expected Annual Return of the Portfolio is:', round(annual_portfolio_return,2),\n",
    "     '\\nAnd the Portfolio Volatility is:', round(annual_portfolio_std,2))"
   ]
  },
  {
   "cell_type": "markdown",
   "metadata": {},
   "source": [
    "Hence according to Modern Portfolio Theory, we have created a portfolio that will maximize returns for lesser risk than investing in a single stock."
   ]
  },
  {
   "cell_type": "markdown",
   "metadata": {},
   "source": [
    "## Task 5.3"
   ]
  },
  {
   "cell_type": "code",
   "execution_count": 19,
   "metadata": {
    "ExecuteTime": {
     "end_time": "2020-06-25T11:38:13.089160Z",
     "start_time": "2020-06-25T11:37:20.907911Z"
    }
   },
   "outputs": [
    {
     "data": {
      "text/html": [
       "<div>\n",
       "<style scoped>\n",
       "    .dataframe tbody tr th:only-of-type {\n",
       "        vertical-align: middle;\n",
       "    }\n",
       "\n",
       "    .dataframe tbody tr th {\n",
       "        vertical-align: top;\n",
       "    }\n",
       "\n",
       "    .dataframe thead th {\n",
       "        text-align: right;\n",
       "    }\n",
       "</style>\n",
       "<table border=\"1\" class=\"dataframe\">\n",
       "  <thead>\n",
       "    <tr style=\"text-align: right;\">\n",
       "      <th></th>\n",
       "      <th>weights</th>\n",
       "      <th>returns</th>\n",
       "      <th>volatility</th>\n",
       "      <th>sharpe</th>\n",
       "    </tr>\n",
       "  </thead>\n",
       "  <tbody>\n",
       "    <tr>\n",
       "      <th>0</th>\n",
       "      <td>[0.207878, 0.249555, 0.204574, 0.227954, 0.110...</td>\n",
       "      <td>11.169869</td>\n",
       "      <td>17.992009</td>\n",
       "      <td>0.620824</td>\n",
       "    </tr>\n",
       "    <tr>\n",
       "      <th>1</th>\n",
       "      <td>[0.217781, 0.106089, 0.189391, 0.335077, 0.151...</td>\n",
       "      <td>14.718385</td>\n",
       "      <td>19.761136</td>\n",
       "      <td>0.744815</td>\n",
       "    </tr>\n",
       "    <tr>\n",
       "      <th>2</th>\n",
       "      <td>[0.066602, 0.23149, 0.151633, 0.317168, 0.233107]</td>\n",
       "      <td>11.012682</td>\n",
       "      <td>18.664838</td>\n",
       "      <td>0.590023</td>\n",
       "    </tr>\n",
       "    <tr>\n",
       "      <th>3</th>\n",
       "      <td>[0.179097, 0.064769, 0.15947, 0.226693, 0.369971]</td>\n",
       "      <td>6.496899</td>\n",
       "      <td>21.840613</td>\n",
       "      <td>0.297469</td>\n",
       "    </tr>\n",
       "    <tr>\n",
       "      <th>4</th>\n",
       "      <td>[0.384799, 0.200557, 0.234381, 0.042579, 0.137...</td>\n",
       "      <td>5.326293</td>\n",
       "      <td>22.017670</td>\n",
       "      <td>0.241910</td>\n",
       "    </tr>\n",
       "  </tbody>\n",
       "</table>\n",
       "</div>"
      ],
      "text/plain": [
       "                                             weights    returns  volatility  \\\n",
       "0  [0.207878, 0.249555, 0.204574, 0.227954, 0.110...  11.169869   17.992009   \n",
       "1  [0.217781, 0.106089, 0.189391, 0.335077, 0.151...  14.718385   19.761136   \n",
       "2  [0.066602, 0.23149, 0.151633, 0.317168, 0.233107]  11.012682   18.664838   \n",
       "3  [0.179097, 0.064769, 0.15947, 0.226693, 0.369971]   6.496899   21.840613   \n",
       "4  [0.384799, 0.200557, 0.234381, 0.042579, 0.137...   5.326293   22.017670   \n",
       "\n",
       "     sharpe  \n",
       "0  0.620824  \n",
       "1  0.744815  \n",
       "2  0.590023  \n",
       "3  0.297469  \n",
       "4  0.241910  "
      ]
     },
     "execution_count": 19,
     "metadata": {},
     "output_type": "execute_result"
    }
   ],
   "source": [
    "efficient_frontier = pd.DataFrame()\n",
    "for i in range(10000):\n",
    "    weights  = np.random.rand(df_all.shape[1])\n",
    "    weights  = np.round(weights, 3) \n",
    "    weights /= weights.sum()\n",
    "    \n",
    "    portfolio_return = np.sum(mean_daily*weights)*252\n",
    "    \n",
    "    portfolio_volatility = sqrt(np.dot(weights.T, np.dot(cov_matrix, weights)))*sqrt(252)\n",
    "    \n",
    "    portfolio_sharpe = portfolio_return/portfolio_volatility\n",
    "    \n",
    "    efficient_frontier = efficient_frontier.append([{\n",
    "        \"weights\":    np.round(weights,6),\n",
    "        \"returns\":    portfolio_return,\n",
    "        \"volatility\": portfolio_volatility,\n",
    "        \"sharpe\":     portfolio_sharpe\n",
    "    }])\n",
    "efficient_frontier.reset_index(inplace=True, drop=True)\n",
    "efficient_frontier.head()"
   ]
  },
  {
   "cell_type": "markdown",
   "metadata": {},
   "source": [
    "## Task 5.4"
   ]
  },
  {
   "cell_type": "code",
   "execution_count": 20,
   "metadata": {
    "ExecuteTime": {
     "end_time": "2020-06-25T11:38:13.108681Z",
     "start_time": "2020-06-25T11:38:13.094193Z"
    }
   },
   "outputs": [
    {
     "data": {
      "text/plain": [
       "weights       [0.076514, 0.115768, 0.210246, 0.59481, 0.002661]\n",
       "returns                                                  26.229\n",
       "volatility                                              23.0778\n",
       "sharpe                                                  1.13655\n",
       "Name: 7969, dtype: object"
      ]
     },
     "execution_count": 20,
     "metadata": {},
     "output_type": "execute_result"
    }
   ],
   "source": [
    "max_sharpe = efficient_frontier.loc[efficient_frontier['sharpe'].idxmax()]\n",
    "max_sharpe"
   ]
  },
  {
   "cell_type": "code",
   "execution_count": 21,
   "metadata": {
    "ExecuteTime": {
     "end_time": "2020-06-25T11:38:13.132790Z",
     "start_time": "2020-06-25T11:38:13.113556Z"
    }
   },
   "outputs": [
    {
     "data": {
      "text/plain": [
       "weights       [0.097933, 0.419783, 0.206201, 0.162402, 0.113...\n",
       "returns                                                 7.55655\n",
       "volatility                                              16.6428\n",
       "sharpe                                                 0.454043\n",
       "Name: 1986, dtype: object"
      ]
     },
     "execution_count": 21,
     "metadata": {},
     "output_type": "execute_result"
    }
   ],
   "source": [
    "min_volatility = efficient_frontier.loc[efficient_frontier['volatility'].idxmin()]\n",
    "min_volatility"
   ]
  },
  {
   "cell_type": "code",
   "execution_count": 22,
   "metadata": {
    "ExecuteTime": {
     "end_time": "2020-06-25T11:38:15.070545Z",
     "start_time": "2020-06-25T11:38:13.139598Z"
    }
   },
   "outputs": [
    {
     "data": {
      "image/png": "[encoded data removed]",
      "text/plain": [
       "<Figure size 1440x720 with 2 Axes>"
      ]
     },
     "metadata": {
      "needs_background": "light"
     },
     "output_type": "display_data"
    }
   ],
   "source": [
    "fig, ax = plt.subplots(figsize=(20, 10), nrows=1, ncols=1)\n",
    "plt.scatter( \n",
    "    efficient_frontier.volatility,     \n",
    "    efficient_frontier.returns, \n",
    "    c = efficient_frontier.sharpe,\n",
    "    cmap = 'RdYlBu'\n",
    ")\n",
    "plt.title('Portfolio Weightings - Monte-Carlo Simulation')\n",
    "plt.ylabel('Rate of Return')\n",
    "plt.xlabel('Risk Tolerance')\n",
    "plt.colorbar()\n",
    "\n",
    "# Mark the 2 portfolios where\n",
    "plt.scatter( max_sharpe.volatility,     max_sharpe.returns,     marker=(5,1,0), c='r', s=200 )\n",
    "plt.scatter( min_volatility.volatility, min_volatility.returns, marker=(5,1,0), c='g', s=200 );"
   ]
  }
 ],
 "metadata": {
  "kernelspec": {
   "display_name": "Python 3",
   "language": "python",
   "name": "python3"
  },
  "language_info": {
   "codemirror_mode": {
    "name": "ipython",
    "version": 3
   },
   "file_extension": ".py",
   "mimetype": "text/x-python",
   "name": "python",
   "nbconvert_exporter": "python",
   "pygments_lexer": "ipython3",
   "version": "3.7.6"
  }
 },
 "nbformat": 4,
 "nbformat_minor": 4
}
