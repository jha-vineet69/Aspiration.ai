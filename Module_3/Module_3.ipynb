{
 "cells": [
  {
   "cell_type": "markdown",
   "metadata": {},
   "source": [
    "## Task 3.1"
   ]
  },
  {
   "cell_type": "code",
   "execution_count": 1,
   "metadata": {
    "ExecuteTime": {
     "end_time": "2020-06-25T11:35:01.130535Z",
     "start_time": "2020-06-25T11:34:56.763317Z"
    }
   },
   "outputs": [],
   "source": [
    "import numpy as np\n",
    "import pandas as pd\n",
    "import matplotlib.pyplot as plt\n",
    "%matplotlib inline\n",
    "import warnings\n",
    "warnings.filterwarnings('ignore')\n",
    "import statsmodels.api as sm\n",
    "import seaborn as sns"
   ]
  },
  {
   "cell_type": "code",
   "execution_count": 2,
   "metadata": {
    "ExecuteTime": {
     "end_time": "2020-06-25T11:35:01.189197Z",
     "start_time": "2020-06-25T11:35:01.134535Z"
    }
   },
   "outputs": [
    {
     "data": {
      "text/html": [
       "<div>\n",
       "<style scoped>\n",
       "    .dataframe tbody tr th:only-of-type {\n",
       "        vertical-align: middle;\n",
       "    }\n",
       "\n",
       "    .dataframe tbody tr th {\n",
       "        vertical-align: top;\n",
       "    }\n",
       "\n",
       "    .dataframe thead th {\n",
       "        text-align: right;\n",
       "    }\n",
       "</style>\n",
       "<table border=\"1\" class=\"dataframe\">\n",
       "  <thead>\n",
       "    <tr style=\"text-align: right;\">\n",
       "      <th></th>\n",
       "      <th>Date</th>\n",
       "      <th>Price</th>\n",
       "      <th>Open</th>\n",
       "      <th>High</th>\n",
       "      <th>Low</th>\n",
       "      <th>Vol.</th>\n",
       "      <th>Change %</th>\n",
       "      <th>Pred</th>\n",
       "      <th>new</th>\n",
       "    </tr>\n",
       "  </thead>\n",
       "  <tbody>\n",
       "    <tr>\n",
       "      <th>0</th>\n",
       "      <td>May 04, 2017</td>\n",
       "      <td>28060</td>\n",
       "      <td>28400</td>\n",
       "      <td>28482</td>\n",
       "      <td>28025</td>\n",
       "      <td>0.08K</td>\n",
       "      <td>-1.79%</td>\n",
       "      <td>738.0</td>\n",
       "      <td>117.570740</td>\n",
       "    </tr>\n",
       "    <tr>\n",
       "      <th>1</th>\n",
       "      <td>May 05, 2017</td>\n",
       "      <td>28184</td>\n",
       "      <td>28136</td>\n",
       "      <td>28382</td>\n",
       "      <td>28135</td>\n",
       "      <td>0.06K</td>\n",
       "      <td>0.44%</td>\n",
       "      <td>-146.0</td>\n",
       "      <td>295.430176</td>\n",
       "    </tr>\n",
       "    <tr>\n",
       "      <th>2</th>\n",
       "      <td>May 08, 2017</td>\n",
       "      <td>28119</td>\n",
       "      <td>28145</td>\n",
       "      <td>28255</td>\n",
       "      <td>28097</td>\n",
       "      <td>7.85K</td>\n",
       "      <td>-0.23%</td>\n",
       "      <td>30.0</td>\n",
       "      <td>132.123714</td>\n",
       "    </tr>\n",
       "    <tr>\n",
       "      <th>3</th>\n",
       "      <td>May 09, 2017</td>\n",
       "      <td>27981</td>\n",
       "      <td>28125</td>\n",
       "      <td>28192</td>\n",
       "      <td>27947</td>\n",
       "      <td>10.10K</td>\n",
       "      <td>-0.49%</td>\n",
       "      <td>357.0</td>\n",
       "      <td>101.298064</td>\n",
       "    </tr>\n",
       "    <tr>\n",
       "      <th>4</th>\n",
       "      <td>May 10, 2017</td>\n",
       "      <td>28007</td>\n",
       "      <td>28060</td>\n",
       "      <td>28146</td>\n",
       "      <td>27981</td>\n",
       "      <td>9.28K</td>\n",
       "      <td>0.09%</td>\n",
       "      <td>124.0</td>\n",
       "      <td>112.153318</td>\n",
       "    </tr>\n",
       "  </tbody>\n",
       "</table>\n",
       "</div>"
      ],
      "text/plain": [
       "           Date  Price   Open   High    Low    Vol. Change %   Pred  \\\n",
       "0  May 04, 2017  28060  28400  28482  28025   0.08K   -1.79%  738.0   \n",
       "1  May 05, 2017  28184  28136  28382  28135   0.06K    0.44% -146.0   \n",
       "2  May 08, 2017  28119  28145  28255  28097   7.85K   -0.23%   30.0   \n",
       "3  May 09, 2017  27981  28125  28192  27947  10.10K   -0.49%  357.0   \n",
       "4  May 10, 2017  28007  28060  28146  27981   9.28K    0.09%  124.0   \n",
       "\n",
       "          new  \n",
       "0  117.570740  \n",
       "1  295.430176  \n",
       "2  132.123714  \n",
       "3  101.298064  \n",
       "4  112.153318  "
      ]
     },
     "execution_count": 2,
     "metadata": {},
     "output_type": "execute_result"
    }
   ],
   "source": [
    "df = pd.read_csv('../Stocks/Gold/GOLD.csv')\n",
    "df.head()"
   ]
  },
  {
   "cell_type": "code",
   "execution_count": 3,
   "metadata": {
    "ExecuteTime": {
     "end_time": "2020-06-25T11:35:01.331590Z",
     "start_time": "2020-06-25T11:35:01.192861Z"
    }
   },
   "outputs": [],
   "source": [
    "df['Date'] = pd.to_datetime(df['Date'])"
   ]
  },
  {
   "cell_type": "code",
   "execution_count": 4,
   "metadata": {
    "ExecuteTime": {
     "end_time": "2020-06-25T11:35:01.364414Z",
     "start_time": "2020-06-25T11:35:01.338501Z"
    }
   },
   "outputs": [
    {
     "data": {
      "text/html": [
       "<div>\n",
       "<style scoped>\n",
       "    .dataframe tbody tr th:only-of-type {\n",
       "        vertical-align: middle;\n",
       "    }\n",
       "\n",
       "    .dataframe tbody tr th {\n",
       "        vertical-align: top;\n",
       "    }\n",
       "\n",
       "    .dataframe thead th {\n",
       "        text-align: right;\n",
       "    }\n",
       "</style>\n",
       "<table border=\"1\" class=\"dataframe\">\n",
       "  <thead>\n",
       "    <tr style=\"text-align: right;\">\n",
       "      <th></th>\n",
       "      <th>Price</th>\n",
       "      <th>Open</th>\n",
       "      <th>High</th>\n",
       "      <th>Low</th>\n",
       "      <th>Vol.</th>\n",
       "      <th>Change %</th>\n",
       "      <th>Pred</th>\n",
       "      <th>new</th>\n",
       "    </tr>\n",
       "  </thead>\n",
       "  <tbody>\n",
       "    <tr>\n",
       "      <th>2017-05-04</th>\n",
       "      <td>28060</td>\n",
       "      <td>28400</td>\n",
       "      <td>28482</td>\n",
       "      <td>28025</td>\n",
       "      <td>0.08K</td>\n",
       "      <td>-1.79%</td>\n",
       "      <td>738.0</td>\n",
       "      <td>117.570740</td>\n",
       "    </tr>\n",
       "    <tr>\n",
       "      <th>2017-05-05</th>\n",
       "      <td>28184</td>\n",
       "      <td>28136</td>\n",
       "      <td>28382</td>\n",
       "      <td>28135</td>\n",
       "      <td>0.06K</td>\n",
       "      <td>0.44%</td>\n",
       "      <td>-146.0</td>\n",
       "      <td>295.430176</td>\n",
       "    </tr>\n",
       "    <tr>\n",
       "      <th>2017-05-08</th>\n",
       "      <td>28119</td>\n",
       "      <td>28145</td>\n",
       "      <td>28255</td>\n",
       "      <td>28097</td>\n",
       "      <td>7.85K</td>\n",
       "      <td>-0.23%</td>\n",
       "      <td>30.0</td>\n",
       "      <td>132.123714</td>\n",
       "    </tr>\n",
       "    <tr>\n",
       "      <th>2017-05-09</th>\n",
       "      <td>27981</td>\n",
       "      <td>28125</td>\n",
       "      <td>28192</td>\n",
       "      <td>27947</td>\n",
       "      <td>10.10K</td>\n",
       "      <td>-0.49%</td>\n",
       "      <td>357.0</td>\n",
       "      <td>101.298064</td>\n",
       "    </tr>\n",
       "    <tr>\n",
       "      <th>2017-05-10</th>\n",
       "      <td>28007</td>\n",
       "      <td>28060</td>\n",
       "      <td>28146</td>\n",
       "      <td>27981</td>\n",
       "      <td>9.28K</td>\n",
       "      <td>0.09%</td>\n",
       "      <td>124.0</td>\n",
       "      <td>112.153318</td>\n",
       "    </tr>\n",
       "  </tbody>\n",
       "</table>\n",
       "</div>"
      ],
      "text/plain": [
       "            Price   Open   High    Low    Vol. Change %   Pred         new\n",
       "2017-05-04  28060  28400  28482  28025   0.08K   -1.79%  738.0  117.570740\n",
       "2017-05-05  28184  28136  28382  28135   0.06K    0.44% -146.0  295.430176\n",
       "2017-05-08  28119  28145  28255  28097   7.85K   -0.23%   30.0  132.123714\n",
       "2017-05-09  27981  28125  28192  27947  10.10K   -0.49%  357.0  101.298064\n",
       "2017-05-10  28007  28060  28146  27981   9.28K    0.09%  124.0  112.153318"
      ]
     },
     "execution_count": 4,
     "metadata": {},
     "output_type": "execute_result"
    }
   ],
   "source": [
    "df = df.set_index('Date')\n",
    "df.rename_axis(None, inplace=True)\n",
    "df.head()"
   ]
  },
  {
   "cell_type": "code",
   "execution_count": 5,
   "metadata": {
    "ExecuteTime": {
     "end_time": "2020-06-25T11:35:01.431899Z",
     "start_time": "2020-06-25T11:35:01.372429Z"
    }
   },
   "outputs": [
    {
     "data": {
      "text/html": [
       "<div>\n",
       "<style scoped>\n",
       "    .dataframe tbody tr th:only-of-type {\n",
       "        vertical-align: middle;\n",
       "    }\n",
       "\n",
       "    .dataframe tbody tr th {\n",
       "        vertical-align: top;\n",
       "    }\n",
       "\n",
       "    .dataframe thead th {\n",
       "        text-align: right;\n",
       "    }\n",
       "</style>\n",
       "<table border=\"1\" class=\"dataframe\">\n",
       "  <thead>\n",
       "    <tr style=\"text-align: right;\">\n",
       "      <th></th>\n",
       "      <th>Price</th>\n",
       "      <th>Open</th>\n",
       "      <th>High</th>\n",
       "      <th>Low</th>\n",
       "      <th>Pred</th>\n",
       "      <th>new</th>\n",
       "    </tr>\n",
       "  </thead>\n",
       "  <tbody>\n",
       "    <tr>\n",
       "      <th>count</th>\n",
       "      <td>512.000000</td>\n",
       "      <td>512.000000</td>\n",
       "      <td>512.000000</td>\n",
       "      <td>512.000000</td>\n",
       "      <td>411.000000</td>\n",
       "      <td>512.000000</td>\n",
       "    </tr>\n",
       "    <tr>\n",
       "      <th>mean</th>\n",
       "      <td>30364.583984</td>\n",
       "      <td>30368.412109</td>\n",
       "      <td>30491.089844</td>\n",
       "      <td>30243.320312</td>\n",
       "      <td>341.712895</td>\n",
       "      <td>245.161859</td>\n",
       "    </tr>\n",
       "    <tr>\n",
       "      <th>std</th>\n",
       "      <td>1284.378623</td>\n",
       "      <td>1296.856656</td>\n",
       "      <td>1307.031684</td>\n",
       "      <td>1271.936410</td>\n",
       "      <td>271.075609</td>\n",
       "      <td>205.788897</td>\n",
       "    </tr>\n",
       "    <tr>\n",
       "      <th>min</th>\n",
       "      <td>27812.000000</td>\n",
       "      <td>27805.000000</td>\n",
       "      <td>27887.000000</td>\n",
       "      <td>27620.000000</td>\n",
       "      <td>-146.000000</td>\n",
       "      <td>11.109814</td>\n",
       "    </tr>\n",
       "    <tr>\n",
       "      <th>25%</th>\n",
       "      <td>29432.500000</td>\n",
       "      <td>29436.750000</td>\n",
       "      <td>29499.750000</td>\n",
       "      <td>29345.750000</td>\n",
       "      <td>156.500000</td>\n",
       "      <td>101.369172</td>\n",
       "    </tr>\n",
       "    <tr>\n",
       "      <th>50%</th>\n",
       "      <td>30427.500000</td>\n",
       "      <td>30399.500000</td>\n",
       "      <td>30545.000000</td>\n",
       "      <td>30286.000000</td>\n",
       "      <td>299.000000</td>\n",
       "      <td>184.537244</td>\n",
       "    </tr>\n",
       "    <tr>\n",
       "      <th>75%</th>\n",
       "      <td>31271.750000</td>\n",
       "      <td>31300.000000</td>\n",
       "      <td>31447.500000</td>\n",
       "      <td>31160.750000</td>\n",
       "      <td>475.000000</td>\n",
       "      <td>320.835031</td>\n",
       "    </tr>\n",
       "    <tr>\n",
       "      <th>max</th>\n",
       "      <td>33753.000000</td>\n",
       "      <td>34247.000000</td>\n",
       "      <td>34400.000000</td>\n",
       "      <td>33680.000000</td>\n",
       "      <td>2210.000000</td>\n",
       "      <td>1407.321485</td>\n",
       "    </tr>\n",
       "  </tbody>\n",
       "</table>\n",
       "</div>"
      ],
      "text/plain": [
       "              Price          Open          High           Low         Pred  \\\n",
       "count    512.000000    512.000000    512.000000    512.000000   411.000000   \n",
       "mean   30364.583984  30368.412109  30491.089844  30243.320312   341.712895   \n",
       "std     1284.378623   1296.856656   1307.031684   1271.936410   271.075609   \n",
       "min    27812.000000  27805.000000  27887.000000  27620.000000  -146.000000   \n",
       "25%    29432.500000  29436.750000  29499.750000  29345.750000   156.500000   \n",
       "50%    30427.500000  30399.500000  30545.000000  30286.000000   299.000000   \n",
       "75%    31271.750000  31300.000000  31447.500000  31160.750000   475.000000   \n",
       "max    33753.000000  34247.000000  34400.000000  33680.000000  2210.000000   \n",
       "\n",
       "               new  \n",
       "count   512.000000  \n",
       "mean    245.161859  \n",
       "std     205.788897  \n",
       "min      11.109814  \n",
       "25%     101.369172  \n",
       "50%     184.537244  \n",
       "75%     320.835031  \n",
       "max    1407.321485  "
      ]
     },
     "execution_count": 5,
     "metadata": {},
     "output_type": "execute_result"
    }
   ],
   "source": [
    "df.describe()"
   ]
  },
  {
   "cell_type": "markdown",
   "metadata": {},
   "source": [
    "#### We can see that Pred column has some missing values. 512 - 411 = 101 values to be precise. These are the values we have to predict."
   ]
  },
  {
   "cell_type": "code",
   "execution_count": 6,
   "metadata": {
    "ExecuteTime": {
     "end_time": "2020-06-25T11:35:01.474345Z",
     "start_time": "2020-06-25T11:35:01.436306Z"
    }
   },
   "outputs": [
    {
     "data": {
      "text/html": [
       "<div>\n",
       "<style scoped>\n",
       "    .dataframe tbody tr th:only-of-type {\n",
       "        vertical-align: middle;\n",
       "    }\n",
       "\n",
       "    .dataframe tbody tr th {\n",
       "        vertical-align: top;\n",
       "    }\n",
       "\n",
       "    .dataframe thead th {\n",
       "        text-align: right;\n",
       "    }\n",
       "</style>\n",
       "<table border=\"1\" class=\"dataframe\">\n",
       "  <thead>\n",
       "    <tr style=\"text-align: right;\">\n",
       "      <th></th>\n",
       "      <th>Price</th>\n",
       "      <th>Open</th>\n",
       "      <th>High</th>\n",
       "      <th>Low</th>\n",
       "      <th>Vol.</th>\n",
       "      <th>Change %</th>\n",
       "      <th>Pred</th>\n",
       "      <th>new</th>\n",
       "    </tr>\n",
       "  </thead>\n",
       "  <tbody>\n",
       "    <tr>\n",
       "      <th>2018-12-10</th>\n",
       "      <td>31895</td>\n",
       "      <td>31459</td>\n",
       "      <td>31966</td>\n",
       "      <td>31420</td>\n",
       "      <td>14.09K</td>\n",
       "      <td>1.45%</td>\n",
       "      <td>521.0</td>\n",
       "      <td>990.254297</td>\n",
       "    </tr>\n",
       "    <tr>\n",
       "      <th>2018-12-11</th>\n",
       "      <td>31812</td>\n",
       "      <td>31850</td>\n",
       "      <td>31850</td>\n",
       "      <td>31618</td>\n",
       "      <td>10.53K</td>\n",
       "      <td>-0.26%</td>\n",
       "      <td>NaN</td>\n",
       "      <td>195.423493</td>\n",
       "    </tr>\n",
       "    <tr>\n",
       "      <th>2018-12-12</th>\n",
       "      <td>31626</td>\n",
       "      <td>31749</td>\n",
       "      <td>31749</td>\n",
       "      <td>31582</td>\n",
       "      <td>7.57K</td>\n",
       "      <td>-0.58%</td>\n",
       "      <td>NaN</td>\n",
       "      <td>44.232664</td>\n",
       "    </tr>\n",
       "    <tr>\n",
       "      <th>2018-12-13</th>\n",
       "      <td>31414</td>\n",
       "      <td>31550</td>\n",
       "      <td>31600</td>\n",
       "      <td>31337</td>\n",
       "      <td>8.43K</td>\n",
       "      <td>-0.67%</td>\n",
       "      <td>NaN</td>\n",
       "      <td>127.646233</td>\n",
       "    </tr>\n",
       "    <tr>\n",
       "      <th>2018-12-14</th>\n",
       "      <td>31437</td>\n",
       "      <td>31440</td>\n",
       "      <td>31514</td>\n",
       "      <td>31384</td>\n",
       "      <td>6.75K</td>\n",
       "      <td>0.07%</td>\n",
       "      <td>NaN</td>\n",
       "      <td>127.219539</td>\n",
       "    </tr>\n",
       "    <tr>\n",
       "      <th>...</th>\n",
       "      <td>...</td>\n",
       "      <td>...</td>\n",
       "      <td>...</td>\n",
       "      <td>...</td>\n",
       "      <td>...</td>\n",
       "      <td>...</td>\n",
       "      <td>...</td>\n",
       "      <td>...</td>\n",
       "    </tr>\n",
       "    <tr>\n",
       "      <th>2019-04-26</th>\n",
       "      <td>31868</td>\n",
       "      <td>31851</td>\n",
       "      <td>31934</td>\n",
       "      <td>31705</td>\n",
       "      <td>9.67K</td>\n",
       "      <td>0.08%</td>\n",
       "      <td>NaN</td>\n",
       "      <td>247.177322</td>\n",
       "    </tr>\n",
       "    <tr>\n",
       "      <th>2019-04-30</th>\n",
       "      <td>31625</td>\n",
       "      <td>31800</td>\n",
       "      <td>31824</td>\n",
       "      <td>31597</td>\n",
       "      <td>6.44K</td>\n",
       "      <td>-0.76%</td>\n",
       "      <td>NaN</td>\n",
       "      <td>52.201158</td>\n",
       "    </tr>\n",
       "    <tr>\n",
       "      <th>2019-05-01</th>\n",
       "      <td>31563</td>\n",
       "      <td>31604</td>\n",
       "      <td>31657</td>\n",
       "      <td>31503</td>\n",
       "      <td>1.55K</td>\n",
       "      <td>-0.20%</td>\n",
       "      <td>NaN</td>\n",
       "      <td>113.293305</td>\n",
       "    </tr>\n",
       "    <tr>\n",
       "      <th>2019-05-02</th>\n",
       "      <td>31203</td>\n",
       "      <td>31420</td>\n",
       "      <td>31425</td>\n",
       "      <td>31160</td>\n",
       "      <td>0.48K</td>\n",
       "      <td>-1.14%</td>\n",
       "      <td>NaN</td>\n",
       "      <td>48.365693</td>\n",
       "    </tr>\n",
       "    <tr>\n",
       "      <th>2019-05-03</th>\n",
       "      <td>31341</td>\n",
       "      <td>31250</td>\n",
       "      <td>31500</td>\n",
       "      <td>31163</td>\n",
       "      <td>0.08K</td>\n",
       "      <td>0.44%</td>\n",
       "      <td>NaN</td>\n",
       "      <td>429.924911</td>\n",
       "    </tr>\n",
       "  </tbody>\n",
       "</table>\n",
       "<p>102 rows × 8 columns</p>\n",
       "</div>"
      ],
      "text/plain": [
       "            Price   Open   High    Low    Vol. Change %   Pred         new\n",
       "2018-12-10  31895  31459  31966  31420  14.09K    1.45%  521.0  990.254297\n",
       "2018-12-11  31812  31850  31850  31618  10.53K   -0.26%    NaN  195.423493\n",
       "2018-12-12  31626  31749  31749  31582   7.57K   -0.58%    NaN   44.232664\n",
       "2018-12-13  31414  31550  31600  31337   8.43K   -0.67%    NaN  127.646233\n",
       "2018-12-14  31437  31440  31514  31384   6.75K    0.07%    NaN  127.219539\n",
       "...           ...    ...    ...    ...     ...      ...    ...         ...\n",
       "2019-04-26  31868  31851  31934  31705   9.67K    0.08%    NaN  247.177322\n",
       "2019-04-30  31625  31800  31824  31597   6.44K   -0.76%    NaN   52.201158\n",
       "2019-05-01  31563  31604  31657  31503   1.55K   -0.20%    NaN  113.293305\n",
       "2019-05-02  31203  31420  31425  31160   0.48K   -1.14%    NaN   48.365693\n",
       "2019-05-03  31341  31250  31500  31163   0.08K    0.44%    NaN  429.924911\n",
       "\n",
       "[102 rows x 8 columns]"
      ]
     },
     "execution_count": 6,
     "metadata": {},
     "output_type": "execute_result"
    }
   ],
   "source": [
    "df.tail(102)"
   ]
  },
  {
   "cell_type": "code",
   "execution_count": 7,
   "metadata": {
    "ExecuteTime": {
     "end_time": "2020-06-25T11:35:01.494609Z",
     "start_time": "2020-06-25T11:35:01.478971Z"
    }
   },
   "outputs": [],
   "source": [
    "X = df[df['Pred'].notna()].iloc[:,:4]\n",
    "y = df[df['Pred'].notna()].iloc[:,-2]"
   ]
  },
  {
   "cell_type": "code",
   "execution_count": 8,
   "metadata": {
    "ExecuteTime": {
     "end_time": "2020-06-25T11:35:01.812272Z",
     "start_time": "2020-06-25T11:35:01.498169Z"
    }
   },
   "outputs": [],
   "source": [
    "from sklearn.model_selection import train_test_split\n",
    "from sklearn.linear_model import LinearRegression\n",
    "from sklearn.metrics import mean_squared_error, r2_score"
   ]
  },
  {
   "cell_type": "code",
   "execution_count": 9,
   "metadata": {
    "ExecuteTime": {
     "end_time": "2020-06-25T11:35:01.825518Z",
     "start_time": "2020-06-25T11:35:01.814187Z"
    }
   },
   "outputs": [],
   "source": [
    "model = LinearRegression()\n",
    "def linreg(X,y):\n",
    "    X_train, X_test, y_train, y_test = train_test_split(X, y, test_size = 1/3, random_state = 0)\n",
    "    model.fit(X_train,y_train)\n",
    "    y_pred = model.predict(X_test)\n",
    "    rmsd = np.sqrt(mean_squared_error(y_test, y_pred))      \n",
    "    r2_value = r2_score(y_test, y_pred)   \n",
    "    print(\"Coefficients:  \", model.coef_)\n",
    "    print(\"Intercept:  \", model.intercept_)\n",
    "    print(\"Root Mean Square Error:  \", rmsd)\n",
    "    print(\"R^2 Value:  \", r2_value)"
   ]
  },
  {
   "cell_type": "code",
   "execution_count": 10,
   "metadata": {
    "ExecuteTime": {
     "end_time": "2020-06-25T11:35:01.919851Z",
     "start_time": "2020-06-25T11:35:01.830023Z"
    }
   },
   "outputs": [
    {
     "name": "stdout",
     "output_type": "stream",
     "text": [
      "Coefficients:   [ 2.  3. -1. -4.]\n",
      "Intercept:   2.2737367544323206e-13\n",
      "Root Mean Square Error:   2.2692653779710712e-11\n",
      "R^2 Value:   1.0\n"
     ]
    }
   ],
   "source": [
    "linreg(X,y)"
   ]
  },
  {
   "cell_type": "markdown",
   "metadata": {},
   "source": [
    "R^2 value of 1 signifies that Pred Column is the one which is a linear combination of the OHLC prices."
   ]
  },
  {
   "cell_type": "markdown",
   "metadata": {},
   "source": [
    "#### To predict Nan values in 'Pred' column"
   ]
  },
  {
   "cell_type": "code",
   "execution_count": 11,
   "metadata": {
    "ExecuteTime": {
     "end_time": "2020-06-25T11:35:01.934215Z",
     "start_time": "2020-06-25T11:35:01.923500Z"
    }
   },
   "outputs": [],
   "source": [
    "X_pred = df[df['Pred'].isna()].iloc[:,:4]"
   ]
  },
  {
   "cell_type": "code",
   "execution_count": 12,
   "metadata": {
    "ExecuteTime": {
     "end_time": "2020-06-25T11:35:01.946914Z",
     "start_time": "2020-06-25T11:35:01.936679Z"
    }
   },
   "outputs": [],
   "source": [
    "Y_pred = model.predict(X_pred)"
   ]
  },
  {
   "cell_type": "code",
   "execution_count": 13,
   "metadata": {
    "ExecuteTime": {
     "end_time": "2020-06-25T11:35:01.966483Z",
     "start_time": "2020-06-25T11:35:01.950559Z"
    }
   },
   "outputs": [
    {
     "name": "stdout",
     "output_type": "stream",
     "text": [
      "[ 852.  422.  530.  144.  415. 1103.  411.  613.    5.  547.]\n"
     ]
    }
   ],
   "source": [
    "print(Y_pred[0:10])"
   ]
  },
  {
   "cell_type": "code",
   "execution_count": 14,
   "metadata": {
    "ExecuteTime": {
     "end_time": "2020-06-25T11:35:01.978779Z",
     "start_time": "2020-06-25T11:35:01.971419Z"
    }
   },
   "outputs": [],
   "source": [
    "df['Pred'].loc[411:] = Y_pred"
   ]
  },
  {
   "cell_type": "code",
   "execution_count": 15,
   "metadata": {
    "ExecuteTime": {
     "end_time": "2020-06-25T11:35:02.020247Z",
     "start_time": "2020-06-25T11:35:01.982473Z"
    }
   },
   "outputs": [
    {
     "data": {
      "text/html": [
       "<div>\n",
       "<style scoped>\n",
       "    .dataframe tbody tr th:only-of-type {\n",
       "        vertical-align: middle;\n",
       "    }\n",
       "\n",
       "    .dataframe tbody tr th {\n",
       "        vertical-align: top;\n",
       "    }\n",
       "\n",
       "    .dataframe thead th {\n",
       "        text-align: right;\n",
       "    }\n",
       "</style>\n",
       "<table border=\"1\" class=\"dataframe\">\n",
       "  <thead>\n",
       "    <tr style=\"text-align: right;\">\n",
       "      <th></th>\n",
       "      <th>Price</th>\n",
       "      <th>Open</th>\n",
       "      <th>High</th>\n",
       "      <th>Low</th>\n",
       "      <th>Vol.</th>\n",
       "      <th>Change %</th>\n",
       "      <th>Pred</th>\n",
       "      <th>new</th>\n",
       "    </tr>\n",
       "  </thead>\n",
       "  <tbody>\n",
       "    <tr>\n",
       "      <th>2018-12-10</th>\n",
       "      <td>31895</td>\n",
       "      <td>31459</td>\n",
       "      <td>31966</td>\n",
       "      <td>31420</td>\n",
       "      <td>14.09K</td>\n",
       "      <td>1.45%</td>\n",
       "      <td>521.0</td>\n",
       "      <td>990.254297</td>\n",
       "    </tr>\n",
       "    <tr>\n",
       "      <th>2018-12-11</th>\n",
       "      <td>31812</td>\n",
       "      <td>31850</td>\n",
       "      <td>31850</td>\n",
       "      <td>31618</td>\n",
       "      <td>10.53K</td>\n",
       "      <td>-0.26%</td>\n",
       "      <td>852.0</td>\n",
       "      <td>195.423493</td>\n",
       "    </tr>\n",
       "    <tr>\n",
       "      <th>2018-12-12</th>\n",
       "      <td>31626</td>\n",
       "      <td>31749</td>\n",
       "      <td>31749</td>\n",
       "      <td>31582</td>\n",
       "      <td>7.57K</td>\n",
       "      <td>-0.58%</td>\n",
       "      <td>422.0</td>\n",
       "      <td>44.232664</td>\n",
       "    </tr>\n",
       "    <tr>\n",
       "      <th>2018-12-13</th>\n",
       "      <td>31414</td>\n",
       "      <td>31550</td>\n",
       "      <td>31600</td>\n",
       "      <td>31337</td>\n",
       "      <td>8.43K</td>\n",
       "      <td>-0.67%</td>\n",
       "      <td>530.0</td>\n",
       "      <td>127.646233</td>\n",
       "    </tr>\n",
       "    <tr>\n",
       "      <th>2018-12-14</th>\n",
       "      <td>31437</td>\n",
       "      <td>31440</td>\n",
       "      <td>31514</td>\n",
       "      <td>31384</td>\n",
       "      <td>6.75K</td>\n",
       "      <td>0.07%</td>\n",
       "      <td>144.0</td>\n",
       "      <td>127.219539</td>\n",
       "    </tr>\n",
       "    <tr>\n",
       "      <th>...</th>\n",
       "      <td>...</td>\n",
       "      <td>...</td>\n",
       "      <td>...</td>\n",
       "      <td>...</td>\n",
       "      <td>...</td>\n",
       "      <td>...</td>\n",
       "      <td>...</td>\n",
       "      <td>...</td>\n",
       "    </tr>\n",
       "    <tr>\n",
       "      <th>2019-04-26</th>\n",
       "      <td>31868</td>\n",
       "      <td>31851</td>\n",
       "      <td>31934</td>\n",
       "      <td>31705</td>\n",
       "      <td>9.67K</td>\n",
       "      <td>0.08%</td>\n",
       "      <td>535.0</td>\n",
       "      <td>247.177322</td>\n",
       "    </tr>\n",
       "    <tr>\n",
       "      <th>2019-04-30</th>\n",
       "      <td>31625</td>\n",
       "      <td>31800</td>\n",
       "      <td>31824</td>\n",
       "      <td>31597</td>\n",
       "      <td>6.44K</td>\n",
       "      <td>-0.76%</td>\n",
       "      <td>438.0</td>\n",
       "      <td>52.201158</td>\n",
       "    </tr>\n",
       "    <tr>\n",
       "      <th>2019-05-01</th>\n",
       "      <td>31563</td>\n",
       "      <td>31604</td>\n",
       "      <td>31657</td>\n",
       "      <td>31503</td>\n",
       "      <td>1.55K</td>\n",
       "      <td>-0.20%</td>\n",
       "      <td>269.0</td>\n",
       "      <td>113.293305</td>\n",
       "    </tr>\n",
       "    <tr>\n",
       "      <th>2019-05-02</th>\n",
       "      <td>31203</td>\n",
       "      <td>31420</td>\n",
       "      <td>31425</td>\n",
       "      <td>31160</td>\n",
       "      <td>0.48K</td>\n",
       "      <td>-1.14%</td>\n",
       "      <td>601.0</td>\n",
       "      <td>48.365693</td>\n",
       "    </tr>\n",
       "    <tr>\n",
       "      <th>2019-05-03</th>\n",
       "      <td>31341</td>\n",
       "      <td>31250</td>\n",
       "      <td>31500</td>\n",
       "      <td>31163</td>\n",
       "      <td>0.08K</td>\n",
       "      <td>0.44%</td>\n",
       "      <td>280.0</td>\n",
       "      <td>429.924911</td>\n",
       "    </tr>\n",
       "  </tbody>\n",
       "</table>\n",
       "<p>102 rows × 8 columns</p>\n",
       "</div>"
      ],
      "text/plain": [
       "            Price   Open   High    Low    Vol. Change %   Pred         new\n",
       "2018-12-10  31895  31459  31966  31420  14.09K    1.45%  521.0  990.254297\n",
       "2018-12-11  31812  31850  31850  31618  10.53K   -0.26%  852.0  195.423493\n",
       "2018-12-12  31626  31749  31749  31582   7.57K   -0.58%  422.0   44.232664\n",
       "2018-12-13  31414  31550  31600  31337   8.43K   -0.67%  530.0  127.646233\n",
       "2018-12-14  31437  31440  31514  31384   6.75K    0.07%  144.0  127.219539\n",
       "...           ...    ...    ...    ...     ...      ...    ...         ...\n",
       "2019-04-26  31868  31851  31934  31705   9.67K    0.08%  535.0  247.177322\n",
       "2019-04-30  31625  31800  31824  31597   6.44K   -0.76%  438.0   52.201158\n",
       "2019-05-01  31563  31604  31657  31503   1.55K   -0.20%  269.0  113.293305\n",
       "2019-05-02  31203  31420  31425  31160   0.48K   -1.14%  601.0   48.365693\n",
       "2019-05-03  31341  31250  31500  31163   0.08K    0.44%  280.0  429.924911\n",
       "\n",
       "[102 rows x 8 columns]"
      ]
     },
     "execution_count": 15,
     "metadata": {},
     "output_type": "execute_result"
    }
   ],
   "source": [
    "df.tail(102)"
   ]
  },
  {
   "cell_type": "markdown",
   "metadata": {},
   "source": [
    "#### For 'new' column"
   ]
  },
  {
   "cell_type": "code",
   "execution_count": 16,
   "metadata": {
    "ExecuteTime": {
     "end_time": "2020-06-25T11:35:02.041335Z",
     "start_time": "2020-06-25T11:35:02.024822Z"
    }
   },
   "outputs": [],
   "source": [
    "X = df.iloc[:,:4]\n",
    "y = df.iloc[:,-1]"
   ]
  },
  {
   "cell_type": "code",
   "execution_count": 17,
   "metadata": {
    "ExecuteTime": {
     "end_time": "2020-06-25T11:35:02.063475Z",
     "start_time": "2020-06-25T11:35:02.044591Z"
    }
   },
   "outputs": [
    {
     "name": "stdout",
     "output_type": "stream",
     "text": [
      "Coefficients:   [ 1.01075112 -1.00262191  1.00644876 -1.01465824]\n",
      "Intercept:   1.0484172991330638\n",
      "Root Mean Square Error:   0.9685873698323549\n",
      "R^2 Value:   0.9999736914390309\n"
     ]
    }
   ],
   "source": [
    "linreg(X,y)"
   ]
  },
  {
   "cell_type": "code",
   "execution_count": 18,
   "metadata": {
    "ExecuteTime": {
     "end_time": "2020-06-25T11:35:02.075721Z",
     "start_time": "2020-06-25T11:35:02.067256Z"
    }
   },
   "outputs": [],
   "source": [
    "from sklearn.preprocessing import PolynomialFeatures"
   ]
  },
  {
   "cell_type": "code",
   "execution_count": 19,
   "metadata": {
    "ExecuteTime": {
     "end_time": "2020-06-25T11:35:02.091688Z",
     "start_time": "2020-06-25T11:35:02.080053Z"
    }
   },
   "outputs": [],
   "source": [
    "polynomial_features = PolynomialFeatures(degree=2)"
   ]
  },
  {
   "cell_type": "code",
   "execution_count": 20,
   "metadata": {
    "ExecuteTime": {
     "end_time": "2020-06-25T11:35:02.106891Z",
     "start_time": "2020-06-25T11:35:02.094789Z"
    }
   },
   "outputs": [],
   "source": [
    "X = polynomial_features.fit_transform(X)"
   ]
  },
  {
   "cell_type": "code",
   "execution_count": 21,
   "metadata": {
    "ExecuteTime": {
     "end_time": "2020-06-25T11:35:02.160579Z",
     "start_time": "2020-06-25T11:35:02.111464Z"
    }
   },
   "outputs": [
    {
     "name": "stdout",
     "output_type": "stream",
     "text": [
      "Coefficients:   [ 0.00000000e+00  1.01036790e+00 -1.00134609e+00  1.00603658e+00\n",
      " -1.01511237e+00  5.13495121e-07 -4.69201458e-08  3.27305959e-05\n",
      " -3.40542261e-05  8.07863552e-08  2.51802791e-07 -3.24976996e-07\n",
      " -1.79380181e-07 -3.28214403e-05  3.38519376e-05]\n",
      "Intercept:   0.10510429736524429\n",
      "Root Mean Square Error:   0.0505982418810188\n",
      "R^2 Value:   0.9999999282056374\n"
     ]
    }
   ],
   "source": [
    "linreg(X,y)"
   ]
  },
  {
   "cell_type": "markdown",
   "metadata": {},
   "source": [
    "Using Polynomial Features increases R^2 value a little bit"
   ]
  },
  {
   "cell_type": "code",
   "execution_count": 22,
   "metadata": {
    "ExecuteTime": {
     "end_time": "2020-06-25T11:35:02.184286Z",
     "start_time": "2020-06-25T11:35:02.163583Z"
    }
   },
   "outputs": [],
   "source": [
    "df.to_csv('Gold_complete.csv', encoding='utf-8', index=False)"
   ]
  },
  {
   "cell_type": "markdown",
   "metadata": {},
   "source": [
    "## Task 3.2"
   ]
  },
  {
   "cell_type": "code",
   "execution_count": 23,
   "metadata": {
    "ExecuteTime": {
     "end_time": "2020-06-25T11:35:02.308927Z",
     "start_time": "2020-06-25T11:35:02.186909Z"
    }
   },
   "outputs": [
    {
     "data": {
      "text/html": [
       "<div>\n",
       "<style scoped>\n",
       "    .dataframe tbody tr th:only-of-type {\n",
       "        vertical-align: middle;\n",
       "    }\n",
       "\n",
       "    .dataframe tbody tr th {\n",
       "        vertical-align: top;\n",
       "    }\n",
       "\n",
       "    .dataframe thead th {\n",
       "        text-align: right;\n",
       "    }\n",
       "</style>\n",
       "<table border=\"1\" class=\"dataframe\">\n",
       "  <thead>\n",
       "    <tr style=\"text-align: right;\">\n",
       "      <th></th>\n",
       "      <th>Symbol</th>\n",
       "      <th>Series</th>\n",
       "      <th>Prev Close</th>\n",
       "      <th>Open Price</th>\n",
       "      <th>High Price</th>\n",
       "      <th>Low Price</th>\n",
       "      <th>Last Price</th>\n",
       "      <th>Close Price</th>\n",
       "      <th>Average Price</th>\n",
       "      <th>Total Traded Quantity</th>\n",
       "      <th>Turnover</th>\n",
       "      <th>No. of Trades</th>\n",
       "      <th>Deliverable Qty</th>\n",
       "      <th>% Dly Qt to Traded Qty</th>\n",
       "    </tr>\n",
       "    <tr>\n",
       "      <th>Date</th>\n",
       "      <th></th>\n",
       "      <th></th>\n",
       "      <th></th>\n",
       "      <th></th>\n",
       "      <th></th>\n",
       "      <th></th>\n",
       "      <th></th>\n",
       "      <th></th>\n",
       "      <th></th>\n",
       "      <th></th>\n",
       "      <th></th>\n",
       "      <th></th>\n",
       "      <th></th>\n",
       "      <th></th>\n",
       "    </tr>\n",
       "  </thead>\n",
       "  <tbody>\n",
       "    <tr>\n",
       "      <th>2017-05-15</th>\n",
       "      <td>LT</td>\n",
       "      <td>EQ</td>\n",
       "      <td>1740.60</td>\n",
       "      <td>1748.60</td>\n",
       "      <td>1751.55</td>\n",
       "      <td>1736.50</td>\n",
       "      <td>1742.00</td>\n",
       "      <td>1742.40</td>\n",
       "      <td>1743.15</td>\n",
       "      <td>797134</td>\n",
       "      <td>1.389521e+09</td>\n",
       "      <td>52614</td>\n",
       "      <td>529359</td>\n",
       "      <td>66.41</td>\n",
       "    </tr>\n",
       "    <tr>\n",
       "      <th>2017-05-16</th>\n",
       "      <td>LT</td>\n",
       "      <td>EQ</td>\n",
       "      <td>1742.40</td>\n",
       "      <td>1747.00</td>\n",
       "      <td>1748.25</td>\n",
       "      <td>1727.55</td>\n",
       "      <td>1740.60</td>\n",
       "      <td>1740.70</td>\n",
       "      <td>1736.62</td>\n",
       "      <td>1102926</td>\n",
       "      <td>1.915365e+09</td>\n",
       "      <td>48756</td>\n",
       "      <td>674148</td>\n",
       "      <td>61.12</td>\n",
       "    </tr>\n",
       "    <tr>\n",
       "      <th>2017-05-17</th>\n",
       "      <td>LT</td>\n",
       "      <td>EQ</td>\n",
       "      <td>1740.70</td>\n",
       "      <td>1743.90</td>\n",
       "      <td>1764.00</td>\n",
       "      <td>1730.50</td>\n",
       "      <td>1754.30</td>\n",
       "      <td>1755.45</td>\n",
       "      <td>1749.36</td>\n",
       "      <td>1668586</td>\n",
       "      <td>2.918955e+09</td>\n",
       "      <td>77513</td>\n",
       "      <td>830692</td>\n",
       "      <td>49.78</td>\n",
       "    </tr>\n",
       "    <tr>\n",
       "      <th>2017-05-18</th>\n",
       "      <td>LT</td>\n",
       "      <td>EQ</td>\n",
       "      <td>1755.45</td>\n",
       "      <td>1739.65</td>\n",
       "      <td>1750.10</td>\n",
       "      <td>1716.40</td>\n",
       "      <td>1722.10</td>\n",
       "      <td>1722.60</td>\n",
       "      <td>1725.53</td>\n",
       "      <td>1437220</td>\n",
       "      <td>2.479968e+09</td>\n",
       "      <td>47602</td>\n",
       "      <td>915874</td>\n",
       "      <td>63.73</td>\n",
       "    </tr>\n",
       "    <tr>\n",
       "      <th>2017-05-19</th>\n",
       "      <td>LT</td>\n",
       "      <td>EQ</td>\n",
       "      <td>1722.60</td>\n",
       "      <td>1729.00</td>\n",
       "      <td>1734.00</td>\n",
       "      <td>1697.55</td>\n",
       "      <td>1720.05</td>\n",
       "      <td>1724.55</td>\n",
       "      <td>1718.73</td>\n",
       "      <td>1512094</td>\n",
       "      <td>2.598885e+09</td>\n",
       "      <td>59280</td>\n",
       "      <td>838396</td>\n",
       "      <td>55.45</td>\n",
       "    </tr>\n",
       "  </tbody>\n",
       "</table>\n",
       "</div>"
      ],
      "text/plain": [
       "           Symbol Series  Prev Close  Open Price  High Price  Low Price  \\\n",
       "Date                                                                      \n",
       "2017-05-15     LT     EQ     1740.60     1748.60     1751.55    1736.50   \n",
       "2017-05-16     LT     EQ     1742.40     1747.00     1748.25    1727.55   \n",
       "2017-05-17     LT     EQ     1740.70     1743.90     1764.00    1730.50   \n",
       "2017-05-18     LT     EQ     1755.45     1739.65     1750.10    1716.40   \n",
       "2017-05-19     LT     EQ     1722.60     1729.00     1734.00    1697.55   \n",
       "\n",
       "            Last Price  Close Price  Average Price  Total Traded Quantity  \\\n",
       "Date                                                                        \n",
       "2017-05-15     1742.00      1742.40        1743.15                 797134   \n",
       "2017-05-16     1740.60      1740.70        1736.62                1102926   \n",
       "2017-05-17     1754.30      1755.45        1749.36                1668586   \n",
       "2017-05-18     1722.10      1722.60        1725.53                1437220   \n",
       "2017-05-19     1720.05      1724.55        1718.73                1512094   \n",
       "\n",
       "                Turnover  No. of Trades  Deliverable Qty  \\\n",
       "Date                                                       \n",
       "2017-05-15  1.389521e+09          52614           529359   \n",
       "2017-05-16  1.915365e+09          48756           674148   \n",
       "2017-05-17  2.918955e+09          77513           830692   \n",
       "2017-05-18  2.479968e+09          47602           915874   \n",
       "2017-05-19  2.598885e+09          59280           838396   \n",
       "\n",
       "            % Dly Qt to Traded Qty  \n",
       "Date                                \n",
       "2017-05-15                   66.41  \n",
       "2017-05-16                   61.12  \n",
       "2017-05-17                   49.78  \n",
       "2017-05-18                   63.73  \n",
       "2017-05-19                   55.45  "
      ]
     },
     "execution_count": 23,
     "metadata": {},
     "output_type": "execute_result"
    }
   ],
   "source": [
    "LT_df = pd.read_csv('../Stocks/Large_Cap/LT.csv')\n",
    "LT_df['Date'] = pd.to_datetime(LT_df['Date'])\n",
    "LT_df.set_index('Date', inplace=True)\n",
    "LT_df = LT_df[LT_df.Series == 'EQ']\n",
    "LT_df.head()"
   ]
  },
  {
   "cell_type": "code",
   "execution_count": 24,
   "metadata": {
    "ExecuteTime": {
     "end_time": "2020-06-25T11:35:02.396355Z",
     "start_time": "2020-06-25T11:35:02.311491Z"
    }
   },
   "outputs": [
    {
     "data": {
      "text/html": [
       "<div>\n",
       "<style scoped>\n",
       "    .dataframe tbody tr th:only-of-type {\n",
       "        vertical-align: middle;\n",
       "    }\n",
       "\n",
       "    .dataframe tbody tr th {\n",
       "        vertical-align: top;\n",
       "    }\n",
       "\n",
       "    .dataframe thead th {\n",
       "        text-align: right;\n",
       "    }\n",
       "</style>\n",
       "<table border=\"1\" class=\"dataframe\">\n",
       "  <thead>\n",
       "    <tr style=\"text-align: right;\">\n",
       "      <th></th>\n",
       "      <th>Open</th>\n",
       "      <th>High</th>\n",
       "      <th>Low</th>\n",
       "      <th>Close</th>\n",
       "      <th>Shares Traded</th>\n",
       "      <th>Turnover (Rs. Cr)</th>\n",
       "    </tr>\n",
       "    <tr>\n",
       "      <th>Date</th>\n",
       "      <th></th>\n",
       "      <th></th>\n",
       "      <th></th>\n",
       "      <th></th>\n",
       "      <th></th>\n",
       "      <th></th>\n",
       "    </tr>\n",
       "  </thead>\n",
       "  <tbody>\n",
       "    <tr>\n",
       "      <th>2017-05-15</th>\n",
       "      <td>9433.55</td>\n",
       "      <td>9449.25</td>\n",
       "      <td>9423.10</td>\n",
       "      <td>9445.40</td>\n",
       "      <td>145163953</td>\n",
       "      <td>7790.97</td>\n",
       "    </tr>\n",
       "    <tr>\n",
       "      <th>2017-05-16</th>\n",
       "      <td>9461.00</td>\n",
       "      <td>9517.20</td>\n",
       "      <td>9456.35</td>\n",
       "      <td>9512.25</td>\n",
       "      <td>171709433</td>\n",
       "      <td>9209.89</td>\n",
       "    </tr>\n",
       "    <tr>\n",
       "      <th>2017-05-17</th>\n",
       "      <td>9517.60</td>\n",
       "      <td>9532.60</td>\n",
       "      <td>9486.10</td>\n",
       "      <td>9525.75</td>\n",
       "      <td>211856040</td>\n",
       "      <td>10726.23</td>\n",
       "    </tr>\n",
       "    <tr>\n",
       "      <th>2017-05-18</th>\n",
       "      <td>9453.20</td>\n",
       "      <td>9489.10</td>\n",
       "      <td>9418.10</td>\n",
       "      <td>9429.45</td>\n",
       "      <td>199340647</td>\n",
       "      <td>10782.46</td>\n",
       "    </tr>\n",
       "    <tr>\n",
       "      <th>2017-05-19</th>\n",
       "      <td>9469.90</td>\n",
       "      <td>9505.75</td>\n",
       "      <td>9390.75</td>\n",
       "      <td>9427.90</td>\n",
       "      <td>259861396</td>\n",
       "      <td>11544.77</td>\n",
       "    </tr>\n",
       "  </tbody>\n",
       "</table>\n",
       "</div>"
      ],
      "text/plain": [
       "               Open     High      Low    Close  Shares Traded  \\\n",
       "Date                                                            \n",
       "2017-05-15  9433.55  9449.25  9423.10  9445.40      145163953   \n",
       "2017-05-16  9461.00  9517.20  9456.35  9512.25      171709433   \n",
       "2017-05-17  9517.60  9532.60  9486.10  9525.75      211856040   \n",
       "2017-05-18  9453.20  9489.10  9418.10  9429.45      199340647   \n",
       "2017-05-19  9469.90  9505.75  9390.75  9427.90      259861396   \n",
       "\n",
       "            Turnover (Rs. Cr)  \n",
       "Date                           \n",
       "2017-05-15            7790.97  \n",
       "2017-05-16            9209.89  \n",
       "2017-05-17           10726.23  \n",
       "2017-05-18           10782.46  \n",
       "2017-05-19           11544.77  "
      ]
     },
     "execution_count": 24,
     "metadata": {},
     "output_type": "execute_result"
    }
   ],
   "source": [
    "nifty_df = pd.read_csv('../Stocks/Nifty50/NIFTY50.csv')\n",
    "nifty_df['Date'] = pd.to_datetime(nifty_df['Date'])\n",
    "nifty_df.set_index('Date', inplace=True)\n",
    "nifty_df.head()"
   ]
  },
  {
   "cell_type": "code",
   "execution_count": 25,
   "metadata": {
    "ExecuteTime": {
     "end_time": "2020-06-25T11:35:02.456431Z",
     "start_time": "2020-06-25T11:35:02.401547Z"
    }
   },
   "outputs": [],
   "source": [
    "LT_df['Day_Perc_Change'] = LT_df['Close Price'].pct_change()*100\n",
    "nifty_df['Day_Perc_Change'] = nifty_df['Close'].pct_change()*100"
   ]
  },
  {
   "cell_type": "code",
   "execution_count": 26,
   "metadata": {
    "ExecuteTime": {
     "end_time": "2020-06-25T11:35:02.513368Z",
     "start_time": "2020-06-25T11:35:02.465458Z"
    }
   },
   "outputs": [
    {
     "data": {
      "text/html": [
       "<div>\n",
       "<style scoped>\n",
       "    .dataframe tbody tr th:only-of-type {\n",
       "        vertical-align: middle;\n",
       "    }\n",
       "\n",
       "    .dataframe tbody tr th {\n",
       "        vertical-align: top;\n",
       "    }\n",
       "\n",
       "    .dataframe thead th {\n",
       "        text-align: right;\n",
       "    }\n",
       "</style>\n",
       "<table border=\"1\" class=\"dataframe\">\n",
       "  <thead>\n",
       "    <tr style=\"text-align: right;\">\n",
       "      <th></th>\n",
       "      <th>LT</th>\n",
       "      <th>NIFTY50</th>\n",
       "    </tr>\n",
       "    <tr>\n",
       "      <th>Date</th>\n",
       "      <th></th>\n",
       "      <th></th>\n",
       "    </tr>\n",
       "  </thead>\n",
       "  <tbody>\n",
       "    <tr>\n",
       "      <th>2018-12-31</th>\n",
       "      <td>-0.128526</td>\n",
       "      <td>0.024402</td>\n",
       "    </tr>\n",
       "    <tr>\n",
       "      <th>2019-01-01</th>\n",
       "      <td>0.302598</td>\n",
       "      <td>0.437743</td>\n",
       "    </tr>\n",
       "    <tr>\n",
       "      <th>2019-01-02</th>\n",
       "      <td>-1.137388</td>\n",
       "      <td>-1.077900</td>\n",
       "    </tr>\n",
       "    <tr>\n",
       "      <th>2019-01-03</th>\n",
       "      <td>-2.139600</td>\n",
       "      <td>-1.114200</td>\n",
       "    </tr>\n",
       "    <tr>\n",
       "      <th>2019-01-04</th>\n",
       "      <td>-0.498208</td>\n",
       "      <td>0.516292</td>\n",
       "    </tr>\n",
       "    <tr>\n",
       "      <th>...</th>\n",
       "      <td>...</td>\n",
       "      <td>...</td>\n",
       "    </tr>\n",
       "    <tr>\n",
       "      <th>2019-05-07</th>\n",
       "      <td>1.027574</td>\n",
       "      <td>-0.865217</td>\n",
       "    </tr>\n",
       "    <tr>\n",
       "      <th>2019-05-08</th>\n",
       "      <td>-0.457339</td>\n",
       "      <td>-1.204133</td>\n",
       "    </tr>\n",
       "    <tr>\n",
       "      <th>2019-05-09</th>\n",
       "      <td>-0.286691</td>\n",
       "      <td>-0.507507</td>\n",
       "    </tr>\n",
       "    <tr>\n",
       "      <th>2019-05-10</th>\n",
       "      <td>-0.070036</td>\n",
       "      <td>-0.202623</td>\n",
       "    </tr>\n",
       "    <tr>\n",
       "      <th>2019-05-13</th>\n",
       "      <td>-2.792328</td>\n",
       "      <td>-1.158801</td>\n",
       "    </tr>\n",
       "  </tbody>\n",
       "</table>\n",
       "<p>90 rows × 2 columns</p>\n",
       "</div>"
      ],
      "text/plain": [
       "                  LT   NIFTY50\n",
       "Date                          \n",
       "2018-12-31 -0.128526  0.024402\n",
       "2019-01-01  0.302598  0.437743\n",
       "2019-01-02 -1.137388 -1.077900\n",
       "2019-01-03 -2.139600 -1.114200\n",
       "2019-01-04 -0.498208  0.516292\n",
       "...              ...       ...\n",
       "2019-05-07  1.027574 -0.865217\n",
       "2019-05-08 -0.457339 -1.204133\n",
       "2019-05-09 -0.286691 -0.507507\n",
       "2019-05-10 -0.070036 -0.202623\n",
       "2019-05-13 -2.792328 -1.158801\n",
       "\n",
       "[90 rows x 2 columns]"
      ]
     },
     "execution_count": 26,
     "metadata": {},
     "output_type": "execute_result"
    }
   ],
   "source": [
    "daily_prices = pd.concat([ LT_df['Day_Perc_Change'][-90:], nifty_df['Day_Perc_Change'][-90:] ], axis=1)\n",
    "daily_prices.columns = ['LT', 'NIFTY50']\n",
    "daily_prices"
   ]
  },
  {
   "cell_type": "code",
   "execution_count": 27,
   "metadata": {
    "ExecuteTime": {
     "end_time": "2020-06-25T11:35:03.822392Z",
     "start_time": "2020-06-25T11:35:02.521709Z"
    }
   },
   "outputs": [
    {
     "data": {
      "image/png": "[encoded data removed]",
      "text/plain": [
       "<Figure size 1440x720 with 1 Axes>"
      ]
     },
     "metadata": {
      "needs_background": "light"
     },
     "output_type": "display_data"
    }
   ],
   "source": [
    "plt.figure(figsize=(20,10))\n",
    "plt.xticks(rotation =50)\n",
    "sns.lineplot(x = daily_prices.index, y = daily_prices['NIFTY50'], label ='Nifty')\n",
    "sns.lineplot(x = daily_prices.index, y = daily_prices['LT'],label ='LT')\n",
    "plt.gca().set(xlabel ='Dates', ylabel ='Last 3 month Daily % Change', title ='Daily returns trend');"
   ]
  },
  {
   "cell_type": "code",
   "execution_count": 28,
   "metadata": {
    "ExecuteTime": {
     "end_time": "2020-06-25T11:35:03.838984Z",
     "start_time": "2020-06-25T11:35:03.826898Z"
    }
   },
   "outputs": [],
   "source": [
    "def ols(X,y):\n",
    "    X1 = sm.add_constant(X)\n",
    "    daily_model_beta = sm.OLS(y,X1)\n",
    "    results = daily_model_beta.fit()\n",
    "    print(results.summary())\n",
    "    ax = sns.regplot(x=X, y=y);\n",
    "    "
   ]
  },
  {
   "cell_type": "code",
   "execution_count": 29,
   "metadata": {
    "ExecuteTime": {
     "end_time": "2020-06-25T11:35:04.401397Z",
     "start_time": "2020-06-25T11:35:03.844648Z"
    }
   },
   "outputs": [
    {
     "name": "stdout",
     "output_type": "stream",
     "text": [
      "                            OLS Regression Results                            \n",
      "==============================================================================\n",
      "Dep. Variable:                     LT   R-squared:                       0.179\n",
      "Model:                            OLS   Adj. R-squared:                  0.169\n",
      "Method:                 Least Squares   F-statistic:                     19.15\n",
      "Date:                Thu, 25 Jun 2020   Prob (F-statistic):           3.31e-05\n",
      "Time:                        17:05:03   Log-Likelihood:                -133.06\n",
      "No. Observations:                  90   AIC:                             270.1\n",
      "Df Residuals:                      88   BIC:                             275.1\n",
      "Df Model:                           1                                         \n",
      "Covariance Type:            nonrobust                                         \n",
      "==============================================================================\n",
      "                 coef    std err          t      P>|t|      [0.025      0.975]\n",
      "------------------------------------------------------------------------------\n",
      "const         -0.1141      0.113     -1.007      0.317      -0.339       0.111\n",
      "NIFTY50        0.7252      0.166      4.376      0.000       0.396       1.055\n",
      "==============================================================================\n",
      "Omnibus:                        0.694   Durbin-Watson:                   1.982\n",
      "Prob(Omnibus):                  0.707   Jarque-Bera (JB):                0.759\n",
      "Skew:                           0.199   Prob(JB):                        0.684\n",
      "Kurtosis:                       2.792   Cond. No.                         1.47\n",
      "==============================================================================\n",
      "\n",
      "Warnings:\n",
      "[1] Standard Errors assume that the covariance matrix of the errors is correctly specified.\n"
     ]
    },
    {
     "data": {
      "image/png": "[encoded data removed]",
      "text/plain": [
       "<Figure size 432x288 with 1 Axes>"
      ]
     },
     "metadata": {
      "needs_background": "light"
     },
     "output_type": "display_data"
    }
   ],
   "source": [
    "X = daily_prices['NIFTY50']\n",
    "y = daily_prices['LT']\n",
    "\n",
    "ols(X,y)"
   ]
  },
  {
   "cell_type": "markdown",
   "metadata": {},
   "source": [
    "The value of beta for last 3 months on daily returns comes out to be 0.7252 which is less than 1, this means that the stock LT is less volatile than Nifty on a daily basis."
   ]
  },
  {
   "cell_type": "code",
   "execution_count": 30,
   "metadata": {
    "ExecuteTime": {
     "end_time": "2020-06-25T11:35:04.429094Z",
     "start_time": "2020-06-25T11:35:04.405160Z"
    }
   },
   "outputs": [
    {
     "data": {
      "text/html": [
       "<div>\n",
       "<style scoped>\n",
       "    .dataframe tbody tr th:only-of-type {\n",
       "        vertical-align: middle;\n",
       "    }\n",
       "\n",
       "    .dataframe tbody tr th {\n",
       "        vertical-align: top;\n",
       "    }\n",
       "\n",
       "    .dataframe thead th {\n",
       "        text-align: right;\n",
       "    }\n",
       "</style>\n",
       "<table border=\"1\" class=\"dataframe\">\n",
       "  <thead>\n",
       "    <tr style=\"text-align: right;\">\n",
       "      <th></th>\n",
       "      <th>LT</th>\n",
       "      <th>NIFTY50</th>\n",
       "    </tr>\n",
       "    <tr>\n",
       "      <th>Date</th>\n",
       "      <th></th>\n",
       "      <th></th>\n",
       "    </tr>\n",
       "  </thead>\n",
       "  <tbody>\n",
       "    <tr>\n",
       "      <th>2017-05-15</th>\n",
       "      <td>1742.40</td>\n",
       "      <td>9445.40</td>\n",
       "    </tr>\n",
       "    <tr>\n",
       "      <th>2017-05-16</th>\n",
       "      <td>1740.70</td>\n",
       "      <td>9512.25</td>\n",
       "    </tr>\n",
       "    <tr>\n",
       "      <th>2017-05-17</th>\n",
       "      <td>1755.45</td>\n",
       "      <td>9525.75</td>\n",
       "    </tr>\n",
       "    <tr>\n",
       "      <th>2017-05-18</th>\n",
       "      <td>1722.60</td>\n",
       "      <td>9429.45</td>\n",
       "    </tr>\n",
       "    <tr>\n",
       "      <th>2017-05-19</th>\n",
       "      <td>1724.55</td>\n",
       "      <td>9427.90</td>\n",
       "    </tr>\n",
       "  </tbody>\n",
       "</table>\n",
       "</div>"
      ],
      "text/plain": [
       "                 LT  NIFTY50\n",
       "Date                        \n",
       "2017-05-15  1742.40  9445.40\n",
       "2017-05-16  1740.70  9512.25\n",
       "2017-05-17  1755.45  9525.75\n",
       "2017-05-18  1722.60  9429.45\n",
       "2017-05-19  1724.55  9427.90"
      ]
     },
     "execution_count": 30,
     "metadata": {},
     "output_type": "execute_result"
    }
   ],
   "source": [
    "monthly_prices = pd.concat([LT_df['Close Price'],nifty_df['Close']],axis=1)\n",
    "monthly_prices.columns = ['LT', 'NIFTY50']\n",
    "monthly_prices.head()"
   ]
  },
  {
   "cell_type": "code",
   "execution_count": 31,
   "metadata": {
    "ExecuteTime": {
     "end_time": "2020-06-25T11:35:04.470595Z",
     "start_time": "2020-06-25T11:35:04.440047Z"
    }
   },
   "outputs": [
    {
     "data": {
      "text/html": [
       "<div>\n",
       "<style scoped>\n",
       "    .dataframe tbody tr th:only-of-type {\n",
       "        vertical-align: middle;\n",
       "    }\n",
       "\n",
       "    .dataframe tbody tr th {\n",
       "        vertical-align: top;\n",
       "    }\n",
       "\n",
       "    .dataframe thead th {\n",
       "        text-align: right;\n",
       "    }\n",
       "</style>\n",
       "<table border=\"1\" class=\"dataframe\">\n",
       "  <thead>\n",
       "    <tr style=\"text-align: right;\">\n",
       "      <th></th>\n",
       "      <th>LT</th>\n",
       "      <th>NIFTY50</th>\n",
       "    </tr>\n",
       "    <tr>\n",
       "      <th>Date</th>\n",
       "      <th></th>\n",
       "      <th></th>\n",
       "    </tr>\n",
       "  </thead>\n",
       "  <tbody>\n",
       "    <tr>\n",
       "      <th>2017-05</th>\n",
       "      <td>1748.457692</td>\n",
       "      <td>9498.557692</td>\n",
       "    </tr>\n",
       "    <tr>\n",
       "      <th>2017-06</th>\n",
       "      <td>1748.371429</td>\n",
       "      <td>9606.954762</td>\n",
       "    </tr>\n",
       "    <tr>\n",
       "      <th>2017-07</th>\n",
       "      <td>1380.421429</td>\n",
       "      <td>9850.119048</td>\n",
       "    </tr>\n",
       "    <tr>\n",
       "      <th>2017-08</th>\n",
       "      <td>1148.164286</td>\n",
       "      <td>9901.183333</td>\n",
       "    </tr>\n",
       "    <tr>\n",
       "      <th>2017-09</th>\n",
       "      <td>1179.380952</td>\n",
       "      <td>9977.916667</td>\n",
       "    </tr>\n",
       "  </tbody>\n",
       "</table>\n",
       "</div>"
      ],
      "text/plain": [
       "                  LT      NIFTY50\n",
       "Date                             \n",
       "2017-05  1748.457692  9498.557692\n",
       "2017-06  1748.371429  9606.954762\n",
       "2017-07  1380.421429  9850.119048\n",
       "2017-08  1148.164286  9901.183333\n",
       "2017-09  1179.380952  9977.916667"
      ]
     },
     "execution_count": 31,
     "metadata": {},
     "output_type": "execute_result"
    }
   ],
   "source": [
    "monthly_prices = monthly_prices.groupby([monthly_prices.index.to_period('M')]).mean()\n",
    "monthly_prices.head()"
   ]
  },
  {
   "cell_type": "code",
   "execution_count": 32,
   "metadata": {
    "ExecuteTime": {
     "end_time": "2020-06-25T11:35:04.505523Z",
     "start_time": "2020-06-25T11:35:04.475342Z"
    }
   },
   "outputs": [
    {
     "data": {
      "text/html": [
       "<div>\n",
       "<style scoped>\n",
       "    .dataframe tbody tr th:only-of-type {\n",
       "        vertical-align: middle;\n",
       "    }\n",
       "\n",
       "    .dataframe tbody tr th {\n",
       "        vertical-align: top;\n",
       "    }\n",
       "\n",
       "    .dataframe thead th {\n",
       "        text-align: right;\n",
       "    }\n",
       "</style>\n",
       "<table border=\"1\" class=\"dataframe\">\n",
       "  <thead>\n",
       "    <tr style=\"text-align: right;\">\n",
       "      <th></th>\n",
       "      <th>LT</th>\n",
       "      <th>NIFTY50</th>\n",
       "    </tr>\n",
       "    <tr>\n",
       "      <th>Date</th>\n",
       "      <th></th>\n",
       "      <th></th>\n",
       "    </tr>\n",
       "  </thead>\n",
       "  <tbody>\n",
       "    <tr>\n",
       "      <th>2017-06</th>\n",
       "      <td>-0.004934</td>\n",
       "      <td>1.141195</td>\n",
       "    </tr>\n",
       "    <tr>\n",
       "      <th>2017-07</th>\n",
       "      <td>-21.045299</td>\n",
       "      <td>2.531128</td>\n",
       "    </tr>\n",
       "    <tr>\n",
       "      <th>2017-08</th>\n",
       "      <td>-16.825090</td>\n",
       "      <td>0.518413</td>\n",
       "    </tr>\n",
       "    <tr>\n",
       "      <th>2017-09</th>\n",
       "      <td>2.718833</td>\n",
       "      <td>0.774992</td>\n",
       "    </tr>\n",
       "    <tr>\n",
       "      <th>2017-10</th>\n",
       "      <td>-1.595197</td>\n",
       "      <td>1.611166</td>\n",
       "    </tr>\n",
       "  </tbody>\n",
       "</table>\n",
       "</div>"
      ],
      "text/plain": [
       "                LT   NIFTY50\n",
       "Date                        \n",
       "2017-06  -0.004934  1.141195\n",
       "2017-07 -21.045299  2.531128\n",
       "2017-08 -16.825090  0.518413\n",
       "2017-09   2.718833  0.774992\n",
       "2017-10  -1.595197  1.611166"
      ]
     },
     "execution_count": 32,
     "metadata": {},
     "output_type": "execute_result"
    }
   ],
   "source": [
    "monthly_prices = monthly_prices.pct_change()*100\n",
    "monthly_prices = monthly_prices.dropna(axis=0)\n",
    "monthly_prices.head()"
   ]
  },
  {
   "cell_type": "code",
   "execution_count": 33,
   "metadata": {
    "ExecuteTime": {
     "end_time": "2020-06-25T11:35:05.259271Z",
     "start_time": "2020-06-25T11:35:04.510946Z"
    }
   },
   "outputs": [
    {
     "name": "stdout",
     "output_type": "stream",
     "text": [
      "                            OLS Regression Results                            \n",
      "==============================================================================\n",
      "Dep. Variable:                     LT   R-squared:                       0.109\n",
      "Model:                            OLS   Adj. R-squared:                  0.068\n",
      "Method:                 Least Squares   F-statistic:                     2.681\n",
      "Date:                Thu, 25 Jun 2020   Prob (F-statistic):              0.116\n",
      "Time:                        17:05:04   Log-Likelihood:                -80.112\n",
      "No. Observations:                  24   AIC:                             164.2\n",
      "Df Residuals:                      22   BIC:                             166.6\n",
      "Df Model:                           1                                         \n",
      "Covariance Type:            nonrobust                                         \n",
      "==============================================================================\n",
      "                 coef    std err          t      P>|t|      [0.025      0.975]\n",
      "------------------------------------------------------------------------------\n",
      "const         -1.5046      1.518     -0.991      0.332      -4.653       1.644\n",
      "NIFTY50        0.8806      0.538      1.637      0.116      -0.235       1.996\n",
      "==============================================================================\n",
      "Omnibus:                       16.466   Durbin-Watson:                   1.388\n",
      "Prob(Omnibus):                  0.000   Jarque-Bera (JB):               18.933\n",
      "Skew:                          -1.500   Prob(JB):                     7.74e-05\n",
      "Kurtosis:                       6.151   Cond. No.                         2.99\n",
      "==============================================================================\n",
      "\n",
      "Warnings:\n",
      "[1] Standard Errors assume that the covariance matrix of the errors is correctly specified.\n"
     ]
    },
    {
     "data": {
      "image/png": "[encoded data removed]",
      "text/plain": [
       "<Figure size 432x288 with 1 Axes>"
      ]
     },
     "metadata": {
      "needs_background": "light"
     },
     "output_type": "display_data"
    }
   ],
   "source": [
    "X = monthly_prices['NIFTY50']\n",
    "y = monthly_prices['LT']\n",
    "\n",
    "ols(X,y)"
   ]
  },
  {
   "cell_type": "markdown",
   "metadata": {},
   "source": [
    "The value of beta on monthly basis comes out to be 0.8806 which is less than 1, this means that the stock LT is less volatile than Nifty on a monthly basis."
   ]
  },
  {
   "cell_type": "markdown",
   "metadata": {},
   "source": [
    "### Inferences \n",
    "\n",
    "#### The logic of Beta values is:\n",
    "- If a stock has Beta > 1.0, it moves more than market, i.e, is more volatile.\n",
    "- If Beta < 1.0, it moves less than the market, i.e, is less volatile.\n",
    "- If Beta = 0.0, it indicates no correlation with the market.\n",
    "- Beta < 0.0 i.e. negative. This is highly unlikely as it signifies that when market goes down the stock goes up and vice_versa.\n",
    "\n",
    "#### From Beta Values:\n",
    "- It can be seen that both Beta_daily and Beta_monthly are less than 1 i.e. they are less volatile than market.\n",
    "- However, Beta_monthly is greater than Beta_daily. Hence stock is more volatile on a monthly basis than daily basis.\n",
    "\n",
    "#### From Regression Analyis:\n",
    "- Due to very small dataset the regression line is underfit which can be seen from the values of R-squared in both daily and monthly basis.\n",
    "- Also from the graph you can see that there are outliers as well as the points are highly scattered."
   ]
  }
 ],
 "metadata": {
  "kernelspec": {
   "display_name": "Python 3",
   "language": "python",
   "name": "python3"
  },
  "language_info": {
   "codemirror_mode": {
    "name": "ipython",
    "version": 3
   },
   "file_extension": ".py",
   "mimetype": "text/x-python",
   "name": "python",
   "nbconvert_exporter": "python",
   "pygments_lexer": "ipython3",
   "version": "3.7.6"
  }
 },
 "nbformat": 4,
 "nbformat_minor": 4
}
