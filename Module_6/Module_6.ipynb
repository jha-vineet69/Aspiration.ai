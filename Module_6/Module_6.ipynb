{
 "cells": [
  {
   "cell_type": "markdown",
   "metadata": {},
   "source": [
    "## Task 6.1"
   ]
  },
  {
   "cell_type": "code",
   "execution_count": 1,
   "metadata": {
    "ExecuteTime": {
     "end_time": "2020-06-25T11:39:30.257054Z",
     "start_time": "2020-06-25T11:39:26.585057Z"
    }
   },
   "outputs": [],
   "source": [
    "import warnings\n",
    "warnings.filterwarnings('ignore')\n",
    "import numpy as np \n",
    "import pandas as pd \n",
    "import seaborn as sns \n",
    "import matplotlib.pyplot as plt\n",
    "%matplotlib inline\n",
    "import glob\n",
    "import random\n",
    "random.seed(a=13)\n",
    "from sklearn.cluster import KMeans\n",
    "from sklearn.metrics import silhouette_score"
   ]
  },
  {
   "cell_type": "code",
   "execution_count": 2,
   "metadata": {
    "ExecuteTime": {
     "end_time": "2020-06-25T11:39:30.275055Z",
     "start_time": "2020-06-25T11:39:30.261558Z"
    }
   },
   "outputs": [],
   "source": [
    "file_large = glob.glob('../Stocks/Large_Cap/*.csv')\n",
    "file_large = random.sample( file_large, 10 )\n",
    "\n",
    "file_small = glob.glob('../Stocks/Small_Cap/*.csv')\n",
    "file_small = random.sample( file_small, 10 )\n",
    "\n",
    "file_mid = glob.glob('../Stocks/Mid_Cap/*.csv')\n",
    "file_mid = random.sample( file_mid, 10 )"
   ]
  },
  {
   "cell_type": "code",
   "execution_count": 3,
   "metadata": {
    "ExecuteTime": {
     "end_time": "2020-06-25T11:39:30.294381Z",
     "start_time": "2020-06-25T11:39:30.279629Z"
    }
   },
   "outputs": [],
   "source": [
    "final_files = []\n",
    "final_files.extend(file_large)\n",
    "final_files.extend(file_small)\n",
    "final_files.extend(file_mid)"
   ]
  },
  {
   "cell_type": "code",
   "execution_count": 4,
   "metadata": {
    "ExecuteTime": {
     "end_time": "2020-06-25T11:39:30.320917Z",
     "start_time": "2020-06-25T11:39:30.305738Z"
    }
   },
   "outputs": [],
   "source": [
    "names = []\n",
    "\n",
    "def pre_process(df):\n",
    "    df = df[df.Series == 'EQ']\n",
    "    names.append(df.Symbol.unique().tolist())\n",
    "    df = df[['Date','Close Price']]\n",
    "    df['Date'] = pd.to_datetime(df['Date'])\n",
    "    df = df.set_index('Date')\n",
    "    df.rename_axis(None, inplace=True)\n",
    "    return df"
   ]
  },
  {
   "cell_type": "code",
   "execution_count": 5,
   "metadata": {
    "ExecuteTime": {
     "end_time": "2020-06-25T11:39:33.946418Z",
     "start_time": "2020-06-25T11:39:30.327147Z"
    }
   },
   "outputs": [
    {
     "data": {
      "text/html": [
       "<div>\n",
       "<style scoped>\n",
       "    .dataframe tbody tr th:only-of-type {\n",
       "        vertical-align: middle;\n",
       "    }\n",
       "\n",
       "    .dataframe tbody tr th {\n",
       "        vertical-align: top;\n",
       "    }\n",
       "\n",
       "    .dataframe thead th {\n",
       "        text-align: right;\n",
       "    }\n",
       "</style>\n",
       "<table border=\"1\" class=\"dataframe\">\n",
       "  <thead>\n",
       "    <tr style=\"text-align: right;\">\n",
       "      <th></th>\n",
       "      <th>GAIL</th>\n",
       "      <th>HDFC</th>\n",
       "      <th>RELIANCE</th>\n",
       "      <th>SUNPHARMA</th>\n",
       "      <th>CIPLA</th>\n",
       "      <th>EICHERMOT</th>\n",
       "      <th>BPCL</th>\n",
       "      <th>M&amp;M</th>\n",
       "      <th>MARUTI</th>\n",
       "      <th>LT</th>\n",
       "      <th>...</th>\n",
       "      <th>AMARAJABAT</th>\n",
       "      <th>EXIDEIND</th>\n",
       "      <th>JUBLFOOD</th>\n",
       "      <th>JINDALSTEL</th>\n",
       "      <th>BERGEPAINT</th>\n",
       "      <th>TATAPOWER</th>\n",
       "      <th>IDBI</th>\n",
       "      <th>DHFL</th>\n",
       "      <th>MINDTREE</th>\n",
       "      <th>SUNTV</th>\n",
       "    </tr>\n",
       "  </thead>\n",
       "  <tbody>\n",
       "    <tr>\n",
       "      <th>2017-05-15</th>\n",
       "      <td>414.00</td>\n",
       "      <td>1559.50</td>\n",
       "      <td>1344.10</td>\n",
       "      <td>654.45</td>\n",
       "      <td>569.00</td>\n",
       "      <td>28930.60</td>\n",
       "      <td>727.85</td>\n",
       "      <td>1375.65</td>\n",
       "      <td>6823.90</td>\n",
       "      <td>1742.40</td>\n",
       "      <td>...</td>\n",
       "      <td>933.40</td>\n",
       "      <td>245.80</td>\n",
       "      <td>1025.45</td>\n",
       "      <td>114.20</td>\n",
       "      <td>259.5</td>\n",
       "      <td>83.55</td>\n",
       "      <td>75.05</td>\n",
       "      <td>431.40</td>\n",
       "      <td>509.45</td>\n",
       "      <td>912.20</td>\n",
       "    </tr>\n",
       "    <tr>\n",
       "      <th>2017-05-16</th>\n",
       "      <td>411.40</td>\n",
       "      <td>1566.55</td>\n",
       "      <td>1356.30</td>\n",
       "      <td>652.35</td>\n",
       "      <td>565.60</td>\n",
       "      <td>29362.50</td>\n",
       "      <td>733.30</td>\n",
       "      <td>1366.35</td>\n",
       "      <td>6953.95</td>\n",
       "      <td>1740.70</td>\n",
       "      <td>...</td>\n",
       "      <td>924.70</td>\n",
       "      <td>244.70</td>\n",
       "      <td>1050.65</td>\n",
       "      <td>114.10</td>\n",
       "      <td>261.5</td>\n",
       "      <td>83.85</td>\n",
       "      <td>76.65</td>\n",
       "      <td>424.45</td>\n",
       "      <td>511.30</td>\n",
       "      <td>894.70</td>\n",
       "    </tr>\n",
       "    <tr>\n",
       "      <th>2017-05-17</th>\n",
       "      <td>408.30</td>\n",
       "      <td>1552.50</td>\n",
       "      <td>1353.10</td>\n",
       "      <td>650.90</td>\n",
       "      <td>562.35</td>\n",
       "      <td>29093.55</td>\n",
       "      <td>727.45</td>\n",
       "      <td>1378.80</td>\n",
       "      <td>6958.20</td>\n",
       "      <td>1755.45</td>\n",
       "      <td>...</td>\n",
       "      <td>937.70</td>\n",
       "      <td>243.20</td>\n",
       "      <td>1049.05</td>\n",
       "      <td>116.40</td>\n",
       "      <td>260.9</td>\n",
       "      <td>85.35</td>\n",
       "      <td>75.95</td>\n",
       "      <td>429.00</td>\n",
       "      <td>506.35</td>\n",
       "      <td>887.05</td>\n",
       "    </tr>\n",
       "    <tr>\n",
       "      <th>2017-05-18</th>\n",
       "      <td>404.75</td>\n",
       "      <td>1537.05</td>\n",
       "      <td>1327.35</td>\n",
       "      <td>653.95</td>\n",
       "      <td>560.10</td>\n",
       "      <td>28357.30</td>\n",
       "      <td>714.90</td>\n",
       "      <td>1352.85</td>\n",
       "      <td>6831.05</td>\n",
       "      <td>1722.60</td>\n",
       "      <td>...</td>\n",
       "      <td>912.10</td>\n",
       "      <td>239.85</td>\n",
       "      <td>1019.35</td>\n",
       "      <td>113.30</td>\n",
       "      <td>254.1</td>\n",
       "      <td>83.75</td>\n",
       "      <td>69.95</td>\n",
       "      <td>417.95</td>\n",
       "      <td>492.90</td>\n",
       "      <td>871.35</td>\n",
       "    </tr>\n",
       "    <tr>\n",
       "      <th>2017-05-19</th>\n",
       "      <td>401.05</td>\n",
       "      <td>1520.60</td>\n",
       "      <td>1318.85</td>\n",
       "      <td>653.15</td>\n",
       "      <td>564.95</td>\n",
       "      <td>27936.05</td>\n",
       "      <td>702.45</td>\n",
       "      <td>1333.40</td>\n",
       "      <td>6790.55</td>\n",
       "      <td>1724.55</td>\n",
       "      <td>...</td>\n",
       "      <td>895.75</td>\n",
       "      <td>238.15</td>\n",
       "      <td>1018.10</td>\n",
       "      <td>112.15</td>\n",
       "      <td>247.8</td>\n",
       "      <td>84.15</td>\n",
       "      <td>68.75</td>\n",
       "      <td>404.20</td>\n",
       "      <td>497.50</td>\n",
       "      <td>852.40</td>\n",
       "    </tr>\n",
       "    <tr>\n",
       "      <th>...</th>\n",
       "      <td>...</td>\n",
       "      <td>...</td>\n",
       "      <td>...</td>\n",
       "      <td>...</td>\n",
       "      <td>...</td>\n",
       "      <td>...</td>\n",
       "      <td>...</td>\n",
       "      <td>...</td>\n",
       "      <td>...</td>\n",
       "      <td>...</td>\n",
       "      <td>...</td>\n",
       "      <td>...</td>\n",
       "      <td>...</td>\n",
       "      <td>...</td>\n",
       "      <td>...</td>\n",
       "      <td>...</td>\n",
       "      <td>...</td>\n",
       "      <td>...</td>\n",
       "      <td>...</td>\n",
       "      <td>...</td>\n",
       "      <td>...</td>\n",
       "    </tr>\n",
       "    <tr>\n",
       "      <th>2019-05-07</th>\n",
       "      <td>340.75</td>\n",
       "      <td>1966.30</td>\n",
       "      <td>1343.50</td>\n",
       "      <td>448.20</td>\n",
       "      <td>557.95</td>\n",
       "      <td>20353.20</td>\n",
       "      <td>378.85</td>\n",
       "      <td>636.00</td>\n",
       "      <td>6702.00</td>\n",
       "      <td>1366.60</td>\n",
       "      <td>...</td>\n",
       "      <td>643.10</td>\n",
       "      <td>212.65</td>\n",
       "      <td>1282.25</td>\n",
       "      <td>169.30</td>\n",
       "      <td>304.7</td>\n",
       "      <td>64.35</td>\n",
       "      <td>37.25</td>\n",
       "      <td>116.60</td>\n",
       "      <td>979.95</td>\n",
       "      <td>551.10</td>\n",
       "    </tr>\n",
       "    <tr>\n",
       "      <th>2019-05-08</th>\n",
       "      <td>337.50</td>\n",
       "      <td>1930.75</td>\n",
       "      <td>1299.45</td>\n",
       "      <td>439.15</td>\n",
       "      <td>558.00</td>\n",
       "      <td>20336.55</td>\n",
       "      <td>379.80</td>\n",
       "      <td>621.65</td>\n",
       "      <td>6650.15</td>\n",
       "      <td>1360.35</td>\n",
       "      <td>...</td>\n",
       "      <td>636.00</td>\n",
       "      <td>208.35</td>\n",
       "      <td>1262.45</td>\n",
       "      <td>170.15</td>\n",
       "      <td>303.7</td>\n",
       "      <td>64.50</td>\n",
       "      <td>37.05</td>\n",
       "      <td>116.30</td>\n",
       "      <td>980.50</td>\n",
       "      <td>528.90</td>\n",
       "    </tr>\n",
       "    <tr>\n",
       "      <th>2019-05-09</th>\n",
       "      <td>340.40</td>\n",
       "      <td>1914.60</td>\n",
       "      <td>1256.45</td>\n",
       "      <td>439.35</td>\n",
       "      <td>557.75</td>\n",
       "      <td>20360.90</td>\n",
       "      <td>368.05</td>\n",
       "      <td>625.45</td>\n",
       "      <td>6624.95</td>\n",
       "      <td>1356.45</td>\n",
       "      <td>...</td>\n",
       "      <td>635.55</td>\n",
       "      <td>209.80</td>\n",
       "      <td>1268.80</td>\n",
       "      <td>163.05</td>\n",
       "      <td>302.3</td>\n",
       "      <td>64.40</td>\n",
       "      <td>37.45</td>\n",
       "      <td>116.00</td>\n",
       "      <td>980.45</td>\n",
       "      <td>540.70</td>\n",
       "    </tr>\n",
       "    <tr>\n",
       "      <th>2019-05-10</th>\n",
       "      <td>341.55</td>\n",
       "      <td>1931.70</td>\n",
       "      <td>1251.15</td>\n",
       "      <td>437.75</td>\n",
       "      <td>555.55</td>\n",
       "      <td>20354.00</td>\n",
       "      <td>362.95</td>\n",
       "      <td>628.75</td>\n",
       "      <td>6631.60</td>\n",
       "      <td>1355.50</td>\n",
       "      <td>...</td>\n",
       "      <td>634.90</td>\n",
       "      <td>210.20</td>\n",
       "      <td>1264.50</td>\n",
       "      <td>163.25</td>\n",
       "      <td>301.6</td>\n",
       "      <td>63.80</td>\n",
       "      <td>37.25</td>\n",
       "      <td>116.40</td>\n",
       "      <td>975.35</td>\n",
       "      <td>541.15</td>\n",
       "    </tr>\n",
       "    <tr>\n",
       "      <th>2019-05-13</th>\n",
       "      <td>332.05</td>\n",
       "      <td>1952.90</td>\n",
       "      <td>1232.05</td>\n",
       "      <td>398.10</td>\n",
       "      <td>546.70</td>\n",
       "      <td>18751.75</td>\n",
       "      <td>355.10</td>\n",
       "      <td>617.60</td>\n",
       "      <td>6543.75</td>\n",
       "      <td>1317.65</td>\n",
       "      <td>...</td>\n",
       "      <td>625.85</td>\n",
       "      <td>207.80</td>\n",
       "      <td>1242.60</td>\n",
       "      <td>154.35</td>\n",
       "      <td>299.5</td>\n",
       "      <td>62.60</td>\n",
       "      <td>34.45</td>\n",
       "      <td>110.95</td>\n",
       "      <td>979.10</td>\n",
       "      <td>535.65</td>\n",
       "    </tr>\n",
       "  </tbody>\n",
       "</table>\n",
       "<p>494 rows × 30 columns</p>\n",
       "</div>"
      ],
      "text/plain": [
       "              GAIL     HDFC  RELIANCE  SUNPHARMA   CIPLA  EICHERMOT    BPCL  \\\n",
       "2017-05-15  414.00  1559.50   1344.10     654.45  569.00   28930.60  727.85   \n",
       "2017-05-16  411.40  1566.55   1356.30     652.35  565.60   29362.50  733.30   \n",
       "2017-05-17  408.30  1552.50   1353.10     650.90  562.35   29093.55  727.45   \n",
       "2017-05-18  404.75  1537.05   1327.35     653.95  560.10   28357.30  714.90   \n",
       "2017-05-19  401.05  1520.60   1318.85     653.15  564.95   27936.05  702.45   \n",
       "...            ...      ...       ...        ...     ...        ...     ...   \n",
       "2019-05-07  340.75  1966.30   1343.50     448.20  557.95   20353.20  378.85   \n",
       "2019-05-08  337.50  1930.75   1299.45     439.15  558.00   20336.55  379.80   \n",
       "2019-05-09  340.40  1914.60   1256.45     439.35  557.75   20360.90  368.05   \n",
       "2019-05-10  341.55  1931.70   1251.15     437.75  555.55   20354.00  362.95   \n",
       "2019-05-13  332.05  1952.90   1232.05     398.10  546.70   18751.75  355.10   \n",
       "\n",
       "                M&M   MARUTI       LT  ...  AMARAJABAT  EXIDEIND  JUBLFOOD  \\\n",
       "2017-05-15  1375.65  6823.90  1742.40  ...      933.40    245.80   1025.45   \n",
       "2017-05-16  1366.35  6953.95  1740.70  ...      924.70    244.70   1050.65   \n",
       "2017-05-17  1378.80  6958.20  1755.45  ...      937.70    243.20   1049.05   \n",
       "2017-05-18  1352.85  6831.05  1722.60  ...      912.10    239.85   1019.35   \n",
       "2017-05-19  1333.40  6790.55  1724.55  ...      895.75    238.15   1018.10   \n",
       "...             ...      ...      ...  ...         ...       ...       ...   \n",
       "2019-05-07   636.00  6702.00  1366.60  ...      643.10    212.65   1282.25   \n",
       "2019-05-08   621.65  6650.15  1360.35  ...      636.00    208.35   1262.45   \n",
       "2019-05-09   625.45  6624.95  1356.45  ...      635.55    209.80   1268.80   \n",
       "2019-05-10   628.75  6631.60  1355.50  ...      634.90    210.20   1264.50   \n",
       "2019-05-13   617.60  6543.75  1317.65  ...      625.85    207.80   1242.60   \n",
       "\n",
       "            JINDALSTEL  BERGEPAINT  TATAPOWER   IDBI    DHFL  MINDTREE   SUNTV  \n",
       "2017-05-15      114.20       259.5      83.55  75.05  431.40    509.45  912.20  \n",
       "2017-05-16      114.10       261.5      83.85  76.65  424.45    511.30  894.70  \n",
       "2017-05-17      116.40       260.9      85.35  75.95  429.00    506.35  887.05  \n",
       "2017-05-18      113.30       254.1      83.75  69.95  417.95    492.90  871.35  \n",
       "2017-05-19      112.15       247.8      84.15  68.75  404.20    497.50  852.40  \n",
       "...                ...         ...        ...    ...     ...       ...     ...  \n",
       "2019-05-07      169.30       304.7      64.35  37.25  116.60    979.95  551.10  \n",
       "2019-05-08      170.15       303.7      64.50  37.05  116.30    980.50  528.90  \n",
       "2019-05-09      163.05       302.3      64.40  37.45  116.00    980.45  540.70  \n",
       "2019-05-10      163.25       301.6      63.80  37.25  116.40    975.35  541.15  \n",
       "2019-05-13      154.35       299.5      62.60  34.45  110.95    979.10  535.65  \n",
       "\n",
       "[494 rows x 30 columns]"
      ]
     },
     "execution_count": 5,
     "metadata": {},
     "output_type": "execute_result"
    }
   ],
   "source": [
    "final_df = pd.DataFrame()\n",
    "\n",
    "for f in final_files:\n",
    "    df = pd.read_csv(f)\n",
    "    df = pre_process(df)\n",
    "    final_df = pd.concat([final_df, df], axis=1)\n",
    "    \n",
    "column_names = [item for sublist in names for item in sublist]\n",
    "final_df.columns = column_names\n",
    "\n",
    "final_df    "
   ]
  },
  {
   "cell_type": "markdown",
   "metadata": {},
   "source": [
    "## Task 6.2"
   ]
  },
  {
   "cell_type": "code",
   "execution_count": 6,
   "metadata": {
    "ExecuteTime": {
     "end_time": "2020-06-25T11:39:34.019927Z",
     "start_time": "2020-06-25T11:39:33.950534Z"
    }
   },
   "outputs": [
    {
     "data": {
      "text/html": [
       "<div>\n",
       "<style scoped>\n",
       "    .dataframe tbody tr th:only-of-type {\n",
       "        vertical-align: middle;\n",
       "    }\n",
       "\n",
       "    .dataframe tbody tr th {\n",
       "        vertical-align: top;\n",
       "    }\n",
       "\n",
       "    .dataframe thead th {\n",
       "        text-align: right;\n",
       "    }\n",
       "</style>\n",
       "<table border=\"1\" class=\"dataframe\">\n",
       "  <thead>\n",
       "    <tr style=\"text-align: right;\">\n",
       "      <th></th>\n",
       "      <th>returns</th>\n",
       "      <th>volatility</th>\n",
       "    </tr>\n",
       "  </thead>\n",
       "  <tbody>\n",
       "    <tr>\n",
       "      <th>GAIL</th>\n",
       "      <td>-0.052551</td>\n",
       "      <td>0.338425</td>\n",
       "    </tr>\n",
       "    <tr>\n",
       "      <th>HDFC</th>\n",
       "      <td>0.137945</td>\n",
       "      <td>0.214557</td>\n",
       "    </tr>\n",
       "    <tr>\n",
       "      <th>RELIANCE</th>\n",
       "      <td>0.087318</td>\n",
       "      <td>0.439233</td>\n",
       "    </tr>\n",
       "    <tr>\n",
       "      <th>SUNPHARMA</th>\n",
       "      <td>-0.192912</td>\n",
       "      <td>0.348418</td>\n",
       "    </tr>\n",
       "    <tr>\n",
       "      <th>CIPLA</th>\n",
       "      <td>0.011817</td>\n",
       "      <td>0.254457</td>\n",
       "    </tr>\n",
       "    <tr>\n",
       "      <th>EICHERMOT</th>\n",
       "      <td>-0.176484</td>\n",
       "      <td>0.300184</td>\n",
       "    </tr>\n",
       "    <tr>\n",
       "      <th>BPCL</th>\n",
       "      <td>-0.261420</td>\n",
       "      <td>0.436424</td>\n",
       "    </tr>\n",
       "    <tr>\n",
       "      <th>M&amp;M</th>\n",
       "      <td>-0.272401</td>\n",
       "      <td>0.440570</td>\n",
       "    </tr>\n",
       "    <tr>\n",
       "      <th>MARUTI</th>\n",
       "      <td>0.003937</td>\n",
       "      <td>0.225459</td>\n",
       "    </tr>\n",
       "    <tr>\n",
       "      <th>LT</th>\n",
       "      <td>-0.085904</td>\n",
       "      <td>0.314323</td>\n",
       "    </tr>\n",
       "    <tr>\n",
       "      <th>BOMDYEING</th>\n",
       "      <td>0.431635</td>\n",
       "      <td>0.681715</td>\n",
       "    </tr>\n",
       "    <tr>\n",
       "      <th>PVR</th>\n",
       "      <td>0.111090</td>\n",
       "      <td>0.310198</td>\n",
       "    </tr>\n",
       "    <tr>\n",
       "      <th>IDFC</th>\n",
       "      <td>-0.245479</td>\n",
       "      <td>0.359303</td>\n",
       "    </tr>\n",
       "    <tr>\n",
       "      <th>JETAIRWAYS</th>\n",
       "      <td>-0.481019</td>\n",
       "      <td>0.624854</td>\n",
       "    </tr>\n",
       "    <tr>\n",
       "      <th>ASHOKA</th>\n",
       "      <td>-0.208509</td>\n",
       "      <td>0.442974</td>\n",
       "    </tr>\n",
       "    <tr>\n",
       "      <th>LEMONTREE</th>\n",
       "      <td>0.056795</td>\n",
       "      <td>0.392313</td>\n",
       "    </tr>\n",
       "    <tr>\n",
       "      <th>FORTIS</th>\n",
       "      <td>-0.145989</td>\n",
       "      <td>0.421250</td>\n",
       "    </tr>\n",
       "    <tr>\n",
       "      <th>SONATSOFTW</th>\n",
       "      <td>0.456258</td>\n",
       "      <td>0.401937</td>\n",
       "    </tr>\n",
       "    <tr>\n",
       "      <th>ITDC</th>\n",
       "      <td>-0.369385</td>\n",
       "      <td>0.527760</td>\n",
       "    </tr>\n",
       "    <tr>\n",
       "      <th>RAYMOND</th>\n",
       "      <td>0.070021</td>\n",
       "      <td>0.363834</td>\n",
       "    </tr>\n",
       "    <tr>\n",
       "      <th>AMARAJABAT</th>\n",
       "      <td>-0.168654</td>\n",
       "      <td>0.267425</td>\n",
       "    </tr>\n",
       "    <tr>\n",
       "      <th>EXIDEIND</th>\n",
       "      <td>-0.051484</td>\n",
       "      <td>0.262985</td>\n",
       "    </tr>\n",
       "    <tr>\n",
       "      <th>JUBLFOOD</th>\n",
       "      <td>0.258587</td>\n",
       "      <td>0.501025</td>\n",
       "    </tr>\n",
       "    <tr>\n",
       "      <th>JINDALSTEL</th>\n",
       "      <td>0.275371</td>\n",
       "      <td>0.492980</td>\n",
       "    </tr>\n",
       "    <tr>\n",
       "      <th>BERGEPAINT</th>\n",
       "      <td>0.108935</td>\n",
       "      <td>0.267668</td>\n",
       "    </tr>\n",
       "    <tr>\n",
       "      <th>TATAPOWER</th>\n",
       "      <td>-0.100564</td>\n",
       "      <td>0.308579</td>\n",
       "    </tr>\n",
       "    <tr>\n",
       "      <th>IDBI</th>\n",
       "      <td>-0.296008</td>\n",
       "      <td>0.453787</td>\n",
       "    </tr>\n",
       "    <tr>\n",
       "      <th>DHFL</th>\n",
       "      <td>-0.449581</td>\n",
       "      <td>0.662880</td>\n",
       "    </tr>\n",
       "    <tr>\n",
       "      <th>MINDTREE</th>\n",
       "      <td>0.392570</td>\n",
       "      <td>0.341485</td>\n",
       "    </tr>\n",
       "    <tr>\n",
       "      <th>SUNTV</th>\n",
       "      <td>-0.205704</td>\n",
       "      <td>0.365414</td>\n",
       "    </tr>\n",
       "  </tbody>\n",
       "</table>\n",
       "</div>"
      ],
      "text/plain": [
       "             returns  volatility\n",
       "GAIL       -0.052551    0.338425\n",
       "HDFC        0.137945    0.214557\n",
       "RELIANCE    0.087318    0.439233\n",
       "SUNPHARMA  -0.192912    0.348418\n",
       "CIPLA       0.011817    0.254457\n",
       "EICHERMOT  -0.176484    0.300184\n",
       "BPCL       -0.261420    0.436424\n",
       "M&M        -0.272401    0.440570\n",
       "MARUTI      0.003937    0.225459\n",
       "LT         -0.085904    0.314323\n",
       "BOMDYEING   0.431635    0.681715\n",
       "PVR         0.111090    0.310198\n",
       "IDFC       -0.245479    0.359303\n",
       "JETAIRWAYS -0.481019    0.624854\n",
       "ASHOKA     -0.208509    0.442974\n",
       "LEMONTREE   0.056795    0.392313\n",
       "FORTIS     -0.145989    0.421250\n",
       "SONATSOFTW  0.456258    0.401937\n",
       "ITDC       -0.369385    0.527760\n",
       "RAYMOND     0.070021    0.363834\n",
       "AMARAJABAT -0.168654    0.267425\n",
       "EXIDEIND   -0.051484    0.262985\n",
       "JUBLFOOD    0.258587    0.501025\n",
       "JINDALSTEL  0.275371    0.492980\n",
       "BERGEPAINT  0.108935    0.267668\n",
       "TATAPOWER  -0.100564    0.308579\n",
       "IDBI       -0.296008    0.453787\n",
       "DHFL       -0.449581    0.662880\n",
       "MINDTREE    0.392570    0.341485\n",
       "SUNTV      -0.205704    0.365414"
      ]
     },
     "execution_count": 6,
     "metadata": {},
     "output_type": "execute_result"
    }
   ],
   "source": [
    "portfolio = pd.DataFrame()\n",
    "portfolio['returns']    = final_df.pct_change().mean() * 252\n",
    "portfolio['volatility'] = final_df.pct_change().std()  * np.sqrt(252)\n",
    "portfolio"
   ]
  },
  {
   "cell_type": "markdown",
   "metadata": {},
   "source": [
    "## Task 6.3"
   ]
  },
  {
   "cell_type": "code",
   "execution_count": 7,
   "metadata": {
    "ExecuteTime": {
     "end_time": "2020-06-25T11:39:34.700380Z",
     "start_time": "2020-06-25T11:39:34.030344Z"
    }
   },
   "outputs": [
    {
     "data": {
      "image/png": "[encoded data removed]",
      "text/plain": [
       "<Figure size 1152x576 with 1 Axes>"
      ]
     },
     "metadata": {
      "needs_background": "light"
     },
     "output_type": "display_data"
    }
   ],
   "source": [
    "plt.figure(figsize=(16, 8))\n",
    "sns.set_style('darkgrid')\n",
    "sns.scatterplot(x='returns', y='volatility', data =portfolio, s=100);"
   ]
  },
  {
   "cell_type": "code",
   "execution_count": 8,
   "metadata": {
    "ExecuteTime": {
     "end_time": "2020-06-25T11:39:34.716979Z",
     "start_time": "2020-06-25T11:39:34.704067Z"
    }
   },
   "outputs": [],
   "source": [
    "X = np.array(portfolio[['returns','volatility']])\n",
    "distortions = []\n",
    "score = []"
   ]
  },
  {
   "cell_type": "code",
   "execution_count": 9,
   "metadata": {
    "ExecuteTime": {
     "end_time": "2020-06-25T11:39:35.312067Z",
     "start_time": "2020-06-25T11:39:34.721570Z"
    }
   },
   "outputs": [],
   "source": [
    "K = range(2,10)\n",
    "for k in K:\n",
    "    model = KMeans(n_clusters = k, random_state=7).fit(X)\n",
    "    class_predictions = model.predict(X)\n",
    "    distortions.append(model.inertia_)\n",
    "    score.append(silhouette_score(X, class_predictions))\n",
    "    "
   ]
  },
  {
   "cell_type": "code",
   "execution_count": 10,
   "metadata": {
    "ExecuteTime": {
     "end_time": "2020-06-25T11:39:35.333281Z",
     "start_time": "2020-06-25T11:39:35.317212Z"
    }
   },
   "outputs": [
    {
     "data": {
      "text/plain": [
       "[0.46155358519270157,\n",
       " 0.4670508591910598,\n",
       " 0.4915195322520569,\n",
       " 0.4385918471270232,\n",
       " 0.449097938850837,\n",
       " 0.4544953637188538,\n",
       " 0.46054878436595686,\n",
       " 0.47342589237750626]"
      ]
     },
     "execution_count": 10,
     "metadata": {},
     "output_type": "execute_result"
    }
   ],
   "source": [
    "score"
   ]
  },
  {
   "cell_type": "code",
   "execution_count": 11,
   "metadata": {
    "ExecuteTime": {
     "end_time": "2020-06-25T11:39:36.686618Z",
     "start_time": "2020-06-25T11:39:35.343631Z"
    }
   },
   "outputs": [
    {
     "data": {
      "image/png": "[encoded data removed]",
      "text/plain": [
       "<Figure size 1152x576 with 2 Axes>"
      ]
     },
     "metadata": {},
     "output_type": "display_data"
    }
   ],
   "source": [
    "fig, axes = plt.subplots(1,2, figsize=(16,8))\n",
    "axes[0].plot(K, distortions, 'bx-')\n",
    "axes[0].set_title('Elbow Curve for Optimal k')    \n",
    "axes[0].set_xlabel('No. of Clusters')\n",
    "axes[0].set_ylabel('Distortion')\n",
    "\n",
    "axes[1].plot(K, score)\n",
    "axes[1].set_title('Silhouette Score for Optimal k')    \n",
    "axes[1].set_xlabel('No. of Clusters')\n",
    "axes[1].set_ylabel('Score')\n",
    "\n",
    "plt.show()"
   ]
  },
  {
   "cell_type": "markdown",
   "metadata": {},
   "source": [
    "Now, both the methods - Elbow Curve method and Silhouette Score method suggests the optimal number of clusters as 4. So let's move further with optimal number of clusters as 4."
   ]
  },
  {
   "cell_type": "code",
   "execution_count": 12,
   "metadata": {
    "ExecuteTime": {
     "end_time": "2020-06-25T11:39:36.761389Z",
     "start_time": "2020-06-25T11:39:36.688789Z"
    }
   },
   "outputs": [],
   "source": [
    "model = KMeans(n_clusters=4, random_state=7)\n",
    "model.fit(portfolio)\n",
    "portfolio['Cluster_Name']=model.predict(portfolio)"
   ]
  },
  {
   "cell_type": "code",
   "execution_count": 13,
   "metadata": {
    "ExecuteTime": {
     "end_time": "2020-06-25T11:39:37.510745Z",
     "start_time": "2020-06-25T11:39:36.765081Z"
    },
    "scrolled": false
   },
   "outputs": [
    {
     "data": {
      "image/png": "[encoded data removed]",
      "text/plain": [
       "<Figure size 1152x576 with 1 Axes>"
      ]
     },
     "metadata": {},
     "output_type": "display_data"
    }
   ],
   "source": [
    "plt.figure(figsize=(16, 8))\n",
    "sns.scatterplot(x = 'returns', y = 'volatility', hue = 'Cluster_Name', data = portfolio, palette=\"Set2\", s=100)\n",
    "plt.show()"
   ]
  },
  {
   "cell_type": "markdown",
   "metadata": {},
   "source": [
    "## Task 6.4"
   ]
  },
  {
   "cell_type": "code",
   "execution_count": 14,
   "metadata": {
    "ExecuteTime": {
     "end_time": "2020-06-25T11:39:37.544278Z",
     "start_time": "2020-06-25T11:39:37.515541Z"
    }
   },
   "outputs": [],
   "source": [
    "cluster_0 = portfolio[portfolio.Cluster_Name == 0]\n",
    "cluster_1 = portfolio[portfolio.Cluster_Name == 1]\n",
    "cluster_2 = portfolio[portfolio.Cluster_Name == 2]\n",
    "cluster_3 = portfolio[portfolio.Cluster_Name == 3]"
   ]
  },
  {
   "cell_type": "code",
   "execution_count": 15,
   "metadata": {
    "ExecuteTime": {
     "end_time": "2020-06-25T11:39:37.611718Z",
     "start_time": "2020-06-25T11:39:37.551484Z"
    }
   },
   "outputs": [
    {
     "name": "stdout",
     "output_type": "stream",
     "text": [
      "Cluster 0: \n",
      "             returns  volatility  Cluster_Name\n",
      "BOMDYEING   0.431635    0.681715             0\n",
      "SONATSOFTW  0.456258    0.401937             0\n",
      "JUBLFOOD    0.258587    0.501025             0\n",
      "JINDALSTEL  0.275371    0.492980             0\n",
      "MINDTREE    0.392570    0.341485             0\n",
      "----------------------------------------------\n",
      "Cluster 1: \n",
      "             returns  volatility  Cluster_Name\n",
      "SUNPHARMA  -0.192912    0.348418             1\n",
      "EICHERMOT  -0.176484    0.300184             1\n",
      "BPCL       -0.261420    0.436424             1\n",
      "M&M        -0.272401    0.440570             1\n",
      "IDFC       -0.245479    0.359303             1\n",
      "ASHOKA     -0.208509    0.442974             1\n",
      "FORTIS     -0.145989    0.421250             1\n",
      "AMARAJABAT -0.168654    0.267425             1\n",
      "IDBI       -0.296008    0.453787             1\n",
      "SUNTV      -0.205704    0.365414             1\n",
      "----------------------------------------------\n",
      "Cluster 2: \n",
      "             returns  volatility  Cluster_Name\n",
      "GAIL       -0.052551    0.338425             2\n",
      "HDFC        0.137945    0.214557             2\n",
      "RELIANCE    0.087318    0.439233             2\n",
      "CIPLA       0.011817    0.254457             2\n",
      "MARUTI      0.003937    0.225459             2\n",
      "LT         -0.085904    0.314323             2\n",
      "PVR         0.111090    0.310198             2\n",
      "LEMONTREE   0.056795    0.392313             2\n",
      "RAYMOND     0.070021    0.363834             2\n",
      "EXIDEIND   -0.051484    0.262985             2\n",
      "BERGEPAINT  0.108935    0.267668             2\n",
      "TATAPOWER  -0.100564    0.308579             2\n",
      "----------------------------------------------\n",
      "Cluster 3: \n",
      "             returns  volatility  Cluster_Name\n",
      "JETAIRWAYS -0.481019    0.624854             3\n",
      "ITDC       -0.369385    0.527760             3\n",
      "DHFL       -0.449581    0.662880             3\n"
     ]
    }
   ],
   "source": [
    "print(\"Cluster 0: \")\n",
    "print(cluster_0)\n",
    "print(\"----------------------------------------------\")\n",
    "print(\"Cluster 1: \")\n",
    "print(cluster_1)\n",
    "print(\"----------------------------------------------\")\n",
    "print(\"Cluster 2: \")\n",
    "print(cluster_2)\n",
    "print(\"----------------------------------------------\")\n",
    "print(\"Cluster 3: \")\n",
    "print(cluster_3)"
   ]
  },
  {
   "cell_type": "code",
   "execution_count": 16,
   "metadata": {
    "ExecuteTime": {
     "end_time": "2020-06-25T11:39:37.630952Z",
     "start_time": "2020-06-25T11:39:37.618263Z"
    }
   },
   "outputs": [],
   "source": [
    "returns = np.array(portfolio['returns'])\n",
    "volatility = np.array(portfolio['volatility'])"
   ]
  },
  {
   "cell_type": "code",
   "execution_count": 17,
   "metadata": {
    "ExecuteTime": {
     "end_time": "2020-06-25T11:39:38.851323Z",
     "start_time": "2020-06-25T11:39:37.636915Z"
    }
   },
   "outputs": [
    {
     "data": {
      "image/png": "[encoded data removed]",
      "text/plain": [
       "<Figure size 1152x576 with 1 Axes>"
      ]
     },
     "metadata": {},
     "output_type": "display_data"
    }
   ],
   "source": [
    "plt.figure(figsize=(16, 8))\n",
    "\n",
    "sns.scatterplot(x = 'returns', y = 'volatility', hue = 'Cluster_Name', data = portfolio, palette=\"Set2\", s=100)\n",
    "\n",
    "for i,txt in enumerate(column_names):\n",
    "    plt.annotate(txt, (returns[i], volatility[i]), size=10)\n",
    "plt.xlabel('Return')\n",
    "plt.ylabel('Volatility')\n",
    "plt.legend();"
   ]
  }
 ],
 "metadata": {
  "kernelspec": {
   "display_name": "Python 3",
   "language": "python",
   "name": "python3"
  },
  "language_info": {
   "codemirror_mode": {
    "name": "ipython",
    "version": 3
   },
   "file_extension": ".py",
   "mimetype": "text/x-python",
   "name": "python",
   "nbconvert_exporter": "python",
   "pygments_lexer": "ipython3",
   "version": "3.7.6"
  }
 },
 "nbformat": 4,
 "nbformat_minor": 4
}
