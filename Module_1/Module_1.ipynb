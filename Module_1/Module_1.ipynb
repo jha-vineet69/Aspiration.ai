{
 "cells": [
  {
   "cell_type": "markdown",
   "metadata": {},
   "source": [
    "## Task 1.1"
   ]
  },
  {
   "cell_type": "code",
   "execution_count": 1,
   "metadata": {
    "ExecuteTime": {
     "end_time": "2020-06-25T11:32:38.959842Z",
     "start_time": "2020-06-25T11:32:35.778655Z"
    }
   },
   "outputs": [],
   "source": [
    "import numpy as np \n",
    "import pandas as pd \n",
    "import seaborn as sns \n",
    "import matplotlib.pyplot as plt\n",
    "plt.style.use('seaborn')"
   ]
  },
  {
   "cell_type": "code",
   "execution_count": 2,
   "metadata": {
    "ExecuteTime": {
     "end_time": "2020-06-25T11:32:39.027170Z",
     "start_time": "2020-06-25T11:32:38.961863Z"
    }
   },
   "outputs": [
    {
     "data": {
      "text/html": [
       "<div>\n",
       "<style scoped>\n",
       "    .dataframe tbody tr th:only-of-type {\n",
       "        vertical-align: middle;\n",
       "    }\n",
       "\n",
       "    .dataframe tbody tr th {\n",
       "        vertical-align: top;\n",
       "    }\n",
       "\n",
       "    .dataframe thead th {\n",
       "        text-align: right;\n",
       "    }\n",
       "</style>\n",
       "<table border=\"1\" class=\"dataframe\">\n",
       "  <thead>\n",
       "    <tr style=\"text-align: right;\">\n",
       "      <th></th>\n",
       "      <th>Symbol</th>\n",
       "      <th>Series</th>\n",
       "      <th>Date</th>\n",
       "      <th>Prev Close</th>\n",
       "      <th>Open Price</th>\n",
       "      <th>High Price</th>\n",
       "      <th>Low Price</th>\n",
       "      <th>Last Price</th>\n",
       "      <th>Close Price</th>\n",
       "      <th>Average Price</th>\n",
       "      <th>Total Traded Quantity</th>\n",
       "      <th>Turnover</th>\n",
       "      <th>No. of Trades</th>\n",
       "      <th>Deliverable Qty</th>\n",
       "      <th>% Dly Qt to Traded Qty</th>\n",
       "    </tr>\n",
       "  </thead>\n",
       "  <tbody>\n",
       "    <tr>\n",
       "      <th>0</th>\n",
       "      <td>TCS</td>\n",
       "      <td>EQ</td>\n",
       "      <td>15-May-2017</td>\n",
       "      <td>2360.65</td>\n",
       "      <td>2375.1</td>\n",
       "      <td>2377.95</td>\n",
       "      <td>2341.60</td>\n",
       "      <td>2368.00</td>\n",
       "      <td>2365.10</td>\n",
       "      <td>2352.60</td>\n",
       "      <td>908802</td>\n",
       "      <td>2.138043e+09</td>\n",
       "      <td>30047</td>\n",
       "      <td>712450</td>\n",
       "      <td>78.39</td>\n",
       "    </tr>\n",
       "    <tr>\n",
       "      <th>1</th>\n",
       "      <td>TCS</td>\n",
       "      <td>EQ</td>\n",
       "      <td>16-May-2017</td>\n",
       "      <td>2365.10</td>\n",
       "      <td>2380.0</td>\n",
       "      <td>2435.00</td>\n",
       "      <td>2373.45</td>\n",
       "      <td>2425.10</td>\n",
       "      <td>2429.15</td>\n",
       "      <td>2410.26</td>\n",
       "      <td>1800513</td>\n",
       "      <td>4.339703e+09</td>\n",
       "      <td>58476</td>\n",
       "      <td>1167534</td>\n",
       "      <td>64.84</td>\n",
       "    </tr>\n",
       "    <tr>\n",
       "      <th>2</th>\n",
       "      <td>TCS</td>\n",
       "      <td>EQ</td>\n",
       "      <td>17-May-2017</td>\n",
       "      <td>2429.15</td>\n",
       "      <td>2433.5</td>\n",
       "      <td>2460.75</td>\n",
       "      <td>2423.00</td>\n",
       "      <td>2450.00</td>\n",
       "      <td>2455.35</td>\n",
       "      <td>2443.31</td>\n",
       "      <td>1438099</td>\n",
       "      <td>3.513729e+09</td>\n",
       "      <td>86412</td>\n",
       "      <td>1031752</td>\n",
       "      <td>71.74</td>\n",
       "    </tr>\n",
       "    <tr>\n",
       "      <th>3</th>\n",
       "      <td>TCS</td>\n",
       "      <td>EQ</td>\n",
       "      <td>18-May-2017</td>\n",
       "      <td>2455.35</td>\n",
       "      <td>2450.0</td>\n",
       "      <td>2572.00</td>\n",
       "      <td>2442.25</td>\n",
       "      <td>2525.00</td>\n",
       "      <td>2536.20</td>\n",
       "      <td>2525.78</td>\n",
       "      <td>2569297</td>\n",
       "      <td>6.489478e+09</td>\n",
       "      <td>111566</td>\n",
       "      <td>1135613</td>\n",
       "      <td>44.20</td>\n",
       "    </tr>\n",
       "    <tr>\n",
       "      <th>4</th>\n",
       "      <td>TCS</td>\n",
       "      <td>EQ</td>\n",
       "      <td>19-May-2017</td>\n",
       "      <td>2536.20</td>\n",
       "      <td>2536.2</td>\n",
       "      <td>2540.55</td>\n",
       "      <td>2486.00</td>\n",
       "      <td>2503.85</td>\n",
       "      <td>2507.15</td>\n",
       "      <td>2506.58</td>\n",
       "      <td>893022</td>\n",
       "      <td>2.238430e+09</td>\n",
       "      <td>63112</td>\n",
       "      <td>517461</td>\n",
       "      <td>57.94</td>\n",
       "    </tr>\n",
       "  </tbody>\n",
       "</table>\n",
       "</div>"
      ],
      "text/plain": [
       "  Symbol Series         Date  Prev Close  Open Price  High Price  Low Price  \\\n",
       "0    TCS     EQ  15-May-2017     2360.65      2375.1     2377.95    2341.60   \n",
       "1    TCS     EQ  16-May-2017     2365.10      2380.0     2435.00    2373.45   \n",
       "2    TCS     EQ  17-May-2017     2429.15      2433.5     2460.75    2423.00   \n",
       "3    TCS     EQ  18-May-2017     2455.35      2450.0     2572.00    2442.25   \n",
       "4    TCS     EQ  19-May-2017     2536.20      2536.2     2540.55    2486.00   \n",
       "\n",
       "   Last Price  Close Price  Average Price  Total Traded Quantity  \\\n",
       "0     2368.00      2365.10        2352.60                 908802   \n",
       "1     2425.10      2429.15        2410.26                1800513   \n",
       "2     2450.00      2455.35        2443.31                1438099   \n",
       "3     2525.00      2536.20        2525.78                2569297   \n",
       "4     2503.85      2507.15        2506.58                 893022   \n",
       "\n",
       "       Turnover  No. of Trades  Deliverable Qty  % Dly Qt to Traded Qty  \n",
       "0  2.138043e+09          30047           712450                   78.39  \n",
       "1  4.339703e+09          58476          1167534                   64.84  \n",
       "2  3.513729e+09          86412          1031752                   71.74  \n",
       "3  6.489478e+09         111566          1135613                   44.20  \n",
       "4  2.238430e+09          63112           517461                   57.94  "
      ]
     },
     "execution_count": 2,
     "metadata": {},
     "output_type": "execute_result"
    }
   ],
   "source": [
    "df = pd.read_csv('TCS.csv')\n",
    "df.head()"
   ]
  },
  {
   "cell_type": "code",
   "execution_count": 3,
   "metadata": {
    "ExecuteTime": {
     "end_time": "2020-06-25T11:32:39.043254Z",
     "start_time": "2020-06-25T11:32:39.031862Z"
    }
   },
   "outputs": [
    {
     "data": {
      "text/plain": [
       "(498, 15)"
      ]
     },
     "execution_count": 3,
     "metadata": {},
     "output_type": "execute_result"
    }
   ],
   "source": [
    "df.shape"
   ]
  },
  {
   "cell_type": "code",
   "execution_count": 4,
   "metadata": {
    "ExecuteTime": {
     "end_time": "2020-06-25T11:32:39.071501Z",
     "start_time": "2020-06-25T11:32:39.049900Z"
    }
   },
   "outputs": [
    {
     "name": "stdout",
     "output_type": "stream",
     "text": [
      "<class 'pandas.core.frame.DataFrame'>\n",
      "RangeIndex: 498 entries, 0 to 497\n",
      "Data columns (total 15 columns):\n",
      " #   Column                  Non-Null Count  Dtype  \n",
      "---  ------                  --------------  -----  \n",
      " 0   Symbol                  498 non-null    object \n",
      " 1   Series                  498 non-null    object \n",
      " 2   Date                    498 non-null    object \n",
      " 3   Prev Close              498 non-null    float64\n",
      " 4   Open Price              498 non-null    float64\n",
      " 5   High Price              498 non-null    float64\n",
      " 6   Low Price               498 non-null    float64\n",
      " 7   Last Price              498 non-null    float64\n",
      " 8   Close Price             498 non-null    float64\n",
      " 9   Average Price           498 non-null    float64\n",
      " 10  Total Traded Quantity   498 non-null    int64  \n",
      " 11  Turnover                498 non-null    float64\n",
      " 12  No. of Trades           498 non-null    int64  \n",
      " 13  Deliverable Qty         498 non-null    int64  \n",
      " 14  % Dly Qt to Traded Qty  498 non-null    float64\n",
      "dtypes: float64(9), int64(3), object(3)\n",
      "memory usage: 58.5+ KB\n"
     ]
    }
   ],
   "source": [
    "df.info()"
   ]
  },
  {
   "cell_type": "code",
   "execution_count": 5,
   "metadata": {
    "ExecuteTime": {
     "end_time": "2020-06-25T11:32:39.092799Z",
     "start_time": "2020-06-25T11:32:39.080191Z"
    }
   },
   "outputs": [
    {
     "data": {
      "text/plain": [
       "Symbol                     object\n",
       "Series                     object\n",
       "Date                       object\n",
       "Prev Close                float64\n",
       "Open Price                float64\n",
       "High Price                float64\n",
       "Low Price                 float64\n",
       "Last Price                float64\n",
       "Close Price               float64\n",
       "Average Price             float64\n",
       "Total Traded Quantity       int64\n",
       "Turnover                  float64\n",
       "No. of Trades               int64\n",
       "Deliverable Qty             int64\n",
       "% Dly Qt to Traded Qty    float64\n",
       "dtype: object"
      ]
     },
     "execution_count": 5,
     "metadata": {},
     "output_type": "execute_result"
    }
   ],
   "source": [
    "df.dtypes\n"
   ]
  },
  {
   "cell_type": "code",
   "execution_count": 6,
   "metadata": {
    "ExecuteTime": {
     "end_time": "2020-06-25T11:32:39.109887Z",
     "start_time": "2020-06-25T11:32:39.095686Z"
    }
   },
   "outputs": [
    {
     "data": {
      "text/plain": [
       "array(['TCS'], dtype=object)"
      ]
     },
     "execution_count": 6,
     "metadata": {},
     "output_type": "execute_result"
    }
   ],
   "source": [
    "df.Symbol.unique()"
   ]
  },
  {
   "cell_type": "code",
   "execution_count": 7,
   "metadata": {
    "ExecuteTime": {
     "end_time": "2020-06-25T11:32:39.127903Z",
     "start_time": "2020-06-25T11:32:39.115306Z"
    }
   },
   "outputs": [
    {
     "data": {
      "text/plain": [
       "array(['EQ', 'BL'], dtype=object)"
      ]
     },
     "execution_count": 7,
     "metadata": {},
     "output_type": "execute_result"
    }
   ],
   "source": [
    "df.Series.unique()"
   ]
  },
  {
   "cell_type": "code",
   "execution_count": 8,
   "metadata": {
    "ExecuteTime": {
     "end_time": "2020-06-25T11:32:39.490272Z",
     "start_time": "2020-06-25T11:32:39.130053Z"
    }
   },
   "outputs": [
    {
     "name": "stdout",
     "output_type": "stream",
     "text": [
      "EQ: 494\n",
      "BL:  4\n"
     ]
    },
    {
     "data": {
      "image/png": "[encoded data removed]",
      "text/plain": [
       "<Figure size 576x396 with 1 Axes>"
      ]
     },
     "metadata": {},
     "output_type": "display_data"
    }
   ],
   "source": [
    "ax = sns.countplot(df.Series,label=\"Count\")\n",
    "EQ, BL = df.Series.value_counts()\n",
    "print('EQ:',EQ)\n",
    "print('BL: ',BL)"
   ]
  },
  {
   "cell_type": "code",
   "execution_count": 9,
   "metadata": {
    "ExecuteTime": {
     "end_time": "2020-06-25T11:32:39.514960Z",
     "start_time": "2020-06-25T11:32:39.496810Z"
    }
   },
   "outputs": [
    {
     "data": {
      "text/plain": [
       "494"
      ]
     },
     "execution_count": 9,
     "metadata": {},
     "output_type": "execute_result"
    }
   ],
   "source": [
    "len(df['Date'].unique())"
   ]
  },
  {
   "cell_type": "code",
   "execution_count": 10,
   "metadata": {
    "ExecuteTime": {
     "end_time": "2020-06-25T11:32:39.535432Z",
     "start_time": "2020-06-25T11:32:39.522344Z"
    }
   },
   "outputs": [],
   "source": [
    "df = df[df['Series']!='BL']"
   ]
  },
  {
   "cell_type": "code",
   "execution_count": 11,
   "metadata": {
    "ExecuteTime": {
     "end_time": "2020-06-25T11:32:39.561614Z",
     "start_time": "2020-06-25T11:32:39.541677Z"
    }
   },
   "outputs": [
    {
     "data": {
      "text/plain": [
       "(494, 15)"
      ]
     },
     "execution_count": 11,
     "metadata": {},
     "output_type": "execute_result"
    }
   ],
   "source": [
    "df.shape"
   ]
  },
  {
   "cell_type": "code",
   "execution_count": 12,
   "metadata": {
    "ExecuteTime": {
     "end_time": "2020-06-25T11:32:39.589093Z",
     "start_time": "2020-06-25T11:32:39.571687Z"
    }
   },
   "outputs": [
    {
     "data": {
      "text/plain": [
       "array(['EQ'], dtype=object)"
      ]
     },
     "execution_count": 12,
     "metadata": {},
     "output_type": "execute_result"
    }
   ],
   "source": [
    "df.Series.unique()"
   ]
  },
  {
   "cell_type": "code",
   "execution_count": 13,
   "metadata": {
    "ExecuteTime": {
     "end_time": "2020-06-25T11:32:39.774596Z",
     "start_time": "2020-06-25T11:32:39.594487Z"
    }
   },
   "outputs": [
    {
     "data": {
      "text/html": [
       "<div>\n",
       "<style scoped>\n",
       "    .dataframe tbody tr th:only-of-type {\n",
       "        vertical-align: middle;\n",
       "    }\n",
       "\n",
       "    .dataframe tbody tr th {\n",
       "        vertical-align: top;\n",
       "    }\n",
       "\n",
       "    .dataframe thead th {\n",
       "        text-align: right;\n",
       "    }\n",
       "</style>\n",
       "<table border=\"1\" class=\"dataframe\">\n",
       "  <thead>\n",
       "    <tr style=\"text-align: right;\">\n",
       "      <th></th>\n",
       "      <th>Prev Close</th>\n",
       "      <th>Open Price</th>\n",
       "      <th>High Price</th>\n",
       "      <th>Low Price</th>\n",
       "      <th>Last Price</th>\n",
       "      <th>Close Price</th>\n",
       "      <th>Average Price</th>\n",
       "      <th>Total Traded Quantity</th>\n",
       "      <th>Turnover</th>\n",
       "      <th>No. of Trades</th>\n",
       "      <th>Deliverable Qty</th>\n",
       "      <th>% Dly Qt to Traded Qty</th>\n",
       "    </tr>\n",
       "  </thead>\n",
       "  <tbody>\n",
       "    <tr>\n",
       "      <th>count</th>\n",
       "      <td>494.000000</td>\n",
       "      <td>494.000000</td>\n",
       "      <td>494.000000</td>\n",
       "      <td>494.000000</td>\n",
       "      <td>494.000000</td>\n",
       "      <td>494.000000</td>\n",
       "      <td>494.000000</td>\n",
       "      <td>4.940000e+02</td>\n",
       "      <td>4.940000e+02</td>\n",
       "      <td>494.000000</td>\n",
       "      <td>4.940000e+02</td>\n",
       "      <td>494.000000</td>\n",
       "    </tr>\n",
       "    <tr>\n",
       "      <th>mean</th>\n",
       "      <td>2387.748684</td>\n",
       "      <td>2386.112146</td>\n",
       "      <td>2412.039575</td>\n",
       "      <td>2362.413866</td>\n",
       "      <td>2386.900911</td>\n",
       "      <td>2387.279251</td>\n",
       "      <td>2387.545040</td>\n",
       "      <td>2.154751e+06</td>\n",
       "      <td>4.914692e+09</td>\n",
       "      <td>95827.566802</td>\n",
       "      <td>1.183271e+06</td>\n",
       "      <td>56.849312</td>\n",
       "    </tr>\n",
       "    <tr>\n",
       "      <th>std</th>\n",
       "      <td>463.565049</td>\n",
       "      <td>461.347984</td>\n",
       "      <td>470.430776</td>\n",
       "      <td>457.931108</td>\n",
       "      <td>463.288365</td>\n",
       "      <td>463.709942</td>\n",
       "      <td>464.726731</td>\n",
       "      <td>2.579232e+06</td>\n",
       "      <td>6.651663e+09</td>\n",
       "      <td>57134.390316</td>\n",
       "      <td>1.600605e+06</td>\n",
       "      <td>12.114263</td>\n",
       "    </tr>\n",
       "    <tr>\n",
       "      <th>min</th>\n",
       "      <td>1721.600000</td>\n",
       "      <td>1723.000000</td>\n",
       "      <td>1734.900000</td>\n",
       "      <td>1711.150000</td>\n",
       "      <td>1723.000000</td>\n",
       "      <td>1721.600000</td>\n",
       "      <td>1725.850000</td>\n",
       "      <td>4.341100e+04</td>\n",
       "      <td>1.120856e+08</td>\n",
       "      <td>2351.000000</td>\n",
       "      <td>1.386900e+04</td>\n",
       "      <td>21.480000</td>\n",
       "    </tr>\n",
       "    <tr>\n",
       "      <th>25%</th>\n",
       "      <td>1987.912500</td>\n",
       "      <td>1989.475000</td>\n",
       "      <td>2005.500000</td>\n",
       "      <td>1973.250000</td>\n",
       "      <td>1988.887500</td>\n",
       "      <td>1987.912500</td>\n",
       "      <td>1988.825000</td>\n",
       "      <td>9.365380e+05</td>\n",
       "      <td>2.444368e+09</td>\n",
       "      <td>51852.750000</td>\n",
       "      <td>5.490995e+05</td>\n",
       "      <td>48.020000</td>\n",
       "    </tr>\n",
       "    <tr>\n",
       "      <th>50%</th>\n",
       "      <td>2398.575000</td>\n",
       "      <td>2396.925000</td>\n",
       "      <td>2433.000000</td>\n",
       "      <td>2377.650000</td>\n",
       "      <td>2398.100000</td>\n",
       "      <td>2398.575000</td>\n",
       "      <td>2402.990000</td>\n",
       "      <td>1.696750e+06</td>\n",
       "      <td>3.959611e+09</td>\n",
       "      <td>86986.500000</td>\n",
       "      <td>9.150305e+05</td>\n",
       "      <td>56.750000</td>\n",
       "    </tr>\n",
       "    <tr>\n",
       "      <th>75%</th>\n",
       "      <td>2638.237500</td>\n",
       "      <td>2635.750000</td>\n",
       "      <td>2669.450000</td>\n",
       "      <td>2619.787500</td>\n",
       "      <td>2638.000000</td>\n",
       "      <td>2638.237500</td>\n",
       "      <td>2641.310000</td>\n",
       "      <td>2.622279e+06</td>\n",
       "      <td>5.725864e+09</td>\n",
       "      <td>125993.250000</td>\n",
       "      <td>1.465679e+06</td>\n",
       "      <td>66.310000</td>\n",
       "    </tr>\n",
       "    <tr>\n",
       "      <th>max</th>\n",
       "      <td>3603.700000</td>\n",
       "      <td>3625.000000</td>\n",
       "      <td>3674.800000</td>\n",
       "      <td>3572.550000</td>\n",
       "      <td>3610.750000</td>\n",
       "      <td>3603.700000</td>\n",
       "      <td>3633.110000</td>\n",
       "      <td>4.403358e+07</td>\n",
       "      <td>1.268362e+11</td>\n",
       "      <td>482657.000000</td>\n",
       "      <td>3.155626e+07</td>\n",
       "      <td>85.180000</td>\n",
       "    </tr>\n",
       "  </tbody>\n",
       "</table>\n",
       "</div>"
      ],
      "text/plain": [
       "        Prev Close   Open Price   High Price    Low Price   Last Price  \\\n",
       "count   494.000000   494.000000   494.000000   494.000000   494.000000   \n",
       "mean   2387.748684  2386.112146  2412.039575  2362.413866  2386.900911   \n",
       "std     463.565049   461.347984   470.430776   457.931108   463.288365   \n",
       "min    1721.600000  1723.000000  1734.900000  1711.150000  1723.000000   \n",
       "25%    1987.912500  1989.475000  2005.500000  1973.250000  1988.887500   \n",
       "50%    2398.575000  2396.925000  2433.000000  2377.650000  2398.100000   \n",
       "75%    2638.237500  2635.750000  2669.450000  2619.787500  2638.000000   \n",
       "max    3603.700000  3625.000000  3674.800000  3572.550000  3610.750000   \n",
       "\n",
       "       Close Price  Average Price  Total Traded Quantity      Turnover  \\\n",
       "count   494.000000     494.000000           4.940000e+02  4.940000e+02   \n",
       "mean   2387.279251    2387.545040           2.154751e+06  4.914692e+09   \n",
       "std     463.709942     464.726731           2.579232e+06  6.651663e+09   \n",
       "min    1721.600000    1725.850000           4.341100e+04  1.120856e+08   \n",
       "25%    1987.912500    1988.825000           9.365380e+05  2.444368e+09   \n",
       "50%    2398.575000    2402.990000           1.696750e+06  3.959611e+09   \n",
       "75%    2638.237500    2641.310000           2.622279e+06  5.725864e+09   \n",
       "max    3603.700000    3633.110000           4.403358e+07  1.268362e+11   \n",
       "\n",
       "       No. of Trades  Deliverable Qty  % Dly Qt to Traded Qty  \n",
       "count     494.000000     4.940000e+02              494.000000  \n",
       "mean    95827.566802     1.183271e+06               56.849312  \n",
       "std     57134.390316     1.600605e+06               12.114263  \n",
       "min      2351.000000     1.386900e+04               21.480000  \n",
       "25%     51852.750000     5.490995e+05               48.020000  \n",
       "50%     86986.500000     9.150305e+05               56.750000  \n",
       "75%    125993.250000     1.465679e+06               66.310000  \n",
       "max    482657.000000     3.155626e+07               85.180000  "
      ]
     },
     "execution_count": 13,
     "metadata": {},
     "output_type": "execute_result"
    }
   ],
   "source": [
    "df.describe()"
   ]
  },
  {
   "cell_type": "code",
   "execution_count": 14,
   "metadata": {
    "ExecuteTime": {
     "end_time": "2020-06-25T11:32:39.800231Z",
     "start_time": "2020-06-25T11:32:39.779865Z"
    }
   },
   "outputs": [
    {
     "data": {
      "text/plain": [
       "Index(['Symbol', 'Series', 'Date', 'Prev Close', 'Open Price', 'High Price',\n",
       "       'Low Price', 'Last Price', 'Close Price', 'Average Price',\n",
       "       'Total Traded Quantity', 'Turnover', 'No. of Trades', 'Deliverable Qty',\n",
       "       '% Dly Qt to Traded Qty'],\n",
       "      dtype='object')"
      ]
     },
     "execution_count": 14,
     "metadata": {},
     "output_type": "execute_result"
    }
   ],
   "source": [
    "df.columns"
   ]
  },
  {
   "cell_type": "markdown",
   "metadata": {},
   "source": [
    "## Task 1.2"
   ]
  },
  {
   "cell_type": "code",
   "execution_count": 15,
   "metadata": {
    "ExecuteTime": {
     "end_time": "2020-06-25T11:32:39.827547Z",
     "start_time": "2020-06-25T11:32:39.806163Z"
    }
   },
   "outputs": [
    {
     "data": {
      "text/plain": [
       "404    1893.05\n",
       "405    1902.80\n",
       "406    1923.30\n",
       "407    1899.95\n",
       "408    1876.85\n",
       "        ...   \n",
       "493    2151.95\n",
       "494    2152.85\n",
       "495    2172.55\n",
       "496    2135.80\n",
       "497    2128.75\n",
       "Name: Close Price, Length: 90, dtype: float64"
      ]
     },
     "execution_count": 15,
     "metadata": {},
     "output_type": "execute_result"
    }
   ],
   "source": [
    "Close_Price = df['Close Price'][-90:]\n",
    "Close_Price"
   ]
  },
  {
   "cell_type": "code",
   "execution_count": 16,
   "metadata": {
    "ExecuteTime": {
     "end_time": "2020-06-25T11:32:39.847368Z",
     "start_time": "2020-06-25T11:32:39.834599Z"
    }
   },
   "outputs": [
    {
     "data": {
      "text/plain": [
       "2260.35"
      ]
     },
     "execution_count": 16,
     "metadata": {},
     "output_type": "execute_result"
    }
   ],
   "source": [
    "Close_Price.max()"
   ]
  },
  {
   "cell_type": "code",
   "execution_count": 17,
   "metadata": {
    "ExecuteTime": {
     "end_time": "2020-06-25T11:32:39.871884Z",
     "start_time": "2020-06-25T11:32:39.853841Z"
    }
   },
   "outputs": [
    {
     "data": {
      "text/plain": [
       "1813.25"
      ]
     },
     "execution_count": 17,
     "metadata": {},
     "output_type": "execute_result"
    }
   ],
   "source": [
    "Close_Price.min()"
   ]
  },
  {
   "cell_type": "code",
   "execution_count": 18,
   "metadata": {
    "ExecuteTime": {
     "end_time": "2020-06-25T11:32:39.890729Z",
     "start_time": "2020-06-25T11:32:39.876842Z"
    }
   },
   "outputs": [
    {
     "data": {
      "text/plain": [
       "2015.4722222222215"
      ]
     },
     "execution_count": 18,
     "metadata": {},
     "output_type": "execute_result"
    }
   ],
   "source": [
    "Close_Price.mean()"
   ]
  },
  {
   "cell_type": "markdown",
   "metadata": {},
   "source": [
    "## Task 1.3"
   ]
  },
  {
   "cell_type": "code",
   "execution_count": 19,
   "metadata": {
    "ExecuteTime": {
     "end_time": "2020-06-25T11:32:39.906100Z",
     "start_time": "2020-06-25T11:32:39.895303Z"
    }
   },
   "outputs": [],
   "source": [
    "#df['Date'] = pd.to_datetime(df['Date'])"
   ]
  },
  {
   "cell_type": "code",
   "execution_count": 20,
   "metadata": {
    "ExecuteTime": {
     "end_time": "2020-06-25T11:32:40.084283Z",
     "start_time": "2020-06-25T11:32:39.915013Z"
    }
   },
   "outputs": [],
   "source": [
    "df['Date'] = df['Date'].astype('datetime64[ns]')"
   ]
  },
  {
   "cell_type": "code",
   "execution_count": 21,
   "metadata": {
    "ExecuteTime": {
     "end_time": "2020-06-25T11:32:40.096636Z",
     "start_time": "2020-06-25T11:32:40.086146Z"
    }
   },
   "outputs": [
    {
     "data": {
      "text/plain": [
       "0   2017-05-15\n",
       "1   2017-05-16\n",
       "2   2017-05-17\n",
       "3   2017-05-18\n",
       "4   2017-05-19\n",
       "Name: Date, dtype: datetime64[ns]"
      ]
     },
     "execution_count": 21,
     "metadata": {},
     "output_type": "execute_result"
    }
   ],
   "source": [
    "df['Date'].head()"
   ]
  },
  {
   "cell_type": "code",
   "execution_count": 22,
   "metadata": {
    "ExecuteTime": {
     "end_time": "2020-06-25T11:32:40.112345Z",
     "start_time": "2020-06-25T11:32:40.100176Z"
    }
   },
   "outputs": [
    {
     "data": {
      "text/plain": [
       "Timedelta('728 days 00:00:00')"
      ]
     },
     "execution_count": 22,
     "metadata": {},
     "output_type": "execute_result"
    }
   ],
   "source": [
    "df['Date'].max() - df['Date'].min()"
   ]
  },
  {
   "cell_type": "markdown",
   "metadata": {},
   "source": [
    "## Task 1.4"
   ]
  },
  {
   "cell_type": "code",
   "execution_count": 23,
   "metadata": {
    "ExecuteTime": {
     "end_time": "2020-06-25T11:32:40.132684Z",
     "start_time": "2020-06-25T11:32:40.118376Z"
    }
   },
   "outputs": [],
   "source": [
    "df['Year'] = pd.DatetimeIndex(df['Date']).year\n",
    "df['Month'] = pd.DatetimeIndex(df['Date']).month"
   ]
  },
  {
   "cell_type": "code",
   "execution_count": 24,
   "metadata": {
    "ExecuteTime": {
     "end_time": "2020-06-25T11:32:40.174212Z",
     "start_time": "2020-06-25T11:32:40.136955Z"
    }
   },
   "outputs": [],
   "source": [
    "df['PriceVolume'] = df['Close Price']*df['Total Traded Quantity']"
   ]
  },
  {
   "cell_type": "code",
   "execution_count": 25,
   "metadata": {
    "ExecuteTime": {
     "end_time": "2020-06-25T11:32:40.211514Z",
     "start_time": "2020-06-25T11:32:40.176839Z"
    }
   },
   "outputs": [],
   "source": [
    "vwap = (df['PriceVolume'].groupby([df['Year'], df['Month']]).sum())/(df['Total Traded Quantity'].groupby([df['Year'], df['Month']]).sum())"
   ]
  },
  {
   "cell_type": "code",
   "execution_count": 26,
   "metadata": {
    "ExecuteTime": {
     "end_time": "2020-06-25T11:32:40.246293Z",
     "start_time": "2020-06-25T11:32:40.218092Z"
    }
   },
   "outputs": [
    {
     "data": {
      "text/plain": [
       "Year  Month\n",
       "2017  5        2522.558222\n",
       "      6        2482.399958\n",
       "      7        2451.589913\n",
       "      8        2498.496237\n",
       "      9        2484.492080\n",
       "      10       2535.415240\n",
       "      11       2689.828290\n",
       "      12       2612.191449\n",
       "2018  1        2940.279651\n",
       "      2        3013.787504\n",
       "      3        2890.102635\n",
       "      4        3304.601426\n",
       "      5        3245.611485\n",
       "      6        1808.974878\n",
       "      7        1948.864605\n",
       "      8        2014.839267\n",
       "      9        2109.002207\n",
       "      10       1978.059633\n",
       "      11       1905.582283\n",
       "      12       1959.523344\n",
       "2019  1        1896.268462\n",
       "      2        1999.952060\n",
       "      3        2005.996548\n",
       "      4        2109.711279\n",
       "      5        2155.782314\n",
       "dtype: float64"
      ]
     },
     "execution_count": 26,
     "metadata": {},
     "output_type": "execute_result"
    }
   ],
   "source": [
    "vwap"
   ]
  },
  {
   "cell_type": "code",
   "execution_count": 27,
   "metadata": {
    "ExecuteTime": {
     "end_time": "2020-06-25T11:32:40.266712Z",
     "start_time": "2020-06-25T11:32:40.253156Z"
    }
   },
   "outputs": [],
   "source": [
    "df.drop('PriceVolume', axis=1,inplace=True)"
   ]
  },
  {
   "cell_type": "markdown",
   "metadata": {},
   "source": [
    "## Task 1.5"
   ]
  },
  {
   "cell_type": "code",
   "execution_count": 28,
   "metadata": {
    "ExecuteTime": {
     "end_time": "2020-06-25T11:32:40.278834Z",
     "start_time": "2020-06-25T11:32:40.270088Z"
    }
   },
   "outputs": [],
   "source": [
    "def avgPrice(N):\n",
    "    return df['Close Price'][-N:].mean()"
   ]
  },
  {
   "cell_type": "code",
   "execution_count": 29,
   "metadata": {
    "ExecuteTime": {
     "end_time": "2020-06-25T11:32:40.295507Z",
     "start_time": "2020-06-25T11:32:40.285852Z"
    }
   },
   "outputs": [],
   "source": [
    "def profitLoss(N):\n",
    "    return (df['Close Price'].iloc[-1] - df['Close Price'].iloc[-N])*(100/df['Close Price'].iloc[-1])"
   ]
  },
  {
   "cell_type": "code",
   "execution_count": 30,
   "metadata": {
    "ExecuteTime": {
     "end_time": "2020-06-25T11:32:40.310441Z",
     "start_time": "2020-06-25T11:32:40.298351Z"
    }
   },
   "outputs": [],
   "source": [
    "days = [7, 14, 30, 90, 180, 365]"
   ]
  },
  {
   "cell_type": "code",
   "execution_count": 31,
   "metadata": {
    "ExecuteTime": {
     "end_time": "2020-06-25T11:32:40.342831Z",
     "start_time": "2020-06-25T11:32:40.324593Z"
    }
   },
   "outputs": [
    {
     "name": "stdout",
     "output_type": "stream",
     "text": [
      "\n",
      "Average Price of 7 days is 2147.392857\n",
      "Profit/Loss of 7 days is -0.152672 %\n",
      "\n",
      "Average Price of 14 days is 2174.357143\n",
      "Profit/Loss of 14 days is -1.536113 %\n",
      "\n",
      "Average Price of 30 days is 2109.851667\n",
      "Profit/Loss of 30 days is 7.556078 %\n",
      "\n",
      "Average Price of 90 days is 2015.472222\n",
      "Profit/Loss of 90 days is 11.072225 %\n",
      "\n",
      "Average Price of 180 days is 2003.098333\n",
      "Profit/Loss of 180 days is 5.881386 %\n",
      "\n",
      "Average Price of 365 days is 2345.070000\n",
      "Profit/Loss of 365 days is -27.177921 %\n"
     ]
    }
   ],
   "source": [
    "for day in days:\n",
    "    print(\"\\nAverage Price of {} days is {:.6f}\".format(day, avgPrice(day)))\n",
    "    print(\"Profit/Loss of {} days is {:.6f} %\".format(day, profitLoss(day)))"
   ]
  },
  {
   "cell_type": "markdown",
   "metadata": {},
   "source": [
    "## Task 1.6"
   ]
  },
  {
   "cell_type": "code",
   "execution_count": 32,
   "metadata": {
    "ExecuteTime": {
     "end_time": "2020-06-25T11:32:40.366549Z",
     "start_time": "2020-06-25T11:32:40.347819Z"
    }
   },
   "outputs": [
    {
     "data": {
      "text/plain": [
       "0      0.000000\n",
       "1      2.708131\n",
       "2      1.078567\n",
       "3      3.292810\n",
       "4     -1.145414\n",
       "         ...   \n",
       "493   -0.273420\n",
       "494    0.041823\n",
       "495    0.915066\n",
       "496   -1.691561\n",
       "497   -0.330087\n",
       "Name: Day_Perc_Change, Length: 494, dtype: float64"
      ]
     },
     "execution_count": 32,
     "metadata": {},
     "output_type": "execute_result"
    }
   ],
   "source": [
    "df['Day_Perc_Change'] = df['Close Price'].pct_change()*100\n",
    "df.at[0,\"Day_Perc_Change\"] = 0\n",
    "df['Day_Perc_Change']"
   ]
  },
  {
   "cell_type": "markdown",
   "metadata": {},
   "source": [
    "## Task 1.7"
   ]
  },
  {
   "cell_type": "code",
   "execution_count": 33,
   "metadata": {
    "ExecuteTime": {
     "end_time": "2020-06-25T11:32:40.382807Z",
     "start_time": "2020-06-25T11:32:40.369809Z"
    }
   },
   "outputs": [],
   "source": [
    "def trendCheck(x):\n",
    "    if (-0.5 < x < 0.5):\n",
    "        return 'Slight or No Change'\n",
    "    elif(0.5 < x < 1):\n",
    "        return 'Slight positive'\n",
    "    elif(-1 < x < -0.5):\n",
    "        return 'Slight negative'\n",
    "    elif(1 < x < 3):\n",
    "        return 'Positive'\n",
    "    elif(-3 < x < -1):\n",
    "        return 'Negative'\n",
    "    elif(3 < x < 7):\n",
    "        return 'Among top gainers'\n",
    "    elif(-7 < x < -3):\n",
    "        return 'Among top losers'\n",
    "    elif(x > 7):\n",
    "        return 'Bull run'\n",
    "    elif(x < -7):\n",
    "        return 'Bear drop'"
   ]
  },
  {
   "cell_type": "code",
   "execution_count": 34,
   "metadata": {
    "ExecuteTime": {
     "end_time": "2020-06-25T11:32:40.399375Z",
     "start_time": "2020-06-25T11:32:40.384300Z"
    }
   },
   "outputs": [],
   "source": [
    "df['Trend'] = df['Day_Perc_Change'].apply(trendCheck)"
   ]
  },
  {
   "cell_type": "code",
   "execution_count": 35,
   "metadata": {
    "ExecuteTime": {
     "end_time": "2020-06-25T11:32:40.419821Z",
     "start_time": "2020-06-25T11:32:40.404817Z"
    }
   },
   "outputs": [
    {
     "data": {
      "text/plain": [
       "array(['Slight or No Change', 'Positive', 'Among top gainers', 'Negative',\n",
       "       'Slight positive', 'Slight negative', 'Among top losers',\n",
       "       'Bear drop'], dtype=object)"
      ]
     },
     "execution_count": 35,
     "metadata": {},
     "output_type": "execute_result"
    }
   ],
   "source": [
    "df['Trend'].unique()"
   ]
  },
  {
   "cell_type": "markdown",
   "metadata": {},
   "source": [
    "## Task 1.8"
   ]
  },
  {
   "cell_type": "code",
   "execution_count": 36,
   "metadata": {
    "ExecuteTime": {
     "end_time": "2020-06-25T11:32:40.448419Z",
     "start_time": "2020-06-25T11:32:40.427521Z"
    }
   },
   "outputs": [
    {
     "data": {
      "text/plain": [
       "Trend\n",
       "Among top gainers      2954120\n",
       "Among top losers       4397518\n",
       "Bear drop              5049371\n",
       "Negative               1742213\n",
       "Positive               1910952\n",
       "Slight negative        1576520\n",
       "Slight or No Change    1375582\n",
       "Slight positive        1762656\n",
       "Name: Total Traded Quantity, dtype: int64"
      ]
     },
     "execution_count": 36,
     "metadata": {},
     "output_type": "execute_result"
    }
   ],
   "source": [
    "df['Total Traded Quantity'].groupby([df['Trend']]).median()"
   ]
  },
  {
   "cell_type": "code",
   "execution_count": 37,
   "metadata": {
    "ExecuteTime": {
     "end_time": "2020-06-25T11:32:40.472394Z",
     "start_time": "2020-06-25T11:32:40.452708Z"
    }
   },
   "outputs": [
    {
     "data": {
      "text/plain": [
       "Trend\n",
       "Among top gainers      4.706883e+06\n",
       "Among top losers       7.492338e+06\n",
       "Bear drop              5.049371e+06\n",
       "Negative               1.975849e+06\n",
       "Positive               2.302947e+06\n",
       "Slight negative        1.690573e+06\n",
       "Slight or No Change    1.687568e+06\n",
       "Slight positive        1.981558e+06\n",
       "Name: Total Traded Quantity, dtype: float64"
      ]
     },
     "execution_count": 37,
     "metadata": {},
     "output_type": "execute_result"
    }
   ],
   "source": [
    "df['Total Traded Quantity'].groupby([df['Trend']]).mean()"
   ]
  },
  {
   "cell_type": "markdown",
   "metadata": {},
   "source": [
    "## Task 1.9"
   ]
  },
  {
   "cell_type": "code",
   "execution_count": 38,
   "metadata": {
    "ExecuteTime": {
     "end_time": "2020-06-25T11:32:40.513915Z",
     "start_time": "2020-06-25T11:32:40.475855Z"
    }
   },
   "outputs": [],
   "source": [
    "df.to_csv('week2.csv', encoding='utf-8', index=False)"
   ]
  }
 ],
 "metadata": {
  "kernelspec": {
   "display_name": "Python 3",
   "language": "python",
   "name": "python3"
  },
  "language_info": {
   "codemirror_mode": {
    "name": "ipython",
    "version": 3
   },
   "file_extension": ".py",
   "mimetype": "text/x-python",
   "name": "python",
   "nbconvert_exporter": "python",
   "pygments_lexer": "ipython3",
   "version": "3.7.6"
  }
 },
 "nbformat": 4,
 "nbformat_minor": 4
}
